{
 "cells": [
  {
   "cell_type": "code",
   "execution_count": 2,
   "id": "1c5f6430",
   "metadata": {},
   "outputs": [],
   "source": [
    "import torch\n",
    "import torch.nn as nn\n",
    "import numpy as np\n",
    "import os\n",
    "import pandas as pd\n",
    "import matplotlib.pyplot as plt\n",
    "from PIL import Image\n",
    "from dataclasses import dataclass\n",
    "from typing import Callable\n",
    "from sklearn.model_selection import train_test_split\n",
    "from torch.utils.data import Dataset, DataLoader\n",
    "import torchvision.transforms as transforms\n",
    "from lime import lime_image\n",
    "from skimage.segmentation import mark_boundaries\n",
    "from scipy.stats import pearsonr\n",
    "from tqdm import tqdm\n",
    "from util.torch_architecture import CNN\n",
    "from util.cnn_parameters import IMG_HEIGHT, IMG_WIDTH, TEST_IMAGES_PATH, TRAIN_IMAGES_PATH\n",
    "\n",
    "IMG_SIZE = (128, 128)\n",
    "BATCH_SIZE = 32\n"
   ]
  },
  {
   "cell_type": "code",
   "execution_count": 3,
   "id": "a188849a",
   "metadata": {},
   "outputs": [
    {
     "name": "stdout",
     "output_type": "stream",
     "text": [
      "Using device: cpu\n"
     ]
    }
   ],
   "source": [
    "device = torch.device(\"cuda\" if torch.cuda.is_available() else \"cpu\")\n",
    "print(f\"Using device: {device}\")\n"
   ]
  },
  {
   "cell_type": "code",
   "execution_count": 4,
   "id": "0cff08d9",
   "metadata": {},
   "outputs": [],
   "source": [
    "DAUC = \"DAUC\"\n",
    "IAUC = \"IAUC\"\n",
    "DELETION = \"Deletion\"\n",
    "INSERTION = \"Insertion\""
   ]
  },
  {
   "cell_type": "code",
   "execution_count": 5,
   "id": "058421d4",
   "metadata": {},
   "outputs": [],
   "source": [
    "class CatDogDataset(Dataset):\n",
    "    def __init__(self, dataframe, root_dir, transform=None):\n",
    "        self.dataframe = dataframe\n",
    "        self.root_dir = root_dir\n",
    "        self.transform = transform\n",
    "        self.class_to_idx = {\"dog\": 1, \"cat\": 0}\n",
    "\n",
    "    def __len__(self):\n",
    "        return len(self.dataframe)\n",
    "\n",
    "    def __getitem__(self, idx):\n",
    "        img_name = os.path.join(self.root_dir, self.dataframe.iloc[idx][\"image\"])\n",
    "        image = Image.open(img_name).convert(\"RGB\")\n",
    "        label = self.class_to_idx[self.dataframe.iloc[idx][\"class\"]]\n",
    "\n",
    "        if self.transform:\n",
    "            image = self.transform(image)\n",
    "\n",
    "        return image, torch.tensor(label, dtype=torch.float32)\n",
    "\n",
    "def load_model():\n",
    "    \"\"\"Load the pretrained model\"\"\"\n",
    "    model = CNN()\n",
    "    model.load_state_dict(torch.load(\"cats_dogs_cnn.pth\", map_location=device))\n",
    "    model.to(device)\n",
    "    model.eval()\n",
    "    return model\n",
    "\n",
    "def load_data():\n",
    "    \"\"\"Load and prepare data for training and validation\"\"\"\n",
    "    file_names = os.listdir(TRAIN_IMAGES_PATH)\n",
    "    labels = [\"dog\" if \"dog\" in name else \"cat\" for name in file_names]\n",
    "    df = pd.DataFrame({\"image\": file_names, \"class\": labels})\n",
    "    \n",
    "    train_df, val_df = train_test_split(df, test_size=0.2, random_state=42)\n",
    "    \n",
    "    val_transforms = transforms.Compose([\n",
    "        transforms.Resize(IMG_SIZE),\n",
    "        transforms.ToTensor(),\n",
    "        transforms.Normalize(mean=[0.5], std=[0.5])\n",
    "    ])\n",
    "    \n",
    "    val_dataset = CatDogDataset(val_df, TRAIN_IMAGES_PATH, transform=val_transforms)\n",
    "    val_loader = DataLoader(val_dataset, batch_size=BATCH_SIZE, shuffle=False, num_workers=4)\n",
    "    \n",
    "    print(f\"Validation size: {len(val_dataset)}\")\n",
    "    return val_dataset, val_loader\n",
    "\n",
    "def prepare_image(img_path):\n",
    "    \"\"\"Prepare a single image for model input\"\"\"\n",
    "    transform = transforms.Compose([\n",
    "        transforms.Resize(IMG_SIZE),\n",
    "        transforms.ToTensor(),\n",
    "        transforms.Normalize(mean=[0.5], std=[0.5])\n",
    "    ])\n",
    "    \n",
    "    image = Image.open(img_path).convert(\"RGB\")\n",
    "    return transform(image).unsqueeze(0).to(device)\n"
   ]
  },
  {
   "cell_type": "code",
   "execution_count": 6,
   "id": "5d9a5e07",
   "metadata": {},
   "outputs": [],
   "source": [
    "lime_normalize = transforms.Normalize(mean=[0.5], std=[0.5])\n",
    "lime_to_tensor = transforms.ToTensor()\n",
    "\n",
    "lime_normalize = transforms.Normalize(mean=[0.5], std=[0.5])\n",
    "lime_to_tensor = transforms.ToTensor()\n",
    "\n",
    "@torch.no_grad()\n",
    "def predict_fn(images):\n",
    "    model.eval()\n",
    "\n",
    "    batch_tensors = []\n",
    "    for img_np in images:\n",
    "        tensor = lime_to_tensor(img_np).to(device)\n",
    "        normalized_tensor = lime_normalize(tensor)\n",
    "        batch_tensors.append(normalized_tensor)\n",
    "\n",
    "    batch = torch.stack(batch_tensors)\n",
    "\n",
    "    outputs = model(batch)\n",
    "\n",
    "    probs_dog = torch.sigmoid(outputs).detach().cpu().numpy()\n",
    "    probs_cat = 1 - probs_dog\n",
    "\n",
    "    return np.concatenate([probs_cat, probs_dog], axis=1)\n",
    "\n",
    "def get_lime_explanation(image_tensor, explainer, model):\n",
    "    image_pil = transforms.ToPILImage()(image_tensor.squeeze(0))\n",
    "    \n",
    "    explanation = explainer.explain_instance(\n",
    "        np.array(image_pil),\n",
    "        predict_fn,\n",
    "        top_labels=2,\n",
    "        hide_color=0,\n",
    "        num_samples=1000,\n",
    "    )\n",
    "    \n",
    "    with torch.no_grad():\n",
    "        output = model(image_tensor)\n",
    "        pred = output.item()\n",
    "    predicted_class = 1 if pred >= 0.5 else 0\n",
    "    \n",
    "    return explanation, output, predicted_class\n"
   ]
  },
  {
   "cell_type": "code",
   "execution_count": 7,
   "id": "5598b1cd",
   "metadata": {},
   "outputs": [],
   "source": [
    "@dataclass\n",
    "class CorrMetricsParams:\n",
    "    perturbed_image: Callable\n",
    "    mask: Callable\n",
    "    label: str\n",
    "\n",
    "def cloned_image(input_image):\n",
    "    return input_image.clone()\n",
    "\n",
    "def zeros_image(input_image):\n",
    "    return torch.zeros_like(input_image)\n",
    "\n",
    "def mask_set_zero(importance_map, num_remove, sorted_indices):\n",
    "    mask = torch.ones_like(importance_map.view(-1))\n",
    "    mask[sorted_indices[:num_remove]] = 0\n",
    "    return mask\n",
    "\n",
    "def mask_set_one(importance_map, num_add, sorted_indices):\n",
    "    mask = torch.zeros_like(importance_map.view(-1))\n",
    "    mask[sorted_indices[:num_add]] = 1\n",
    "    return mask\n",
    "\n",
    "del_corr = CorrMetricsParams(\n",
    "    perturbed_image=cloned_image,\n",
    "    mask=mask_set_zero,\n",
    "    label=\"removed\"\n",
    ")\n",
    "\n",
    "ins_corr = CorrMetricsParams(\n",
    "    perturbed_image=zeros_image,\n",
    "    mask=mask_set_one,\n",
    "    label=\"added\"\n",
    ")\n",
    "\n",
    "metrics_params = {\n",
    "    DAUC: True,\n",
    "    IAUC: False,\n",
    "    DELETION: del_corr,\n",
    "    INSERTION: ins_corr,\n",
    "}\n",
    "\n",
    "def apply_mask(input_image, mask, importance_map):\n",
    "    mask_reshaped = mask.view(importance_map.shape).unsqueeze(0)\n",
    "    mask_expanded = mask_reshaped.repeat(3, 1, 1)\n",
    "    return input_image * mask_expanded\n",
    "\n",
    "def get_num_pixels(input_image):\n",
    "    return input_image.shape[2] * input_image.shape[3]\n",
    "\n",
    "def get_lime_importance_map(explanation, predicted_class):\n",
    "    segments = explanation.segments\n",
    "    features = dict(explanation.local_exp[predicted_class])\n",
    "\n",
    "    importance_map_np = np.zeros(segments.shape)\n",
    "    for segment_id, importance in features.items():\n",
    "        importance_map_np[segments == segment_id] = importance\n",
    "\n",
    "    return torch.tensor(importance_map_np, dtype=torch.float32, device=device)\n"
   ]
  },
  {
   "cell_type": "code",
   "execution_count": 8,
   "id": "59824768",
   "metadata": {},
   "outputs": [],
   "source": [
    "def compute_lime_auc(model, input_image, output, explanation, predicted_class, auc, steps=10, plot=False):\n",
    "    model.eval()\n",
    "    \n",
    "    importance_map = get_lime_importance_map(explanation, predicted_class)\n",
    "    sorted_indices = importance_map.view(-1).argsort(descending=metrics_params[auc])\n",
    "    \n",
    "    perturbed_image = cloned_image(input_image)\n",
    "    perturbation_curve = []\n",
    "    num_pixels = get_num_pixels(input_image)\n",
    "    \n",
    "    for step in range(1, steps + 1):\n",
    "        num_remove = int((step / steps) * num_pixels)\n",
    "        mask = mask_set_zero(importance_map, num_remove, sorted_indices)\n",
    "        perturbed_image = apply_mask(input_image, mask, importance_map)\n",
    "        \n",
    "        with torch.no_grad():\n",
    "            output = model(perturbed_image)\n",
    "        \n",
    "        perturbation_curve.append(output.item())\n",
    "    \n",
    "    x_vals = np.linspace(0, 1, steps)\n",
    "    auc_value = np.trapz(perturbation_curve, x_vals)\n",
    "    \n",
    "    if plot:\n",
    "        plt.figure(figsize=(6, 4))\n",
    "        plt.plot(x_vals, perturbation_curve, marker='o', label=\"Score Drop\")\n",
    "        plt.xlabel(\"Fraction of pixels occluded\")\n",
    "        plt.ylabel(\"Model Output Score\")\n",
    "        plt.title(f\"LIME {auc} Evaluation (AUC = {auc_value:.4f})\")\n",
    "        plt.legend()\n",
    "        plt.show()\n",
    "    \n",
    "    return auc_value, perturbation_curve\n",
    "\n",
    "def compute_lime_ins_del_correlation(model, input_image, output, explanation, predicted_class, corr, steps=10, plot=False):\n",
    "    model.eval()\n",
    "    \n",
    "    importance_map = get_lime_importance_map(explanation, predicted_class)\n",
    "    sorted_indices = importance_map.view(-1).argsort(descending=True)\n",
    "    \n",
    "    perturbed_image = metrics_params[corr].perturbed_image(input_image)\n",
    "    perturbation_curve = []\n",
    "    num_pixels = get_num_pixels(input_image)\n",
    "    \n",
    "    for step in range(1, steps + 1):\n",
    "        num_remove = int((step / steps) * num_pixels)\n",
    "        \n",
    "        mask = metrics_params[corr].mask(importance_map, num_remove, sorted_indices)\n",
    "        perturbed_image = apply_mask(input_image, mask, importance_map)\n",
    "        \n",
    "        with torch.no_grad():\n",
    "            output = model(perturbed_image)\n",
    "        \n",
    "        perturbation_curve.append(output.item())\n",
    "    \n",
    "    x_vals = np.linspace(0, 1, steps)\n",
    "    correlation, _ = pearsonr(x_vals, perturbation_curve)\n",
    "    \n",
    "    if plot:\n",
    "        plt.figure(figsize=(6, 4))\n",
    "        plt.plot(x_vals, perturbation_curve, marker='o', label=\"Score Drop\")\n",
    "        plt.xlabel(f\"Fraction of pixels {metrics_params[corr].label}\")\n",
    "        plt.ylabel(\"Model Output Score\")\n",
    "        plt.title(f\"LIME {corr} Correlation = {correlation:.4f}\")\n",
    "        plt.legend()\n",
    "        plt.show()\n",
    "    \n",
    "    return correlation\n",
    "\n",
    "def compute_lime_average_drop(model, input_image, output, explanation, predicted_class, steps=10, plot=False):\n",
    "    model.eval()\n",
    "    \n",
    "    importance_map = get_lime_importance_map(explanation, predicted_class)\n",
    "    sorted_indices = importance_map.view(-1).argsort(descending=True)\n",
    "    \n",
    "    perturbed_image = cloned_image(input_image)\n",
    "    drop_curve = []\n",
    "    initial_output = output.item()\n",
    "    num_pixels = get_num_pixels(input_image)\n",
    "    \n",
    "    for step in range(1, steps + 1):\n",
    "        num_remove = int((step / steps) * num_pixels)\n",
    "        \n",
    "        mask = mask_set_zero(importance_map, num_remove, sorted_indices)\n",
    "        perturbed_image = apply_mask(input_image, mask, importance_map)\n",
    "        \n",
    "        with torch.no_grad():\n",
    "            output = model(perturbed_image)\n",
    "        \n",
    "        drop = initial_output - output.item()\n",
    "        drop_curve.append(drop)\n",
    "    \n",
    "    average_drop = np.mean(drop_curve)\n",
    "    \n",
    "    if plot:\n",
    "        plt.figure(figsize=(6, 4))\n",
    "        plt.plot(np.linspace(0, 1, steps), drop_curve, marker='o', label=\"Output Drop\")\n",
    "        plt.xlabel(\"Fraction of pixels removed\")\n",
    "        plt.ylabel(\"Drop in model output\")\n",
    "        plt.title(f\"LIME Average Drop = {average_drop:.4f}\")\n",
    "        plt.legend()\n",
    "        plt.show()\n",
    "    \n",
    "    return average_drop\n",
    "\n",
    "def compute_lime_increase_in_confidence(model, input_image, output, explanation, predicted_class, steps=10, plot=False):\n",
    "    model.eval()\n",
    "    \n",
    "    importance_map = get_lime_importance_map(explanation, predicted_class)\n",
    "    sorted_indices = importance_map.view(-1).argsort(descending=True)\n",
    "    \n",
    "    perturbed_image = zeros_image(input_image)\n",
    "    confidence_curve = []\n",
    "    num_pixels = get_num_pixels(input_image)\n",
    "    \n",
    "    for step in range(1, steps + 1):\n",
    "        num_add = int((step / steps) * num_pixels)\n",
    "        \n",
    "        mask = mask_set_one(importance_map, num_add, sorted_indices)\n",
    "        perturbed_image = apply_mask(input_image, mask, importance_map)\n",
    "        \n",
    "        with torch.no_grad():\n",
    "            output = model(perturbed_image)\n",
    "        \n",
    "        confidence = torch.sigmoid(output).item()\n",
    "        confidence_curve.append(confidence)\n",
    "    \n",
    "    increase_in_confidence = confidence_curve[-1] - confidence_curve[0]\n",
    "    \n",
    "    if plot:\n",
    "        plt.figure(figsize=(6, 4))\n",
    "        plt.plot(np.linspace(0, 1, steps), confidence_curve, marker='o', label=\"Confidence\")\n",
    "        plt.xlabel(\"Fraction of pixels added\")\n",
    "        plt.ylabel(\"Confidence (probability of positive class)\")\n",
    "        plt.title(f\"LIME Increase in Confidence = {increase_in_confidence:.4f}\")\n",
    "        plt.legend()\n",
    "        plt.show()\n",
    "    \n",
    "    return increase_in_confidence"
   ]
  },
  {
   "cell_type": "code",
   "execution_count": 9,
   "id": "5a6afc8b",
   "metadata": {},
   "outputs": [],
   "source": [
    "def batch_lime_metrics(model, dataset, num_images=200, steps=10):\n",
    "    explainer = lime_image.LimeImageExplainer()\n",
    "    \n",
    "    indices = list(range(min(num_images, len(dataset))))\n",
    "    \n",
    "    dauc_values = []\n",
    "    iauc_values = []\n",
    "    deletion_corr_values = []\n",
    "    insertion_corr_values = []\n",
    "    avg_drop_values = []\n",
    "    confidence_incr_values = []\n",
    "    \n",
    "    for idx in tqdm(indices, desc=\"Computing LIME metrics\"):\n",
    "        image_tensor, _ = dataset[idx]\n",
    "        input_image = image_tensor.unsqueeze(0).to(device)\n",
    "        \n",
    "        with torch.no_grad():\n",
    "            output = model(input_image)\n",
    "        \n",
    "        explanation, output, predicted_class = get_lime_explanation(input_image, explainer, model)\n",
    "        \n",
    "        dauc_value, _ = compute_lime_auc(model, input_image, output, explanation, predicted_class, auc=DAUC, steps=steps)\n",
    "        dauc_values.append(dauc_value)\n",
    "        \n",
    "        iauc_value, _ = compute_lime_auc(model, input_image, output, explanation, predicted_class, auc=IAUC, steps=steps)\n",
    "        iauc_values.append(iauc_value)\n",
    "        \n",
    "        deletion_corr = compute_lime_ins_del_correlation(model, input_image, output, explanation, predicted_class, corr=DELETION, steps=steps)\n",
    "        deletion_corr_values.append(deletion_corr)\n",
    "        \n",
    "        insertion_corr = compute_lime_ins_del_correlation(model, input_image, output, explanation, predicted_class, corr=INSERTION, steps=steps)\n",
    "        insertion_corr_values.append(insertion_corr)\n",
    "        \n",
    "        avg_drop = compute_lime_average_drop(model, input_image, output, explanation, predicted_class, steps=steps)\n",
    "        avg_drop_values.append(avg_drop)\n",
    "        \n",
    "        confidence_incr = compute_lime_increase_in_confidence(model, input_image, output, explanation, predicted_class, steps=steps)\n",
    "        confidence_incr_values.append(confidence_incr)\n",
    "    \n",
    "    results = {\n",
    "        \"DAUC\": np.mean(dauc_values),\n",
    "        \"IAUC\": np.mean(iauc_values),\n",
    "        \"Deletion Correlation\": np.mean(deletion_corr_values),\n",
    "        \"Insertion Correlation\": np.mean(insertion_corr_values),\n",
    "        \"Average Drop\": np.mean(avg_drop_values),\n",
    "        \"Increase in Confidence\": np.mean(confidence_incr_values)\n",
    "    }\n",
    "    \n",
    "    return results\n"
   ]
  },
  {
   "cell_type": "code",
   "execution_count": 10,
   "id": "855b60cf",
   "metadata": {},
   "outputs": [],
   "source": [
    "def visualize_lime_explanation(image_tensor, explanation, predicted_class):\n",
    "    img_vis = image_tensor.clone().squeeze(0).cpu()\n",
    "    img_vis = img_vis * 0.5 + 0.5\n",
    "    img_vis = torch.clamp(img_vis, 0, 1)\n",
    "    image_pil = transforms.ToPILImage()(img_vis)\n",
    "\n",
    "    try:\n",
    "        temp_image, mask = explanation.get_image_and_mask(\n",
    "            label=predicted_class,\n",
    "            positive_only=True,\n",
    "            hide_rest=False,\n",
    "            num_features=10,\n",
    "            min_weight=0.01\n",
    "        )\n",
    "\n",
    "    except KeyError:\n",
    "         print(f\"Warning: Predicted class {predicted_class} not in explanation labels for visualization.\")\n",
    "         label_to_show = 0 if 0 in explanation.local_exp else (1 if 1 in explanation.local_exp else None)\n",
    "         if label_to_show is not None:\n",
    "             print(f\"Showing explanation for label {label_to_show} instead.\")\n",
    "             temp_image, mask = explanation.get_image_and_mask(\n",
    "                 label=label_to_show,\n",
    "                 positive_only=True,\n",
    "                 hide_rest=True,\n",
    "                 num_features=10,\n",
    "                 min_weight=0.01\n",
    "             )\n",
    "         else:\n",
    "             print(\"Error: Cannot generate visualization. No valid labels found in explanation.\")\n",
    "             plt.figure(figsize=(6, 5))\n",
    "             plt.imshow(image_pil)\n",
    "             plt.title(f\"Original Image (Pred: {'Dog' if predicted_class == 1 else 'Cat'})\\n(Explanation Failed)\")\n",
    "             plt.axis(\"off\")\n",
    "             plt.show()\n",
    "             return\n",
    "\n",
    "    plt.figure(figsize=(12, 5))\n",
    "\n",
    "    plt.subplot(1, 2, 1)\n",
    "    plt.imshow(image_pil)\n",
    "    plt.title(f\"Original Image (Pred: {'Dog' if predicted_class == 1 else 'Cat'})\")\n",
    "    plt.axis(\"off\")\n",
    "\n",
    "    plt.subplot(1, 2, 2)\n",
    "\n",
    "    img_display = temp_image / 255.0 if temp_image.max() > 1 else temp_image\n",
    "    plt.imshow(mark_boundaries(img_display, mask))\n",
    "    plt.title(\"LIME Explanation\")\n",
    "    plt.axis(\"off\")\n",
    "\n",
    "    plt.tight_layout()\n",
    "    plt.show()\n",
    "\n",
    "def visualize_lime_metrics(model, input_image, explanation, output, predicted_class, steps=10):\n",
    "    plt.figure(figsize=(16, 12))\n",
    "    \n",
    "    plt.subplot(2, 3, 1)\n",
    "    dauc_value, dauc_curve = compute_lime_auc(model, input_image, output, explanation, predicted_class, auc=DAUC, steps=steps)\n",
    "    plt.plot(np.linspace(0, 1, steps), dauc_curve, marker='o')\n",
    "    plt.xlabel(\"Fraction of pixels occluded\")\n",
    "    plt.ylabel(\"Model Output Score\")\n",
    "    plt.title(f\"DAUC = {dauc_value:.4f}\")\n",
    "    \n",
    "    plt.subplot(2, 3, 2)\n",
    "    iauc_value, iauc_curve = compute_lime_auc(model, input_image, output, explanation, predicted_class, auc=IAUC, steps=steps)\n",
    "    plt.plot(np.linspace(0, 1, steps), iauc_curve, marker='o')\n",
    "    plt.xlabel(\"Fraction of pixels occluded\")\n",
    "    plt.ylabel(\"Model Output Score\")\n",
    "    plt.title(f\"IAUC = {iauc_value:.4f}\")\n",
    "    \n",
    "    plt.subplot(2, 3, 3)\n",
    "    deletion_corr = compute_lime_ins_del_correlation(model, input_image, output, explanation, predicted_class, corr=DELETION, steps=steps)\n",
    "    x_vals = np.linspace(0, 1, steps)\n",
    "    plt.plot(x_vals, dauc_curve, marker='o')\n",
    "    plt.xlabel(\"Fraction of pixels removed\")\n",
    "    plt.ylabel(\"Model Output Score\")\n",
    "    plt.title(f\"Deletion Correlation = {deletion_corr:.4f}\")\n",
    "    \n",
    "    plt.subplot(2, 3, 4)\n",
    "    insertion_corr = compute_lime_ins_del_correlation(model, input_image, output, explanation, predicted_class, corr=INSERTION, steps=steps)\n",
    "    perturbed_image = zeros_image(input_image)\n",
    "    insertion_curve = []\n",
    "    importance_map = get_lime_importance_map(explanation, predicted_class)\n",
    "    sorted_indices = importance_map.view(-1).argsort(descending=True)\n",
    "    num_pixels = get_num_pixels(input_image)\n",
    "    \n",
    "    for step in range(1, steps + 1):\n",
    "        num_add = int((step / steps) * num_pixels)\n",
    "        mask = mask_set_one(importance_map, num_add, sorted_indices)\n",
    "        perturbed_image = apply_mask(input_image, mask, importance_map)\n",
    "        with torch.no_grad():\n",
    "            output_step = model(perturbed_image)\n",
    "        insertion_curve.append(output_step.item())\n",
    "    \n",
    "    plt.plot(x_vals, insertion_curve, marker='o')\n",
    "    plt.xlabel(\"Fraction of pixels added\")\n",
    "    plt.ylabel(\"Model Output Score\")\n",
    "    plt.title(f\"Insertion Correlation = {insertion_corr:.4f}\")\n",
    "    \n",
    "    plt.subplot(2, 3, 5)\n",
    "    avg_drop = compute_lime_average_drop(model, input_image, output, explanation, predicted_class, steps=steps)\n",
    "    drop_curve = [output.item() - score for score in dauc_curve]\n",
    "    plt.plot(x_vals, drop_curve, marker='o')\n",
    "    plt.xlabel(\"Fraction of pixels removed\")\n",
    "    plt.ylabel(\"Drop in model output\")\n",
    "    plt.title(f\"Average Drop = {avg_drop:.4f}\")\n",
    "    \n",
    "    plt.subplot(2, 3, 6)\n",
    "    confidence_incr = compute_lime_increase_in_confidence(model, input_image, output, explanation, predicted_class, steps=steps)\n",
    "    confidence_curve = [torch.sigmoid(torch.tensor(score)).item() for score in insertion_curve]\n",
    "    plt.plot(x_vals, confidence_curve, marker='o')\n",
    "    plt.xlabel(\"Fraction of pixels added\")\n",
    "    plt.ylabel(\"Confidence (probability)\")\n",
    "    plt.title(f\"Increase in Confidence = {confidence_incr:.4f}\")\n",
    "    \n",
    "    plt.tight_layout()\n",
    "    plt.show()\n",
    "    \n",
    "    print(\"\\nLIME Metrics Summary:\")\n",
    "    print(f\"DAUC: {dauc_value:.4f}\")\n",
    "    print(f\"IAUC: {iauc_value:.4f}\")\n",
    "    print(f\"Deletion Correlation: {deletion_corr:.4f}\")\n",
    "    print(f\"Insertion Correlation: {insertion_corr:.4f}\")\n",
    "    print(f\"Average Drop: {avg_drop:.4f}\")\n",
    "    print(f\"Increase in Confidence: {confidence_incr:.4f}\")"
   ]
  },
  {
   "cell_type": "code",
   "execution_count": 11,
   "id": "babd2749",
   "metadata": {},
   "outputs": [
    {
     "name": "stdout",
     "output_type": "stream",
     "text": [
      "Validation size: 5000\n"
     ]
    },
    {
     "data": {
      "application/vnd.jupyter.widget-view+json": {
       "model_id": "4280567e130f4d64a2905169e431ea81",
       "version_major": 2,
       "version_minor": 0
      },
      "text/plain": [
       "  0%|          | 0/1000 [00:00<?, ?it/s]"
      ]
     },
     "metadata": {},
     "output_type": "display_data"
    },
    {
     "data": {
      "image/png": "[encoded data removed]",
      "text/plain": [
       "<Figure size 1200x500 with 2 Axes>"
      ]
     },
     "metadata": {},
     "output_type": "display_data"
    },
    {
     "name": "stderr",
     "output_type": "stream",
     "text": [
      "C:\\Users\\sonbu\\AppData\\Local\\Temp\\ipykernel_28716\\211464218.py:22: DeprecationWarning: `trapz` is deprecated. Use `trapezoid` instead, or one of the numerical integration functions in `scipy.integrate`.\n",
      "  auc_value = np.trapz(perturbation_curve, x_vals)\n"
     ]
    },
    {
     "data": {
      "image/png": "[encoded data removed]",
      "text/plain": [
       "<Figure size 1600x1200 with 6 Axes>"
      ]
     },
     "metadata": {},
     "output_type": "display_data"
    },
    {
     "name": "stdout",
     "output_type": "stream",
     "text": [
      "\n",
      "LIME Metrics Summary:\n",
      "DAUC: 0.2567\n",
      "IAUC: 0.0912\n",
      "Deletion Correlation: 0.8186\n",
      "Insertion Correlation: -0.1883\n",
      "Average Drop: -0.2437\n",
      "Increase in Confidence: 0.0011\n",
      "\n",
      "Computing batch metrics on 200 images...\n"
     ]
    },
    {
     "name": "stderr",
     "output_type": "stream",
     "text": [
      "Computing LIME metrics:   0%|          | 0/200 [00:00<?, ?it/s]"
     ]
    },
    {
     "data": {
      "application/vnd.jupyter.widget-view+json": {
       "model_id": "0415abf5fab445a4a20799d484466ed8",
       "version_major": 2,
       "version_minor": 0
      },
      "text/plain": [
       "  0%|          | 0/1000 [00:00<?, ?it/s]"
      ]
     },
     "metadata": {},
     "output_type": "display_data"
    },
    {
     "name": "stderr",
     "output_type": "stream",
     "text": [
      "C:\\Users\\sonbu\\AppData\\Local\\Temp\\ipykernel_28716\\211464218.py:22: DeprecationWarning: `trapz` is deprecated. Use `trapezoid` instead, or one of the numerical integration functions in `scipy.integrate`.\n",
      "  auc_value = np.trapz(perturbation_curve, x_vals)\n",
      "Computing LIME metrics:   0%|          | 1/200 [00:06<22:05,  6.66s/it]"
     ]
    },
    {
     "data": {
      "application/vnd.jupyter.widget-view+json": {
       "model_id": "52b5d7a66436493c96f2d1fbddda61c1",
       "version_major": 2,
       "version_minor": 0
      },
      "text/plain": [
       "  0%|          | 0/1000 [00:00<?, ?it/s]"
      ]
     },
     "metadata": {},
     "output_type": "display_data"
    },
    {
     "name": "stderr",
     "output_type": "stream",
     "text": [
      "C:\\Users\\sonbu\\AppData\\Local\\Temp\\ipykernel_28716\\211464218.py:22: DeprecationWarning: `trapz` is deprecated. Use `trapezoid` instead, or one of the numerical integration functions in `scipy.integrate`.\n",
      "  auc_value = np.trapz(perturbation_curve, x_vals)\n",
      "Computing LIME metrics:   1%|          | 2/200 [00:13<22:09,  6.72s/it]"
     ]
    },
    {
     "data": {
      "application/vnd.jupyter.widget-view+json": {
       "model_id": "31dcf137743f4641b07f12f7d25e4cb9",
       "version_major": 2,
       "version_minor": 0
      },
      "text/plain": [
       "  0%|          | 0/1000 [00:00<?, ?it/s]"
      ]
     },
     "metadata": {},
     "output_type": "display_data"
    },
    {
     "name": "stderr",
     "output_type": "stream",
     "text": [
      "C:\\Users\\sonbu\\AppData\\Local\\Temp\\ipykernel_28716\\211464218.py:22: DeprecationWarning: `trapz` is deprecated. Use `trapezoid` instead, or one of the numerical integration functions in `scipy.integrate`.\n",
      "  auc_value = np.trapz(perturbation_curve, x_vals)\n",
      "Computing LIME metrics:   2%|▏         | 3/200 [00:33<42:26, 12.93s/it]"
     ]
    },
    {
     "data": {
      "application/vnd.jupyter.widget-view+json": {
       "model_id": "231d2dd902a449a3b17dec3ee4156cd1",
       "version_major": 2,
       "version_minor": 0
      },
      "text/plain": [
       "  0%|          | 0/1000 [00:00<?, ?it/s]"
      ]
     },
     "metadata": {},
     "output_type": "display_data"
    },
    {
     "name": "stderr",
     "output_type": "stream",
     "text": [
      "C:\\Users\\sonbu\\AppData\\Local\\Temp\\ipykernel_28716\\211464218.py:22: DeprecationWarning: `trapz` is deprecated. Use `trapezoid` instead, or one of the numerical integration functions in `scipy.integrate`.\n",
      "  auc_value = np.trapz(perturbation_curve, x_vals)\n",
      "Computing LIME metrics:   2%|▏         | 4/200 [00:53<50:41, 15.52s/it]"
     ]
    },
    {
     "data": {
      "application/vnd.jupyter.widget-view+json": {
       "model_id": "3ca35634b6e349d084c4a53fc0ee5927",
       "version_major": 2,
       "version_minor": 0
      },
      "text/plain": [
       "  0%|          | 0/1000 [00:00<?, ?it/s]"
      ]
     },
     "metadata": {},
     "output_type": "display_data"
    },
    {
     "name": "stderr",
     "output_type": "stream",
     "text": [
      "C:\\Users\\sonbu\\AppData\\Local\\Temp\\ipykernel_28716\\211464218.py:22: DeprecationWarning: `trapz` is deprecated. Use `trapezoid` instead, or one of the numerical integration functions in `scipy.integrate`.\n",
      "  auc_value = np.trapz(perturbation_curve, x_vals)\n",
      "Computing LIME metrics:   2%|▎         | 5/200 [01:14<57:22, 17.65s/it]"
     ]
    },
    {
     "data": {
      "application/vnd.jupyter.widget-view+json": {
       "model_id": "eefa9a4eca524eae82bf3877c289b895",
       "version_major": 2,
       "version_minor": 0
      },
      "text/plain": [
       "  0%|          | 0/1000 [00:00<?, ?it/s]"
      ]
     },
     "metadata": {},
     "output_type": "display_data"
    },
    {
     "name": "stderr",
     "output_type": "stream",
     "text": [
      "C:\\Users\\sonbu\\AppData\\Local\\Temp\\ipykernel_28716\\211464218.py:22: DeprecationWarning: `trapz` is deprecated. Use `trapezoid` instead, or one of the numerical integration functions in `scipy.integrate`.\n",
      "  auc_value = np.trapz(perturbation_curve, x_vals)\n",
      "Computing LIME metrics:   3%|▎         | 6/200 [01:34<59:29, 18.40s/it]"
     ]
    },
    {
     "data": {
      "application/vnd.jupyter.widget-view+json": {
       "model_id": "f13edf8ae87d48069c26db1ca470a295",
       "version_major": 2,
       "version_minor": 0
      },
      "text/plain": [
       "  0%|          | 0/1000 [00:00<?, ?it/s]"
      ]
     },
     "metadata": {},
     "output_type": "display_data"
    },
    {
     "name": "stderr",
     "output_type": "stream",
     "text": [
      "C:\\Users\\sonbu\\AppData\\Local\\Temp\\ipykernel_28716\\211464218.py:22: DeprecationWarning: `trapz` is deprecated. Use `trapezoid` instead, or one of the numerical integration functions in `scipy.integrate`.\n",
      "  auc_value = np.trapz(perturbation_curve, x_vals)\n",
      "Computing LIME metrics:   4%|▎         | 7/200 [01:55<1:01:35, 19.15s/it]"
     ]
    },
    {
     "data": {
      "application/vnd.jupyter.widget-view+json": {
       "model_id": "414bf0d4869c4b09a3328e87b1c5e58e",
       "version_major": 2,
       "version_minor": 0
      },
      "text/plain": [
       "  0%|          | 0/1000 [00:00<?, ?it/s]"
      ]
     },
     "metadata": {},
     "output_type": "display_data"
    },
    {
     "name": "stderr",
     "output_type": "stream",
     "text": [
      "C:\\Users\\sonbu\\AppData\\Local\\Temp\\ipykernel_28716\\211464218.py:22: DeprecationWarning: `trapz` is deprecated. Use `trapezoid` instead, or one of the numerical integration functions in `scipy.integrate`.\n",
      "  auc_value = np.trapz(perturbation_curve, x_vals)\n",
      "Computing LIME metrics:   4%|▍         | 8/200 [02:15<1:02:52, 19.65s/it]"
     ]
    },
    {
     "data": {
      "application/vnd.jupyter.widget-view+json": {
       "model_id": "2f8beb750e5a41c49cb78390b48a9b76",
       "version_major": 2,
       "version_minor": 0
      },
      "text/plain": [
       "  0%|          | 0/1000 [00:00<?, ?it/s]"
      ]
     },
     "metadata": {},
     "output_type": "display_data"
    },
    {
     "name": "stderr",
     "output_type": "stream",
     "text": [
      "C:\\Users\\sonbu\\AppData\\Local\\Temp\\ipykernel_28716\\211464218.py:22: DeprecationWarning: `trapz` is deprecated. Use `trapezoid` instead, or one of the numerical integration functions in `scipy.integrate`.\n",
      "  auc_value = np.trapz(perturbation_curve, x_vals)\n",
      "Computing LIME metrics:   4%|▍         | 9/200 [02:37<1:04:07, 20.14s/it]"
     ]
    },
    {
     "data": {
      "application/vnd.jupyter.widget-view+json": {
       "model_id": "f189a08fb3784d069d549c1f84c684cf",
       "version_major": 2,
       "version_minor": 0
      },
      "text/plain": [
       "  0%|          | 0/1000 [00:00<?, ?it/s]"
      ]
     },
     "metadata": {},
     "output_type": "display_data"
    },
    {
     "name": "stderr",
     "output_type": "stream",
     "text": [
      "C:\\Users\\sonbu\\AppData\\Local\\Temp\\ipykernel_28716\\211464218.py:22: DeprecationWarning: `trapz` is deprecated. Use `trapezoid` instead, or one of the numerical integration functions in `scipy.integrate`.\n",
      "  auc_value = np.trapz(perturbation_curve, x_vals)\n",
      "Computing LIME metrics:   5%|▌         | 10/200 [02:58<1:04:31, 20.38s/it]"
     ]
    },
    {
     "data": {
      "application/vnd.jupyter.widget-view+json": {
       "model_id": "7a0f3bf9fe9e435cbb39011d35c5e184",
       "version_major": 2,
       "version_minor": 0
      },
      "text/plain": [
       "  0%|          | 0/1000 [00:00<?, ?it/s]"
      ]
     },
     "metadata": {},
     "output_type": "display_data"
    },
    {
     "name": "stderr",
     "output_type": "stream",
     "text": [
      "C:\\Users\\sonbu\\AppData\\Local\\Temp\\ipykernel_28716\\211464218.py:22: DeprecationWarning: `trapz` is deprecated. Use `trapezoid` instead, or one of the numerical integration functions in `scipy.integrate`.\n",
      "  auc_value = np.trapz(perturbation_curve, x_vals)\n",
      "Computing LIME metrics:   6%|▌         | 11/200 [03:18<1:04:10, 20.37s/it]"
     ]
    },
    {
     "data": {
      "application/vnd.jupyter.widget-view+json": {
       "model_id": "ec5c07c8d51748e6a2f09322fa04a5d6",
       "version_major": 2,
       "version_minor": 0
      },
      "text/plain": [
       "  0%|          | 0/1000 [00:00<?, ?it/s]"
      ]
     },
     "metadata": {},
     "output_type": "display_data"
    },
    {
     "name": "stderr",
     "output_type": "stream",
     "text": [
      "C:\\Users\\sonbu\\AppData\\Local\\Temp\\ipykernel_28716\\211464218.py:22: DeprecationWarning: `trapz` is deprecated. Use `trapezoid` instead, or one of the numerical integration functions in `scipy.integrate`.\n",
      "  auc_value = np.trapz(perturbation_curve, x_vals)\n",
      "Computing LIME metrics:   6%|▌         | 12/200 [03:38<1:03:38, 20.31s/it]"
     ]
    },
    {
     "data": {
      "application/vnd.jupyter.widget-view+json": {
       "model_id": "f238caa3c630487ca18f9f2b452b9cb6",
       "version_major": 2,
       "version_minor": 0
      },
      "text/plain": [
       "  0%|          | 0/1000 [00:00<?, ?it/s]"
      ]
     },
     "metadata": {},
     "output_type": "display_data"
    },
    {
     "name": "stderr",
     "output_type": "stream",
     "text": [
      "C:\\Users\\sonbu\\AppData\\Local\\Temp\\ipykernel_28716\\211464218.py:22: DeprecationWarning: `trapz` is deprecated. Use `trapezoid` instead, or one of the numerical integration functions in `scipy.integrate`.\n",
      "  auc_value = np.trapz(perturbation_curve, x_vals)\n",
      "Computing LIME metrics:   6%|▋         | 13/200 [03:58<1:03:02, 20.23s/it]"
     ]
    },
    {
     "data": {
      "application/vnd.jupyter.widget-view+json": {
       "model_id": "396a0779347340fa932fcfe8d168c329",
       "version_major": 2,
       "version_minor": 0
      },
      "text/plain": [
       "  0%|          | 0/1000 [00:00<?, ?it/s]"
      ]
     },
     "metadata": {},
     "output_type": "display_data"
    },
    {
     "name": "stderr",
     "output_type": "stream",
     "text": [
      "C:\\Users\\sonbu\\AppData\\Local\\Temp\\ipykernel_28716\\211464218.py:22: DeprecationWarning: `trapz` is deprecated. Use `trapezoid` instead, or one of the numerical integration functions in `scipy.integrate`.\n",
      "  auc_value = np.trapz(perturbation_curve, x_vals)\n",
      "Computing LIME metrics:   7%|▋         | 14/200 [04:18<1:02:31, 20.17s/it]"
     ]
    },
    {
     "data": {
      "application/vnd.jupyter.widget-view+json": {
       "model_id": "76527f85b07d480fb8b0f7beb4ce0817",
       "version_major": 2,
       "version_minor": 0
      },
      "text/plain": [
       "  0%|          | 0/1000 [00:00<?, ?it/s]"
      ]
     },
     "metadata": {},
     "output_type": "display_data"
    },
    {
     "name": "stderr",
     "output_type": "stream",
     "text": [
      "C:\\Users\\sonbu\\AppData\\Local\\Temp\\ipykernel_28716\\211464218.py:22: DeprecationWarning: `trapz` is deprecated. Use `trapezoid` instead, or one of the numerical integration functions in `scipy.integrate`.\n",
      "  auc_value = np.trapz(perturbation_curve, x_vals)\n",
      "Computing LIME metrics:   8%|▊         | 15/200 [04:38<1:02:11, 20.17s/it]"
     ]
    },
    {
     "data": {
      "application/vnd.jupyter.widget-view+json": {
       "model_id": "c096cf7c67124f7e9a1f838bb4dc9fbb",
       "version_major": 2,
       "version_minor": 0
      },
      "text/plain": [
       "  0%|          | 0/1000 [00:00<?, ?it/s]"
      ]
     },
     "metadata": {},
     "output_type": "display_data"
    },
    {
     "name": "stderr",
     "output_type": "stream",
     "text": [
      "C:\\Users\\sonbu\\AppData\\Local\\Temp\\ipykernel_28716\\211464218.py:22: DeprecationWarning: `trapz` is deprecated. Use `trapezoid` instead, or one of the numerical integration functions in `scipy.integrate`.\n",
      "  auc_value = np.trapz(perturbation_curve, x_vals)\n",
      "Computing LIME metrics:   8%|▊         | 16/200 [04:59<1:01:57, 20.20s/it]"
     ]
    },
    {
     "data": {
      "application/vnd.jupyter.widget-view+json": {
       "model_id": "b63bafaedcc241579e60fb29ba17ac55",
       "version_major": 2,
       "version_minor": 0
      },
      "text/plain": [
       "  0%|          | 0/1000 [00:00<?, ?it/s]"
      ]
     },
     "metadata": {},
     "output_type": "display_data"
    },
    {
     "name": "stderr",
     "output_type": "stream",
     "text": [
      "C:\\Users\\sonbu\\AppData\\Local\\Temp\\ipykernel_28716\\211464218.py:22: DeprecationWarning: `trapz` is deprecated. Use `trapezoid` instead, or one of the numerical integration functions in `scipy.integrate`.\n",
      "  auc_value = np.trapz(perturbation_curve, x_vals)\n",
      "Computing LIME metrics:   8%|▊         | 17/200 [05:19<1:01:56, 20.31s/it]"
     ]
    },
    {
     "data": {
      "application/vnd.jupyter.widget-view+json": {
       "model_id": "67176245be4b43cb8b8b3472355587f9",
       "version_major": 2,
       "version_minor": 0
      },
      "text/plain": [
       "  0%|          | 0/1000 [00:00<?, ?it/s]"
      ]
     },
     "metadata": {},
     "output_type": "display_data"
    },
    {
     "name": "stderr",
     "output_type": "stream",
     "text": [
      "C:\\Users\\sonbu\\AppData\\Local\\Temp\\ipykernel_28716\\211464218.py:22: DeprecationWarning: `trapz` is deprecated. Use `trapezoid` instead, or one of the numerical integration functions in `scipy.integrate`.\n",
      "  auc_value = np.trapz(perturbation_curve, x_vals)\n",
      "Computing LIME metrics:   9%|▉         | 18/200 [05:38<1:00:12, 19.85s/it]"
     ]
    },
    {
     "data": {
      "application/vnd.jupyter.widget-view+json": {
       "model_id": "f0eedd26bad241d7b18b929258ee3e03",
       "version_major": 2,
       "version_minor": 0
      },
      "text/plain": [
       "  0%|          | 0/1000 [00:00<?, ?it/s]"
      ]
     },
     "metadata": {},
     "output_type": "display_data"
    },
    {
     "name": "stderr",
     "output_type": "stream",
     "text": [
      "C:\\Users\\sonbu\\AppData\\Local\\Temp\\ipykernel_28716\\211464218.py:22: DeprecationWarning: `trapz` is deprecated. Use `trapezoid` instead, or one of the numerical integration functions in `scipy.integrate`.\n",
      "  auc_value = np.trapz(perturbation_curve, x_vals)\n",
      "Computing LIME metrics:  10%|▉         | 19/200 [05:57<59:23, 19.69s/it]  "
     ]
    },
    {
     "data": {
      "application/vnd.jupyter.widget-view+json": {
       "model_id": "fdf2bc465c904224ac01af27736b817a",
       "version_major": 2,
       "version_minor": 0
      },
      "text/plain": [
       "  0%|          | 0/1000 [00:00<?, ?it/s]"
      ]
     },
     "metadata": {},
     "output_type": "display_data"
    },
    {
     "name": "stderr",
     "output_type": "stream",
     "text": [
      "C:\\Users\\sonbu\\AppData\\Local\\Temp\\ipykernel_28716\\211464218.py:22: DeprecationWarning: `trapz` is deprecated. Use `trapezoid` instead, or one of the numerical integration functions in `scipy.integrate`.\n",
      "  auc_value = np.trapz(perturbation_curve, x_vals)\n",
      "Computing LIME metrics:  10%|█         | 20/200 [06:16<57:58, 19.32s/it]"
     ]
    },
    {
     "data": {
      "application/vnd.jupyter.widget-view+json": {
       "model_id": "4adb556517544dc4bb815dd146599452",
       "version_major": 2,
       "version_minor": 0
      },
      "text/plain": [
       "  0%|          | 0/1000 [00:00<?, ?it/s]"
      ]
     },
     "metadata": {},
     "output_type": "display_data"
    },
    {
     "name": "stderr",
     "output_type": "stream",
     "text": [
      "C:\\Users\\sonbu\\AppData\\Local\\Temp\\ipykernel_28716\\211464218.py:22: DeprecationWarning: `trapz` is deprecated. Use `trapezoid` instead, or one of the numerical integration functions in `scipy.integrate`.\n",
      "  auc_value = np.trapz(perturbation_curve, x_vals)\n",
      "Computing LIME metrics:  10%|█         | 21/200 [06:35<57:47, 19.37s/it]"
     ]
    },
    {
     "data": {
      "application/vnd.jupyter.widget-view+json": {
       "model_id": "f593ce0f1cb640a3bd1b3821077c1f1d",
       "version_major": 2,
       "version_minor": 0
      },
      "text/plain": [
       "  0%|          | 0/1000 [00:00<?, ?it/s]"
      ]
     },
     "metadata": {},
     "output_type": "display_data"
    },
    {
     "name": "stderr",
     "output_type": "stream",
     "text": [
      "C:\\Users\\sonbu\\AppData\\Local\\Temp\\ipykernel_28716\\211464218.py:22: DeprecationWarning: `trapz` is deprecated. Use `trapezoid` instead, or one of the numerical integration functions in `scipy.integrate`.\n",
      "  auc_value = np.trapz(perturbation_curve, x_vals)\n",
      "Computing LIME metrics:  11%|█         | 22/200 [07:13<1:14:14, 25.03s/it]"
     ]
    },
    {
     "data": {
      "application/vnd.jupyter.widget-view+json": {
       "model_id": "4cbfef29d9d54acba824264802b8cd5c",
       "version_major": 2,
       "version_minor": 0
      },
      "text/plain": [
       "  0%|          | 0/1000 [00:00<?, ?it/s]"
      ]
     },
     "metadata": {},
     "output_type": "display_data"
    },
    {
     "name": "stderr",
     "output_type": "stream",
     "text": [
      "C:\\Users\\sonbu\\AppData\\Local\\Temp\\ipykernel_28716\\211464218.py:22: DeprecationWarning: `trapz` is deprecated. Use `trapezoid` instead, or one of the numerical integration functions in `scipy.integrate`.\n",
      "  auc_value = np.trapz(perturbation_curve, x_vals)\n",
      "Computing LIME metrics:  12%|█▏        | 23/200 [08:00<1:33:15, 31.61s/it]"
     ]
    },
    {
     "data": {
      "application/vnd.jupyter.widget-view+json": {
       "model_id": "4e9a689cfc574d87bf6eda647e4f036d",
       "version_major": 2,
       "version_minor": 0
      },
      "text/plain": [
       "  0%|          | 0/1000 [00:00<?, ?it/s]"
      ]
     },
     "metadata": {},
     "output_type": "display_data"
    },
    {
     "name": "stderr",
     "output_type": "stream",
     "text": [
      "C:\\Users\\sonbu\\AppData\\Local\\Temp\\ipykernel_28716\\211464218.py:22: DeprecationWarning: `trapz` is deprecated. Use `trapezoid` instead, or one of the numerical integration functions in `scipy.integrate`.\n",
      "  auc_value = np.trapz(perturbation_curve, x_vals)\n",
      "Computing LIME metrics:  12%|█▏        | 24/200 [08:50<1:48:32, 37.00s/it]"
     ]
    },
    {
     "data": {
      "application/vnd.jupyter.widget-view+json": {
       "model_id": "f6aa13aa5a964314b15a733c653cf43f",
       "version_major": 2,
       "version_minor": 0
      },
      "text/plain": [
       "  0%|          | 0/1000 [00:00<?, ?it/s]"
      ]
     },
     "metadata": {},
     "output_type": "display_data"
    },
    {
     "name": "stderr",
     "output_type": "stream",
     "text": [
      "C:\\Users\\sonbu\\AppData\\Local\\Temp\\ipykernel_28716\\211464218.py:22: DeprecationWarning: `trapz` is deprecated. Use `trapezoid` instead, or one of the numerical integration functions in `scipy.integrate`.\n",
      "  auc_value = np.trapz(perturbation_curve, x_vals)\n",
      "Computing LIME metrics:  12%|█▎        | 25/200 [09:17<1:39:33, 34.13s/it]"
     ]
    },
    {
     "data": {
      "application/vnd.jupyter.widget-view+json": {
       "model_id": "c4d4c3eea6074ef6831354e296201055",
       "version_major": 2,
       "version_minor": 0
      },
      "text/plain": [
       "  0%|          | 0/1000 [00:00<?, ?it/s]"
      ]
     },
     "metadata": {},
     "output_type": "display_data"
    },
    {
     "name": "stderr",
     "output_type": "stream",
     "text": [
      "C:\\Users\\sonbu\\AppData\\Local\\Temp\\ipykernel_28716\\211464218.py:22: DeprecationWarning: `trapz` is deprecated. Use `trapezoid` instead, or one of the numerical integration functions in `scipy.integrate`.\n",
      "  auc_value = np.trapz(perturbation_curve, x_vals)\n",
      "Computing LIME metrics:  13%|█▎        | 26/200 [09:35<1:24:56, 29.29s/it]"
     ]
    },
    {
     "data": {
      "application/vnd.jupyter.widget-view+json": {
       "model_id": "3d183a5156454a61b30c302968a64cdc",
       "version_major": 2,
       "version_minor": 0
      },
      "text/plain": [
       "  0%|          | 0/1000 [00:00<?, ?it/s]"
      ]
     },
     "metadata": {},
     "output_type": "display_data"
    },
    {
     "name": "stderr",
     "output_type": "stream",
     "text": [
      "C:\\Users\\sonbu\\AppData\\Local\\Temp\\ipykernel_28716\\211464218.py:22: DeprecationWarning: `trapz` is deprecated. Use `trapezoid` instead, or one of the numerical integration functions in `scipy.integrate`.\n",
      "  auc_value = np.trapz(perturbation_curve, x_vals)\n",
      "Computing LIME metrics:  14%|█▎        | 27/200 [09:54<1:15:07, 26.05s/it]"
     ]
    },
    {
     "data": {
      "application/vnd.jupyter.widget-view+json": {
       "model_id": "8566e5a480c843fda852351775e00ba8",
       "version_major": 2,
       "version_minor": 0
      },
      "text/plain": [
       "  0%|          | 0/1000 [00:00<?, ?it/s]"
      ]
     },
     "metadata": {},
     "output_type": "display_data"
    },
    {
     "name": "stderr",
     "output_type": "stream",
     "text": [
      "C:\\Users\\sonbu\\AppData\\Local\\Temp\\ipykernel_28716\\211464218.py:22: DeprecationWarning: `trapz` is deprecated. Use `trapezoid` instead, or one of the numerical integration functions in `scipy.integrate`.\n",
      "  auc_value = np.trapz(perturbation_curve, x_vals)\n",
      "Computing LIME metrics:  14%|█▍        | 28/200 [10:12<1:08:06, 23.76s/it]"
     ]
    },
    {
     "data": {
      "application/vnd.jupyter.widget-view+json": {
       "model_id": "b689b9486be945a0b96106251ae553fb",
       "version_major": 2,
       "version_minor": 0
      },
      "text/plain": [
       "  0%|          | 0/1000 [00:00<?, ?it/s]"
      ]
     },
     "metadata": {},
     "output_type": "display_data"
    },
    {
     "name": "stderr",
     "output_type": "stream",
     "text": [
      "C:\\Users\\sonbu\\AppData\\Local\\Temp\\ipykernel_28716\\211464218.py:22: DeprecationWarning: `trapz` is deprecated. Use `trapezoid` instead, or one of the numerical integration functions in `scipy.integrate`.\n",
      "  auc_value = np.trapz(perturbation_curve, x_vals)\n",
      "Computing LIME metrics:  14%|█▍        | 29/200 [10:30<1:02:20, 21.88s/it]"
     ]
    },
    {
     "data": {
      "application/vnd.jupyter.widget-view+json": {
       "model_id": "39e9f759065e41bf8899a319798d4036",
       "version_major": 2,
       "version_minor": 0
      },
      "text/plain": [
       "  0%|          | 0/1000 [00:00<?, ?it/s]"
      ]
     },
     "metadata": {},
     "output_type": "display_data"
    },
    {
     "name": "stderr",
     "output_type": "stream",
     "text": [
      "C:\\Users\\sonbu\\AppData\\Local\\Temp\\ipykernel_28716\\211464218.py:22: DeprecationWarning: `trapz` is deprecated. Use `trapezoid` instead, or one of the numerical integration functions in `scipy.integrate`.\n",
      "  auc_value = np.trapz(perturbation_curve, x_vals)\n",
      "Computing LIME metrics:  15%|█▌        | 30/200 [10:48<58:59, 20.82s/it]  "
     ]
    },
    {
     "data": {
      "application/vnd.jupyter.widget-view+json": {
       "model_id": "172db0daa56f4597abc98f8bfdf5c509",
       "version_major": 2,
       "version_minor": 0
      },
      "text/plain": [
       "  0%|          | 0/1000 [00:00<?, ?it/s]"
      ]
     },
     "metadata": {},
     "output_type": "display_data"
    },
    {
     "name": "stderr",
     "output_type": "stream",
     "text": [
      "C:\\Users\\sonbu\\AppData\\Local\\Temp\\ipykernel_28716\\211464218.py:22: DeprecationWarning: `trapz` is deprecated. Use `trapezoid` instead, or one of the numerical integration functions in `scipy.integrate`.\n",
      "  auc_value = np.trapz(perturbation_curve, x_vals)\n",
      "Computing LIME metrics:  16%|█▌        | 31/200 [11:06<56:16, 19.98s/it]"
     ]
    },
    {
     "data": {
      "application/vnd.jupyter.widget-view+json": {
       "model_id": "f40cfae44b034168a1de1cbc1d286278",
       "version_major": 2,
       "version_minor": 0
      },
      "text/plain": [
       "  0%|          | 0/1000 [00:00<?, ?it/s]"
      ]
     },
     "metadata": {},
     "output_type": "display_data"
    },
    {
     "name": "stderr",
     "output_type": "stream",
     "text": [
      "C:\\Users\\sonbu\\AppData\\Local\\Temp\\ipykernel_28716\\211464218.py:22: DeprecationWarning: `trapz` is deprecated. Use `trapezoid` instead, or one of the numerical integration functions in `scipy.integrate`.\n",
      "  auc_value = np.trapz(perturbation_curve, x_vals)\n",
      "Computing LIME metrics:  16%|█▌        | 32/200 [11:25<54:42, 19.54s/it]"
     ]
    },
    {
     "data": {
      "application/vnd.jupyter.widget-view+json": {
       "model_id": "9b9ea6e4737c493a95dc3a1016944631",
       "version_major": 2,
       "version_minor": 0
      },
      "text/plain": [
       "  0%|          | 0/1000 [00:00<?, ?it/s]"
      ]
     },
     "metadata": {},
     "output_type": "display_data"
    },
    {
     "name": "stderr",
     "output_type": "stream",
     "text": [
      "C:\\Users\\sonbu\\AppData\\Local\\Temp\\ipykernel_28716\\211464218.py:22: DeprecationWarning: `trapz` is deprecated. Use `trapezoid` instead, or one of the numerical integration functions in `scipy.integrate`.\n",
      "  auc_value = np.trapz(perturbation_curve, x_vals)\n",
      "Computing LIME metrics:  16%|█▋        | 33/200 [11:42<52:53, 19.01s/it]"
     ]
    },
    {
     "data": {
      "application/vnd.jupyter.widget-view+json": {
       "model_id": "16abad036e2e48c78fa8991a9d3e0b74",
       "version_major": 2,
       "version_minor": 0
      },
      "text/plain": [
       "  0%|          | 0/1000 [00:00<?, ?it/s]"
      ]
     },
     "metadata": {},
     "output_type": "display_data"
    },
    {
     "name": "stderr",
     "output_type": "stream",
     "text": [
      "C:\\Users\\sonbu\\AppData\\Local\\Temp\\ipykernel_28716\\211464218.py:22: DeprecationWarning: `trapz` is deprecated. Use `trapezoid` instead, or one of the numerical integration functions in `scipy.integrate`.\n",
      "  auc_value = np.trapz(perturbation_curve, x_vals)\n",
      "Computing LIME metrics:  17%|█▋        | 34/200 [12:01<52:02, 18.81s/it]"
     ]
    },
    {
     "data": {
      "application/vnd.jupyter.widget-view+json": {
       "model_id": "db1a3218d0dc4cfe84e95e9be69b68cd",
       "version_major": 2,
       "version_minor": 0
      },
      "text/plain": [
       "  0%|          | 0/1000 [00:00<?, ?it/s]"
      ]
     },
     "metadata": {},
     "output_type": "display_data"
    },
    {
     "name": "stderr",
     "output_type": "stream",
     "text": [
      "C:\\Users\\sonbu\\AppData\\Local\\Temp\\ipykernel_28716\\211464218.py:22: DeprecationWarning: `trapz` is deprecated. Use `trapezoid` instead, or one of the numerical integration functions in `scipy.integrate`.\n",
      "  auc_value = np.trapz(perturbation_curve, x_vals)\n",
      "Computing LIME metrics:  18%|█▊        | 35/200 [12:19<50:56, 18.53s/it]"
     ]
    },
    {
     "data": {
      "application/vnd.jupyter.widget-view+json": {
       "model_id": "d748516c41eb4013adc39bc38b92447f",
       "version_major": 2,
       "version_minor": 0
      },
      "text/plain": [
       "  0%|          | 0/1000 [00:00<?, ?it/s]"
      ]
     },
     "metadata": {},
     "output_type": "display_data"
    },
    {
     "name": "stderr",
     "output_type": "stream",
     "text": [
      "C:\\Users\\sonbu\\AppData\\Local\\Temp\\ipykernel_28716\\211464218.py:22: DeprecationWarning: `trapz` is deprecated. Use `trapezoid` instead, or one of the numerical integration functions in `scipy.integrate`.\n",
      "  auc_value = np.trapz(perturbation_curve, x_vals)\n",
      "Computing LIME metrics:  18%|█▊        | 36/200 [12:38<50:59, 18.66s/it]"
     ]
    },
    {
     "data": {
      "application/vnd.jupyter.widget-view+json": {
       "model_id": "181a1d8ddd004117904f39e4a21cb71d",
       "version_major": 2,
       "version_minor": 0
      },
      "text/plain": [
       "  0%|          | 0/1000 [00:00<?, ?it/s]"
      ]
     },
     "metadata": {},
     "output_type": "display_data"
    },
    {
     "name": "stderr",
     "output_type": "stream",
     "text": [
      "C:\\Users\\sonbu\\AppData\\Local\\Temp\\ipykernel_28716\\211464218.py:22: DeprecationWarning: `trapz` is deprecated. Use `trapezoid` instead, or one of the numerical integration functions in `scipy.integrate`.\n",
      "  auc_value = np.trapz(perturbation_curve, x_vals)\n",
      "Computing LIME metrics:  18%|█▊        | 37/200 [12:56<50:16, 18.51s/it]"
     ]
    },
    {
     "data": {
      "application/vnd.jupyter.widget-view+json": {
       "model_id": "c292936bd1e84c388c307452c2aa23a3",
       "version_major": 2,
       "version_minor": 0
      },
      "text/plain": [
       "  0%|          | 0/1000 [00:00<?, ?it/s]"
      ]
     },
     "metadata": {},
     "output_type": "display_data"
    },
    {
     "name": "stderr",
     "output_type": "stream",
     "text": [
      "C:\\Users\\sonbu\\AppData\\Local\\Temp\\ipykernel_28716\\211464218.py:22: DeprecationWarning: `trapz` is deprecated. Use `trapezoid` instead, or one of the numerical integration functions in `scipy.integrate`.\n",
      "  auc_value = np.trapz(perturbation_curve, x_vals)\n",
      "Computing LIME metrics:  19%|█▉        | 38/200 [13:14<49:36, 18.37s/it]"
     ]
    },
    {
     "data": {
      "application/vnd.jupyter.widget-view+json": {
       "model_id": "5fec5a8181ba4547be6bde17c6527a6f",
       "version_major": 2,
       "version_minor": 0
      },
      "text/plain": [
       "  0%|          | 0/1000 [00:00<?, ?it/s]"
      ]
     },
     "metadata": {},
     "output_type": "display_data"
    },
    {
     "name": "stderr",
     "output_type": "stream",
     "text": [
      "C:\\Users\\sonbu\\AppData\\Local\\Temp\\ipykernel_28716\\211464218.py:22: DeprecationWarning: `trapz` is deprecated. Use `trapezoid` instead, or one of the numerical integration functions in `scipy.integrate`.\n",
      "  auc_value = np.trapz(perturbation_curve, x_vals)\n",
      "Computing LIME metrics:  20%|█▉        | 39/200 [13:32<49:04, 18.29s/it]"
     ]
    },
    {
     "data": {
      "application/vnd.jupyter.widget-view+json": {
       "model_id": "b4c7c9fa798e42f8b1fb61cc784b73f0",
       "version_major": 2,
       "version_minor": 0
      },
      "text/plain": [
       "  0%|          | 0/1000 [00:00<?, ?it/s]"
      ]
     },
     "metadata": {},
     "output_type": "display_data"
    },
    {
     "name": "stderr",
     "output_type": "stream",
     "text": [
      "C:\\Users\\sonbu\\AppData\\Local\\Temp\\ipykernel_28716\\211464218.py:22: DeprecationWarning: `trapz` is deprecated. Use `trapezoid` instead, or one of the numerical integration functions in `scipy.integrate`.\n",
      "  auc_value = np.trapz(perturbation_curve, x_vals)\n",
      "Computing LIME metrics:  20%|██        | 40/200 [13:51<49:31, 18.57s/it]"
     ]
    },
    {
     "data": {
      "application/vnd.jupyter.widget-view+json": {
       "model_id": "3f3d015138184c01832aa86154cb1b0e",
       "version_major": 2,
       "version_minor": 0
      },
      "text/plain": [
       "  0%|          | 0/1000 [00:00<?, ?it/s]"
      ]
     },
     "metadata": {},
     "output_type": "display_data"
    },
    {
     "name": "stderr",
     "output_type": "stream",
     "text": [
      "C:\\Users\\sonbu\\AppData\\Local\\Temp\\ipykernel_28716\\211464218.py:22: DeprecationWarning: `trapz` is deprecated. Use `trapezoid` instead, or one of the numerical integration functions in `scipy.integrate`.\n",
      "  auc_value = np.trapz(perturbation_curve, x_vals)\n",
      "Computing LIME metrics:  20%|██        | 41/200 [14:09<48:57, 18.48s/it]"
     ]
    },
    {
     "data": {
      "application/vnd.jupyter.widget-view+json": {
       "model_id": "8983977d71ee495e82c4d9fbac3b4e03",
       "version_major": 2,
       "version_minor": 0
      },
      "text/plain": [
       "  0%|          | 0/1000 [00:00<?, ?it/s]"
      ]
     },
     "metadata": {},
     "output_type": "display_data"
    },
    {
     "name": "stderr",
     "output_type": "stream",
     "text": [
      "C:\\Users\\sonbu\\AppData\\Local\\Temp\\ipykernel_28716\\211464218.py:22: DeprecationWarning: `trapz` is deprecated. Use `trapezoid` instead, or one of the numerical integration functions in `scipy.integrate`.\n",
      "  auc_value = np.trapz(perturbation_curve, x_vals)\n",
      "Computing LIME metrics:  21%|██        | 42/200 [14:28<48:21, 18.36s/it]"
     ]
    },
    {
     "data": {
      "application/vnd.jupyter.widget-view+json": {
       "model_id": "5a7c3e5d8c274237bfe3aba582a2db18",
       "version_major": 2,
       "version_minor": 0
      },
      "text/plain": [
       "  0%|          | 0/1000 [00:00<?, ?it/s]"
      ]
     },
     "metadata": {},
     "output_type": "display_data"
    },
    {
     "name": "stderr",
     "output_type": "stream",
     "text": [
      "C:\\Users\\sonbu\\AppData\\Local\\Temp\\ipykernel_28716\\211464218.py:22: DeprecationWarning: `trapz` is deprecated. Use `trapezoid` instead, or one of the numerical integration functions in `scipy.integrate`.\n",
      "  auc_value = np.trapz(perturbation_curve, x_vals)\n",
      "Computing LIME metrics:  22%|██▏       | 43/200 [14:46<47:52, 18.30s/it]"
     ]
    },
    {
     "data": {
      "application/vnd.jupyter.widget-view+json": {
       "model_id": "22bd781238c94ea29eebf92e4ca4715c",
       "version_major": 2,
       "version_minor": 0
      },
      "text/plain": [
       "  0%|          | 0/1000 [00:00<?, ?it/s]"
      ]
     },
     "metadata": {},
     "output_type": "display_data"
    },
    {
     "name": "stderr",
     "output_type": "stream",
     "text": [
      "C:\\Users\\sonbu\\AppData\\Local\\Temp\\ipykernel_28716\\211464218.py:22: DeprecationWarning: `trapz` is deprecated. Use `trapezoid` instead, or one of the numerical integration functions in `scipy.integrate`.\n",
      "  auc_value = np.trapz(perturbation_curve, x_vals)\n",
      "Computing LIME metrics:  22%|██▏       | 44/200 [15:05<48:00, 18.47s/it]"
     ]
    },
    {
     "data": {
      "application/vnd.jupyter.widget-view+json": {
       "model_id": "ffc39808c27a4688a239db5eccf8600d",
       "version_major": 2,
       "version_minor": 0
      },
      "text/plain": [
       "  0%|          | 0/1000 [00:00<?, ?it/s]"
      ]
     },
     "metadata": {},
     "output_type": "display_data"
    },
    {
     "name": "stderr",
     "output_type": "stream",
     "text": [
      "C:\\Users\\sonbu\\AppData\\Local\\Temp\\ipykernel_28716\\211464218.py:22: DeprecationWarning: `trapz` is deprecated. Use `trapezoid` instead, or one of the numerical integration functions in `scipy.integrate`.\n",
      "  auc_value = np.trapz(perturbation_curve, x_vals)\n",
      "Computing LIME metrics:  22%|██▎       | 45/200 [15:26<50:03, 19.38s/it]"
     ]
    },
    {
     "data": {
      "application/vnd.jupyter.widget-view+json": {
       "model_id": "1ee608dc64cb4dfb9feb437a35d57b5f",
       "version_major": 2,
       "version_minor": 0
      },
      "text/plain": [
       "  0%|          | 0/1000 [00:00<?, ?it/s]"
      ]
     },
     "metadata": {},
     "output_type": "display_data"
    },
    {
     "name": "stderr",
     "output_type": "stream",
     "text": [
      "C:\\Users\\sonbu\\AppData\\Local\\Temp\\ipykernel_28716\\211464218.py:22: DeprecationWarning: `trapz` is deprecated. Use `trapezoid` instead, or one of the numerical integration functions in `scipy.integrate`.\n",
      "  auc_value = np.trapz(perturbation_curve, x_vals)\n",
      "Computing LIME metrics:  23%|██▎       | 46/200 [15:46<50:08, 19.54s/it]"
     ]
    },
    {
     "data": {
      "application/vnd.jupyter.widget-view+json": {
       "model_id": "5c68a765d27b43169bfe533bcfa78755",
       "version_major": 2,
       "version_minor": 0
      },
      "text/plain": [
       "  0%|          | 0/1000 [00:00<?, ?it/s]"
      ]
     },
     "metadata": {},
     "output_type": "display_data"
    },
    {
     "name": "stderr",
     "output_type": "stream",
     "text": [
      "C:\\Users\\sonbu\\AppData\\Local\\Temp\\ipykernel_28716\\211464218.py:22: DeprecationWarning: `trapz` is deprecated. Use `trapezoid` instead, or one of the numerical integration functions in `scipy.integrate`.\n",
      "  auc_value = np.trapz(perturbation_curve, x_vals)\n",
      "Computing LIME metrics:  24%|██▎       | 47/200 [16:06<50:11, 19.68s/it]"
     ]
    },
    {
     "data": {
      "application/vnd.jupyter.widget-view+json": {
       "model_id": "eda0bbc66bf9404dad13eef04a709e55",
       "version_major": 2,
       "version_minor": 0
      },
      "text/plain": [
       "  0%|          | 0/1000 [00:00<?, ?it/s]"
      ]
     },
     "metadata": {},
     "output_type": "display_data"
    },
    {
     "name": "stderr",
     "output_type": "stream",
     "text": [
      "C:\\Users\\sonbu\\AppData\\Local\\Temp\\ipykernel_28716\\211464218.py:22: DeprecationWarning: `trapz` is deprecated. Use `trapezoid` instead, or one of the numerical integration functions in `scipy.integrate`.\n",
      "  auc_value = np.trapz(perturbation_curve, x_vals)\n",
      "Computing LIME metrics:  24%|██▍       | 48/200 [16:26<49:48, 19.66s/it]"
     ]
    },
    {
     "data": {
      "application/vnd.jupyter.widget-view+json": {
       "model_id": "907016de185e4c44a5c5cb8bbabb1538",
       "version_major": 2,
       "version_minor": 0
      },
      "text/plain": [
       "  0%|          | 0/1000 [00:00<?, ?it/s]"
      ]
     },
     "metadata": {},
     "output_type": "display_data"
    },
    {
     "name": "stderr",
     "output_type": "stream",
     "text": [
      "C:\\Users\\sonbu\\AppData\\Local\\Temp\\ipykernel_28716\\211464218.py:22: DeprecationWarning: `trapz` is deprecated. Use `trapezoid` instead, or one of the numerical integration functions in `scipy.integrate`.\n",
      "  auc_value = np.trapz(perturbation_curve, x_vals)\n",
      "Computing LIME metrics:  24%|██▍       | 49/200 [16:46<50:12, 19.95s/it]"
     ]
    },
    {
     "data": {
      "application/vnd.jupyter.widget-view+json": {
       "model_id": "f3744f55bbfb482aa99294e5707a21a6",
       "version_major": 2,
       "version_minor": 0
      },
      "text/plain": [
       "  0%|          | 0/1000 [00:00<?, ?it/s]"
      ]
     },
     "metadata": {},
     "output_type": "display_data"
    },
    {
     "name": "stderr",
     "output_type": "stream",
     "text": [
      "C:\\Users\\sonbu\\AppData\\Local\\Temp\\ipykernel_28716\\211464218.py:22: DeprecationWarning: `trapz` is deprecated. Use `trapezoid` instead, or one of the numerical integration functions in `scipy.integrate`.\n",
      "  auc_value = np.trapz(perturbation_curve, x_vals)\n",
      "Computing LIME metrics:  25%|██▌       | 50/200 [17:06<49:57, 19.98s/it]"
     ]
    },
    {
     "data": {
      "application/vnd.jupyter.widget-view+json": {
       "model_id": "cab20f7c666c4f528e4896a450cbc65d",
       "version_major": 2,
       "version_minor": 0
      },
      "text/plain": [
       "  0%|          | 0/1000 [00:00<?, ?it/s]"
      ]
     },
     "metadata": {},
     "output_type": "display_data"
    },
    {
     "name": "stderr",
     "output_type": "stream",
     "text": [
      "C:\\Users\\sonbu\\AppData\\Local\\Temp\\ipykernel_28716\\211464218.py:22: DeprecationWarning: `trapz` is deprecated. Use `trapezoid` instead, or one of the numerical integration functions in `scipy.integrate`.\n",
      "  auc_value = np.trapz(perturbation_curve, x_vals)\n",
      "Computing LIME metrics:  26%|██▌       | 51/200 [17:26<49:21, 19.88s/it]"
     ]
    },
    {
     "data": {
      "application/vnd.jupyter.widget-view+json": {
       "model_id": "449f1b08c9d34451af05d0711d6e15f8",
       "version_major": 2,
       "version_minor": 0
      },
      "text/plain": [
       "  0%|          | 0/1000 [00:00<?, ?it/s]"
      ]
     },
     "metadata": {},
     "output_type": "display_data"
    },
    {
     "name": "stderr",
     "output_type": "stream",
     "text": [
      "C:\\Users\\sonbu\\AppData\\Local\\Temp\\ipykernel_28716\\211464218.py:22: DeprecationWarning: `trapz` is deprecated. Use `trapezoid` instead, or one of the numerical integration functions in `scipy.integrate`.\n",
      "  auc_value = np.trapz(perturbation_curve, x_vals)\n",
      "Computing LIME metrics:  26%|██▌       | 52/200 [17:45<48:15, 19.56s/it]"
     ]
    },
    {
     "data": {
      "application/vnd.jupyter.widget-view+json": {
       "model_id": "30108f9006104ee88f6f4f0f1b7f14cf",
       "version_major": 2,
       "version_minor": 0
      },
      "text/plain": [
       "  0%|          | 0/1000 [00:00<?, ?it/s]"
      ]
     },
     "metadata": {},
     "output_type": "display_data"
    },
    {
     "name": "stderr",
     "output_type": "stream",
     "text": [
      "C:\\Users\\sonbu\\AppData\\Local\\Temp\\ipykernel_28716\\211464218.py:22: DeprecationWarning: `trapz` is deprecated. Use `trapezoid` instead, or one of the numerical integration functions in `scipy.integrate`.\n",
      "  auc_value = np.trapz(perturbation_curve, x_vals)\n",
      "Computing LIME metrics:  26%|██▋       | 53/200 [18:03<47:05, 19.22s/it]"
     ]
    },
    {
     "data": {
      "application/vnd.jupyter.widget-view+json": {
       "model_id": "60a27fe7dc5646fc8c23a0fcdeec092e",
       "version_major": 2,
       "version_minor": 0
      },
      "text/plain": [
       "  0%|          | 0/1000 [00:00<?, ?it/s]"
      ]
     },
     "metadata": {},
     "output_type": "display_data"
    },
    {
     "name": "stderr",
     "output_type": "stream",
     "text": [
      "C:\\Users\\sonbu\\AppData\\Local\\Temp\\ipykernel_28716\\211464218.py:22: DeprecationWarning: `trapz` is deprecated. Use `trapezoid` instead, or one of the numerical integration functions in `scipy.integrate`.\n",
      "  auc_value = np.trapz(perturbation_curve, x_vals)\n",
      "Computing LIME metrics:  27%|██▋       | 54/200 [18:22<46:44, 19.21s/it]"
     ]
    },
    {
     "data": {
      "application/vnd.jupyter.widget-view+json": {
       "model_id": "59e123f4f9f04323a7d2c6810fe51b4b",
       "version_major": 2,
       "version_minor": 0
      },
      "text/plain": [
       "  0%|          | 0/1000 [00:00<?, ?it/s]"
      ]
     },
     "metadata": {},
     "output_type": "display_data"
    },
    {
     "name": "stderr",
     "output_type": "stream",
     "text": [
      "C:\\Users\\sonbu\\AppData\\Local\\Temp\\ipykernel_28716\\211464218.py:22: DeprecationWarning: `trapz` is deprecated. Use `trapezoid` instead, or one of the numerical integration functions in `scipy.integrate`.\n",
      "  auc_value = np.trapz(perturbation_curve, x_vals)\n",
      "Computing LIME metrics:  28%|██▊       | 55/200 [18:42<46:28, 19.23s/it]"
     ]
    },
    {
     "data": {
      "application/vnd.jupyter.widget-view+json": {
       "model_id": "9887b845307c47edbec1c883751b004c",
       "version_major": 2,
       "version_minor": 0
      },
      "text/plain": [
       "  0%|          | 0/1000 [00:00<?, ?it/s]"
      ]
     },
     "metadata": {},
     "output_type": "display_data"
    },
    {
     "name": "stderr",
     "output_type": "stream",
     "text": [
      "C:\\Users\\sonbu\\AppData\\Local\\Temp\\ipykernel_28716\\211464218.py:22: DeprecationWarning: `trapz` is deprecated. Use `trapezoid` instead, or one of the numerical integration functions in `scipy.integrate`.\n",
      "  auc_value = np.trapz(perturbation_curve, x_vals)\n",
      "Computing LIME metrics:  28%|██▊       | 56/200 [19:02<46:38, 19.44s/it]"
     ]
    },
    {
     "data": {
      "application/vnd.jupyter.widget-view+json": {
       "model_id": "d0b843fb06ed425c837aa87d8a0d213e",
       "version_major": 2,
       "version_minor": 0
      },
      "text/plain": [
       "  0%|          | 0/1000 [00:00<?, ?it/s]"
      ]
     },
     "metadata": {},
     "output_type": "display_data"
    },
    {
     "name": "stderr",
     "output_type": "stream",
     "text": [
      "C:\\Users\\sonbu\\AppData\\Local\\Temp\\ipykernel_28716\\211464218.py:22: DeprecationWarning: `trapz` is deprecated. Use `trapezoid` instead, or one of the numerical integration functions in `scipy.integrate`.\n",
      "  auc_value = np.trapz(perturbation_curve, x_vals)\n",
      "Computing LIME metrics:  28%|██▊       | 57/200 [19:22<46:44, 19.61s/it]"
     ]
    },
    {
     "data": {
      "application/vnd.jupyter.widget-view+json": {
       "model_id": "e21859f8d1e644a2ade5fb389c50ad4e",
       "version_major": 2,
       "version_minor": 0
      },
      "text/plain": [
       "  0%|          | 0/1000 [00:00<?, ?it/s]"
      ]
     },
     "metadata": {},
     "output_type": "display_data"
    },
    {
     "name": "stderr",
     "output_type": "stream",
     "text": [
      "C:\\Users\\sonbu\\AppData\\Local\\Temp\\ipykernel_28716\\211464218.py:22: DeprecationWarning: `trapz` is deprecated. Use `trapezoid` instead, or one of the numerical integration functions in `scipy.integrate`.\n",
      "  auc_value = np.trapz(perturbation_curve, x_vals)\n",
      "Computing LIME metrics:  29%|██▉       | 58/200 [19:41<46:16, 19.55s/it]"
     ]
    },
    {
     "data": {
      "application/vnd.jupyter.widget-view+json": {
       "model_id": "7049d7d5136a42b7975bc50742d6111c",
       "version_major": 2,
       "version_minor": 0
      },
      "text/plain": [
       "  0%|          | 0/1000 [00:00<?, ?it/s]"
      ]
     },
     "metadata": {},
     "output_type": "display_data"
    },
    {
     "name": "stderr",
     "output_type": "stream",
     "text": [
      "C:\\Users\\sonbu\\AppData\\Local\\Temp\\ipykernel_28716\\211464218.py:22: DeprecationWarning: `trapz` is deprecated. Use `trapezoid` instead, or one of the numerical integration functions in `scipy.integrate`.\n",
      "  auc_value = np.trapz(perturbation_curve, x_vals)\n",
      "Computing LIME metrics:  30%|██▉       | 59/200 [20:01<46:04, 19.60s/it]"
     ]
    },
    {
     "data": {
      "application/vnd.jupyter.widget-view+json": {
       "model_id": "b756422ce82341f7b110fd5f6cab7419",
       "version_major": 2,
       "version_minor": 0
      },
      "text/plain": [
       "  0%|          | 0/1000 [00:00<?, ?it/s]"
      ]
     },
     "metadata": {},
     "output_type": "display_data"
    },
    {
     "name": "stderr",
     "output_type": "stream",
     "text": [
      "C:\\Users\\sonbu\\AppData\\Local\\Temp\\ipykernel_28716\\211464218.py:22: DeprecationWarning: `trapz` is deprecated. Use `trapezoid` instead, or one of the numerical integration functions in `scipy.integrate`.\n",
      "  auc_value = np.trapz(perturbation_curve, x_vals)\n",
      "Computing LIME metrics:  30%|███       | 60/200 [20:20<45:48, 19.63s/it]"
     ]
    },
    {
     "data": {
      "application/vnd.jupyter.widget-view+json": {
       "model_id": "6cec2e941fb24d199e275bd63d0bf668",
       "version_major": 2,
       "version_minor": 0
      },
      "text/plain": [
       "  0%|          | 0/1000 [00:00<?, ?it/s]"
      ]
     },
     "metadata": {},
     "output_type": "display_data"
    },
    {
     "name": "stderr",
     "output_type": "stream",
     "text": [
      "C:\\Users\\sonbu\\AppData\\Local\\Temp\\ipykernel_28716\\211464218.py:22: DeprecationWarning: `trapz` is deprecated. Use `trapezoid` instead, or one of the numerical integration functions in `scipy.integrate`.\n",
      "  auc_value = np.trapz(perturbation_curve, x_vals)\n",
      "Computing LIME metrics:  30%|███       | 61/200 [20:40<45:35, 19.68s/it]"
     ]
    },
    {
     "data": {
      "application/vnd.jupyter.widget-view+json": {
       "model_id": "711ba75e73be4ac7b9fc7a9a2d47cf82",
       "version_major": 2,
       "version_minor": 0
      },
      "text/plain": [
       "  0%|          | 0/1000 [00:00<?, ?it/s]"
      ]
     },
     "metadata": {},
     "output_type": "display_data"
    },
    {
     "name": "stderr",
     "output_type": "stream",
     "text": [
      "C:\\Users\\sonbu\\AppData\\Local\\Temp\\ipykernel_28716\\211464218.py:22: DeprecationWarning: `trapz` is deprecated. Use `trapezoid` instead, or one of the numerical integration functions in `scipy.integrate`.\n",
      "  auc_value = np.trapz(perturbation_curve, x_vals)\n",
      "Computing LIME metrics:  31%|███       | 62/200 [21:00<45:25, 19.75s/it]"
     ]
    },
    {
     "data": {
      "application/vnd.jupyter.widget-view+json": {
       "model_id": "74f7a6d9e97a438785db9e61287480f6",
       "version_major": 2,
       "version_minor": 0
      },
      "text/plain": [
       "  0%|          | 0/1000 [00:00<?, ?it/s]"
      ]
     },
     "metadata": {},
     "output_type": "display_data"
    },
    {
     "name": "stderr",
     "output_type": "stream",
     "text": [
      "C:\\Users\\sonbu\\AppData\\Local\\Temp\\ipykernel_28716\\211464218.py:22: DeprecationWarning: `trapz` is deprecated. Use `trapezoid` instead, or one of the numerical integration functions in `scipy.integrate`.\n",
      "  auc_value = np.trapz(perturbation_curve, x_vals)\n",
      "Computing LIME metrics:  32%|███▏      | 63/200 [21:20<45:22, 19.87s/it]"
     ]
    },
    {
     "data": {
      "application/vnd.jupyter.widget-view+json": {
       "model_id": "8546c45cd72f4b678d8cb693f477069a",
       "version_major": 2,
       "version_minor": 0
      },
      "text/plain": [
       "  0%|          | 0/1000 [00:00<?, ?it/s]"
      ]
     },
     "metadata": {},
     "output_type": "display_data"
    },
    {
     "name": "stderr",
     "output_type": "stream",
     "text": [
      "C:\\Users\\sonbu\\AppData\\Local\\Temp\\ipykernel_28716\\211464218.py:22: DeprecationWarning: `trapz` is deprecated. Use `trapezoid` instead, or one of the numerical integration functions in `scipy.integrate`.\n",
      "  auc_value = np.trapz(perturbation_curve, x_vals)\n",
      "Computing LIME metrics:  32%|███▏      | 64/200 [21:40<44:58, 19.84s/it]"
     ]
    },
    {
     "data": {
      "application/vnd.jupyter.widget-view+json": {
       "model_id": "67b7871eb7da47f389e5a5858fa54538",
       "version_major": 2,
       "version_minor": 0
      },
      "text/plain": [
       "  0%|          | 0/1000 [00:00<?, ?it/s]"
      ]
     },
     "metadata": {},
     "output_type": "display_data"
    },
    {
     "name": "stderr",
     "output_type": "stream",
     "text": [
      "C:\\Users\\sonbu\\AppData\\Local\\Temp\\ipykernel_28716\\211464218.py:22: DeprecationWarning: `trapz` is deprecated. Use `trapezoid` instead, or one of the numerical integration functions in `scipy.integrate`.\n",
      "  auc_value = np.trapz(perturbation_curve, x_vals)\n",
      "Computing LIME metrics:  32%|███▎      | 65/200 [22:00<44:35, 19.82s/it]"
     ]
    },
    {
     "data": {
      "application/vnd.jupyter.widget-view+json": {
       "model_id": "8e48c1bedaed4afc90ee5734ea831249",
       "version_major": 2,
       "version_minor": 0
      },
      "text/plain": [
       "  0%|          | 0/1000 [00:00<?, ?it/s]"
      ]
     },
     "metadata": {},
     "output_type": "display_data"
    },
    {
     "name": "stderr",
     "output_type": "stream",
     "text": [
      "C:\\Users\\sonbu\\AppData\\Local\\Temp\\ipykernel_28716\\211464218.py:22: DeprecationWarning: `trapz` is deprecated. Use `trapezoid` instead, or one of the numerical integration functions in `scipy.integrate`.\n",
      "  auc_value = np.trapz(perturbation_curve, x_vals)\n",
      "Computing LIME metrics:  33%|███▎      | 66/200 [22:20<44:20, 19.86s/it]"
     ]
    },
    {
     "data": {
      "application/vnd.jupyter.widget-view+json": {
       "model_id": "a16fadb712304d518f2e44d0152b2638",
       "version_major": 2,
       "version_minor": 0
      },
      "text/plain": [
       "  0%|          | 0/1000 [00:00<?, ?it/s]"
      ]
     },
     "metadata": {},
     "output_type": "display_data"
    },
    {
     "name": "stderr",
     "output_type": "stream",
     "text": [
      "C:\\Users\\sonbu\\AppData\\Local\\Temp\\ipykernel_28716\\211464218.py:22: DeprecationWarning: `trapz` is deprecated. Use `trapezoid` instead, or one of the numerical integration functions in `scipy.integrate`.\n",
      "  auc_value = np.trapz(perturbation_curve, x_vals)\n",
      "Computing LIME metrics:  34%|███▎      | 67/200 [22:39<43:48, 19.76s/it]"
     ]
    },
    {
     "data": {
      "application/vnd.jupyter.widget-view+json": {
       "model_id": "bbd4c568492f402ba8d5a6be6d8b8a7b",
       "version_major": 2,
       "version_minor": 0
      },
      "text/plain": [
       "  0%|          | 0/1000 [00:00<?, ?it/s]"
      ]
     },
     "metadata": {},
     "output_type": "display_data"
    },
    {
     "name": "stderr",
     "output_type": "stream",
     "text": [
      "C:\\Users\\sonbu\\AppData\\Local\\Temp\\ipykernel_28716\\211464218.py:22: DeprecationWarning: `trapz` is deprecated. Use `trapezoid` instead, or one of the numerical integration functions in `scipy.integrate`.\n",
      "  auc_value = np.trapz(perturbation_curve, x_vals)\n",
      "Computing LIME metrics:  34%|███▍      | 68/200 [22:59<43:31, 19.78s/it]"
     ]
    },
    {
     "data": {
      "application/vnd.jupyter.widget-view+json": {
       "model_id": "51830f6e3f1a42f8b269fc06a94a3410",
       "version_major": 2,
       "version_minor": 0
      },
      "text/plain": [
       "  0%|          | 0/1000 [00:00<?, ?it/s]"
      ]
     },
     "metadata": {},
     "output_type": "display_data"
    },
    {
     "name": "stderr",
     "output_type": "stream",
     "text": [
      "C:\\Users\\sonbu\\AppData\\Local\\Temp\\ipykernel_28716\\211464218.py:22: DeprecationWarning: `trapz` is deprecated. Use `trapezoid` instead, or one of the numerical integration functions in `scipy.integrate`.\n",
      "  auc_value = np.trapz(perturbation_curve, x_vals)\n",
      "Computing LIME metrics:  34%|███▍      | 69/200 [23:19<43:25, 19.89s/it]"
     ]
    },
    {
     "data": {
      "application/vnd.jupyter.widget-view+json": {
       "model_id": "a72249ec117e4c4bbcc5d844152e9ba1",
       "version_major": 2,
       "version_minor": 0
      },
      "text/plain": [
       "  0%|          | 0/1000 [00:00<?, ?it/s]"
      ]
     },
     "metadata": {},
     "output_type": "display_data"
    },
    {
     "name": "stderr",
     "output_type": "stream",
     "text": [
      "C:\\Users\\sonbu\\AppData\\Local\\Temp\\ipykernel_28716\\211464218.py:22: DeprecationWarning: `trapz` is deprecated. Use `trapezoid` instead, or one of the numerical integration functions in `scipy.integrate`.\n",
      "  auc_value = np.trapz(perturbation_curve, x_vals)\n",
      "Computing LIME metrics:  35%|███▌      | 70/200 [23:39<42:48, 19.76s/it]"
     ]
    },
    {
     "data": {
      "application/vnd.jupyter.widget-view+json": {
       "model_id": "517624976a5e4c279172b51e13d5dfd4",
       "version_major": 2,
       "version_minor": 0
      },
      "text/plain": [
       "  0%|          | 0/1000 [00:00<?, ?it/s]"
      ]
     },
     "metadata": {},
     "output_type": "display_data"
    },
    {
     "name": "stderr",
     "output_type": "stream",
     "text": [
      "C:\\Users\\sonbu\\AppData\\Local\\Temp\\ipykernel_28716\\211464218.py:22: DeprecationWarning: `trapz` is deprecated. Use `trapezoid` instead, or one of the numerical integration functions in `scipy.integrate`.\n",
      "  auc_value = np.trapz(perturbation_curve, x_vals)\n",
      "Computing LIME metrics:  36%|███▌      | 71/200 [23:58<42:25, 19.73s/it]"
     ]
    },
    {
     "data": {
      "application/vnd.jupyter.widget-view+json": {
       "model_id": "453a9f97ad1a4c518b2b6889d1d99710",
       "version_major": 2,
       "version_minor": 0
      },
      "text/plain": [
       "  0%|          | 0/1000 [00:00<?, ?it/s]"
      ]
     },
     "metadata": {},
     "output_type": "display_data"
    },
    {
     "name": "stderr",
     "output_type": "stream",
     "text": [
      "C:\\Users\\sonbu\\AppData\\Local\\Temp\\ipykernel_28716\\211464218.py:22: DeprecationWarning: `trapz` is deprecated. Use `trapezoid` instead, or one of the numerical integration functions in `scipy.integrate`.\n",
      "  auc_value = np.trapz(perturbation_curve, x_vals)\n",
      "Computing LIME metrics:  36%|███▌      | 72/200 [24:18<42:01, 19.70s/it]"
     ]
    },
    {
     "data": {
      "application/vnd.jupyter.widget-view+json": {
       "model_id": "71e569cd32e446c58c42bcb53a6d3773",
       "version_major": 2,
       "version_minor": 0
      },
      "text/plain": [
       "  0%|          | 0/1000 [00:00<?, ?it/s]"
      ]
     },
     "metadata": {},
     "output_type": "display_data"
    },
    {
     "name": "stderr",
     "output_type": "stream",
     "text": [
      "C:\\Users\\sonbu\\AppData\\Local\\Temp\\ipykernel_28716\\211464218.py:22: DeprecationWarning: `trapz` is deprecated. Use `trapezoid` instead, or one of the numerical integration functions in `scipy.integrate`.\n",
      "  auc_value = np.trapz(perturbation_curve, x_vals)\n",
      "Computing LIME metrics:  36%|███▋      | 73/200 [24:38<42:01, 19.85s/it]"
     ]
    },
    {
     "data": {
      "application/vnd.jupyter.widget-view+json": {
       "model_id": "0826dc51e058433fb4b5e8559e6bfc9f",
       "version_major": 2,
       "version_minor": 0
      },
      "text/plain": [
       "  0%|          | 0/1000 [00:00<?, ?it/s]"
      ]
     },
     "metadata": {},
     "output_type": "display_data"
    },
    {
     "name": "stderr",
     "output_type": "stream",
     "text": [
      "C:\\Users\\sonbu\\AppData\\Local\\Temp\\ipykernel_28716\\211464218.py:22: DeprecationWarning: `trapz` is deprecated. Use `trapezoid` instead, or one of the numerical integration functions in `scipy.integrate`.\n",
      "  auc_value = np.trapz(perturbation_curve, x_vals)\n",
      "Computing LIME metrics:  37%|███▋      | 74/200 [24:59<42:03, 20.03s/it]"
     ]
    },
    {
     "data": {
      "application/vnd.jupyter.widget-view+json": {
       "model_id": "5bacfee4829f4ce794fb3072b168a260",
       "version_major": 2,
       "version_minor": 0
      },
      "text/plain": [
       "  0%|          | 0/1000 [00:00<?, ?it/s]"
      ]
     },
     "metadata": {},
     "output_type": "display_data"
    },
    {
     "name": "stderr",
     "output_type": "stream",
     "text": [
      "C:\\Users\\sonbu\\AppData\\Local\\Temp\\ipykernel_28716\\211464218.py:22: DeprecationWarning: `trapz` is deprecated. Use `trapezoid` instead, or one of the numerical integration functions in `scipy.integrate`.\n",
      "  auc_value = np.trapz(perturbation_curve, x_vals)\n",
      "Computing LIME metrics:  38%|███▊      | 75/200 [25:18<41:24, 19.87s/it]"
     ]
    },
    {
     "data": {
      "application/vnd.jupyter.widget-view+json": {
       "model_id": "9ee016d890e549af8f521afddaa26b06",
       "version_major": 2,
       "version_minor": 0
      },
      "text/plain": [
       "  0%|          | 0/1000 [00:00<?, ?it/s]"
      ]
     },
     "metadata": {},
     "output_type": "display_data"
    },
    {
     "name": "stderr",
     "output_type": "stream",
     "text": [
      "C:\\Users\\sonbu\\AppData\\Local\\Temp\\ipykernel_28716\\211464218.py:22: DeprecationWarning: `trapz` is deprecated. Use `trapezoid` instead, or one of the numerical integration functions in `scipy.integrate`.\n",
      "  auc_value = np.trapz(perturbation_curve, x_vals)\n",
      "Computing LIME metrics:  38%|███▊      | 76/200 [25:38<40:58, 19.83s/it]"
     ]
    },
    {
     "data": {
      "application/vnd.jupyter.widget-view+json": {
       "model_id": "3a058afaae5842b08a97be756ef961d1",
       "version_major": 2,
       "version_minor": 0
      },
      "text/plain": [
       "  0%|          | 0/1000 [00:00<?, ?it/s]"
      ]
     },
     "metadata": {},
     "output_type": "display_data"
    },
    {
     "name": "stderr",
     "output_type": "stream",
     "text": [
      "C:\\Users\\sonbu\\AppData\\Local\\Temp\\ipykernel_28716\\211464218.py:22: DeprecationWarning: `trapz` is deprecated. Use `trapezoid` instead, or one of the numerical integration functions in `scipy.integrate`.\n",
      "  auc_value = np.trapz(perturbation_curve, x_vals)\n",
      "Computing LIME metrics:  38%|███▊      | 77/200 [25:57<40:23, 19.70s/it]"
     ]
    },
    {
     "data": {
      "application/vnd.jupyter.widget-view+json": {
       "model_id": "e34922bd636d430aa83fa85e04eb3d0f",
       "version_major": 2,
       "version_minor": 0
      },
      "text/plain": [
       "  0%|          | 0/1000 [00:00<?, ?it/s]"
      ]
     },
     "metadata": {},
     "output_type": "display_data"
    },
    {
     "name": "stderr",
     "output_type": "stream",
     "text": [
      "C:\\Users\\sonbu\\AppData\\Local\\Temp\\ipykernel_28716\\211464218.py:22: DeprecationWarning: `trapz` is deprecated. Use `trapezoid` instead, or one of the numerical integration functions in `scipy.integrate`.\n",
      "  auc_value = np.trapz(perturbation_curve, x_vals)\n",
      "Computing LIME metrics:  39%|███▉      | 78/200 [26:18<40:33, 19.95s/it]"
     ]
    },
    {
     "data": {
      "application/vnd.jupyter.widget-view+json": {
       "model_id": "00bd05f60a4442d0ba7eabe955437c4e",
       "version_major": 2,
       "version_minor": 0
      },
      "text/plain": [
       "  0%|          | 0/1000 [00:00<?, ?it/s]"
      ]
     },
     "metadata": {},
     "output_type": "display_data"
    },
    {
     "name": "stderr",
     "output_type": "stream",
     "text": [
      "C:\\Users\\sonbu\\AppData\\Local\\Temp\\ipykernel_28716\\211464218.py:22: DeprecationWarning: `trapz` is deprecated. Use `trapezoid` instead, or one of the numerical integration functions in `scipy.integrate`.\n",
      "  auc_value = np.trapz(perturbation_curve, x_vals)\n",
      "Computing LIME metrics:  40%|███▉      | 79/200 [26:38<40:19, 20.00s/it]"
     ]
    },
    {
     "data": {
      "application/vnd.jupyter.widget-view+json": {
       "model_id": "2120fb31b3f44b4ba2ce50ac61ee962b",
       "version_major": 2,
       "version_minor": 0
      },
      "text/plain": [
       "  0%|          | 0/1000 [00:00<?, ?it/s]"
      ]
     },
     "metadata": {},
     "output_type": "display_data"
    },
    {
     "name": "stderr",
     "output_type": "stream",
     "text": [
      "C:\\Users\\sonbu\\AppData\\Local\\Temp\\ipykernel_28716\\211464218.py:22: DeprecationWarning: `trapz` is deprecated. Use `trapezoid` instead, or one of the numerical integration functions in `scipy.integrate`.\n",
      "  auc_value = np.trapz(perturbation_curve, x_vals)\n",
      "Computing LIME metrics:  40%|████      | 80/200 [26:58<40:12, 20.10s/it]"
     ]
    },
    {
     "data": {
      "application/vnd.jupyter.widget-view+json": {
       "model_id": "55edc4f173c645a6b00c1e15507d131f",
       "version_major": 2,
       "version_minor": 0
      },
      "text/plain": [
       "  0%|          | 0/1000 [00:00<?, ?it/s]"
      ]
     },
     "metadata": {},
     "output_type": "display_data"
    },
    {
     "name": "stderr",
     "output_type": "stream",
     "text": [
      "C:\\Users\\sonbu\\AppData\\Local\\Temp\\ipykernel_28716\\211464218.py:22: DeprecationWarning: `trapz` is deprecated. Use `trapezoid` instead, or one of the numerical integration functions in `scipy.integrate`.\n",
      "  auc_value = np.trapz(perturbation_curve, x_vals)\n",
      "Computing LIME metrics:  40%|████      | 81/200 [27:19<39:57, 20.15s/it]"
     ]
    },
    {
     "data": {
      "application/vnd.jupyter.widget-view+json": {
       "model_id": "cdf3e7562e43475fb1dffbf31e9306f3",
       "version_major": 2,
       "version_minor": 0
      },
      "text/plain": [
       "  0%|          | 0/1000 [00:00<?, ?it/s]"
      ]
     },
     "metadata": {},
     "output_type": "display_data"
    },
    {
     "name": "stderr",
     "output_type": "stream",
     "text": [
      "C:\\Users\\sonbu\\AppData\\Local\\Temp\\ipykernel_28716\\211464218.py:22: DeprecationWarning: `trapz` is deprecated. Use `trapezoid` instead, or one of the numerical integration functions in `scipy.integrate`.\n",
      "  auc_value = np.trapz(perturbation_curve, x_vals)\n",
      "Computing LIME metrics:  41%|████      | 82/200 [27:40<40:10, 20.43s/it]"
     ]
    },
    {
     "data": {
      "application/vnd.jupyter.widget-view+json": {
       "model_id": "f41c8ed915dd4e85a41674bc7c4ee903",
       "version_major": 2,
       "version_minor": 0
      },
      "text/plain": [
       "  0%|          | 0/1000 [00:00<?, ?it/s]"
      ]
     },
     "metadata": {},
     "output_type": "display_data"
    },
    {
     "name": "stderr",
     "output_type": "stream",
     "text": [
      "C:\\Users\\sonbu\\AppData\\Local\\Temp\\ipykernel_28716\\211464218.py:22: DeprecationWarning: `trapz` is deprecated. Use `trapezoid` instead, or one of the numerical integration functions in `scipy.integrate`.\n",
      "  auc_value = np.trapz(perturbation_curve, x_vals)\n",
      "Computing LIME metrics:  42%|████▏     | 83/200 [28:00<39:50, 20.43s/it]"
     ]
    },
    {
     "data": {
      "application/vnd.jupyter.widget-view+json": {
       "model_id": "9a8efa71db0544e8bc21cc1f0bd844a3",
       "version_major": 2,
       "version_minor": 0
      },
      "text/plain": [
       "  0%|          | 0/1000 [00:00<?, ?it/s]"
      ]
     },
     "metadata": {},
     "output_type": "display_data"
    },
    {
     "name": "stderr",
     "output_type": "stream",
     "text": [
      "C:\\Users\\sonbu\\AppData\\Local\\Temp\\ipykernel_28716\\211464218.py:22: DeprecationWarning: `trapz` is deprecated. Use `trapezoid` instead, or one of the numerical integration functions in `scipy.integrate`.\n",
      "  auc_value = np.trapz(perturbation_curve, x_vals)\n",
      "Computing LIME metrics:  42%|████▏     | 84/200 [28:20<39:19, 20.34s/it]"
     ]
    },
    {
     "data": {
      "application/vnd.jupyter.widget-view+json": {
       "model_id": "aad827a671e942028733840bc774b7fe",
       "version_major": 2,
       "version_minor": 0
      },
      "text/plain": [
       "  0%|          | 0/1000 [00:00<?, ?it/s]"
      ]
     },
     "metadata": {},
     "output_type": "display_data"
    },
    {
     "name": "stderr",
     "output_type": "stream",
     "text": [
      "C:\\Users\\sonbu\\AppData\\Local\\Temp\\ipykernel_28716\\211464218.py:22: DeprecationWarning: `trapz` is deprecated. Use `trapezoid` instead, or one of the numerical integration functions in `scipy.integrate`.\n",
      "  auc_value = np.trapz(perturbation_curve, x_vals)\n",
      "Computing LIME metrics:  42%|████▎     | 85/200 [28:41<39:01, 20.36s/it]"
     ]
    },
    {
     "data": {
      "application/vnd.jupyter.widget-view+json": {
       "model_id": "3c1c3b11c40c4f368a4fed2c58348351",
       "version_major": 2,
       "version_minor": 0
      },
      "text/plain": [
       "  0%|          | 0/1000 [00:00<?, ?it/s]"
      ]
     },
     "metadata": {},
     "output_type": "display_data"
    },
    {
     "name": "stderr",
     "output_type": "stream",
     "text": [
      "C:\\Users\\sonbu\\AppData\\Local\\Temp\\ipykernel_28716\\211464218.py:22: DeprecationWarning: `trapz` is deprecated. Use `trapezoid` instead, or one of the numerical integration functions in `scipy.integrate`.\n",
      "  auc_value = np.trapz(perturbation_curve, x_vals)\n",
      "Computing LIME metrics:  43%|████▎     | 86/200 [29:01<38:33, 20.29s/it]"
     ]
    },
    {
     "data": {
      "application/vnd.jupyter.widget-view+json": {
       "model_id": "c1194dbf16724364a3f27c76d0987cd9",
       "version_major": 2,
       "version_minor": 0
      },
      "text/plain": [
       "  0%|          | 0/1000 [00:00<?, ?it/s]"
      ]
     },
     "metadata": {},
     "output_type": "display_data"
    },
    {
     "name": "stderr",
     "output_type": "stream",
     "text": [
      "C:\\Users\\sonbu\\AppData\\Local\\Temp\\ipykernel_28716\\211464218.py:22: DeprecationWarning: `trapz` is deprecated. Use `trapezoid` instead, or one of the numerical integration functions in `scipy.integrate`.\n",
      "  auc_value = np.trapz(perturbation_curve, x_vals)\n",
      "Computing LIME metrics:  44%|████▎     | 87/200 [29:21<38:20, 20.36s/it]"
     ]
    },
    {
     "data": {
      "application/vnd.jupyter.widget-view+json": {
       "model_id": "bd2b8e887ec54859affa6cabfb36b19f",
       "version_major": 2,
       "version_minor": 0
      },
      "text/plain": [
       "  0%|          | 0/1000 [00:00<?, ?it/s]"
      ]
     },
     "metadata": {},
     "output_type": "display_data"
    },
    {
     "name": "stderr",
     "output_type": "stream",
     "text": [
      "C:\\Users\\sonbu\\AppData\\Local\\Temp\\ipykernel_28716\\211464218.py:22: DeprecationWarning: `trapz` is deprecated. Use `trapezoid` instead, or one of the numerical integration functions in `scipy.integrate`.\n",
      "  auc_value = np.trapz(perturbation_curve, x_vals)\n",
      "Computing LIME metrics:  44%|████▍     | 88/200 [29:41<37:56, 20.33s/it]"
     ]
    },
    {
     "data": {
      "application/vnd.jupyter.widget-view+json": {
       "model_id": "d0cc0e8f88be4991867cd3eb580b61c8",
       "version_major": 2,
       "version_minor": 0
      },
      "text/plain": [
       "  0%|          | 0/1000 [00:00<?, ?it/s]"
      ]
     },
     "metadata": {},
     "output_type": "display_data"
    },
    {
     "name": "stderr",
     "output_type": "stream",
     "text": [
      "C:\\Users\\sonbu\\AppData\\Local\\Temp\\ipykernel_28716\\211464218.py:22: DeprecationWarning: `trapz` is deprecated. Use `trapezoid` instead, or one of the numerical integration functions in `scipy.integrate`.\n",
      "  auc_value = np.trapz(perturbation_curve, x_vals)\n",
      "Computing LIME metrics:  44%|████▍     | 89/200 [30:02<37:57, 20.52s/it]"
     ]
    },
    {
     "data": {
      "application/vnd.jupyter.widget-view+json": {
       "model_id": "18b77a1d10ae4462ab28b7a16140a218",
       "version_major": 2,
       "version_minor": 0
      },
      "text/plain": [
       "  0%|          | 0/1000 [00:00<?, ?it/s]"
      ]
     },
     "metadata": {},
     "output_type": "display_data"
    },
    {
     "name": "stderr",
     "output_type": "stream",
     "text": [
      "C:\\Users\\sonbu\\AppData\\Local\\Temp\\ipykernel_28716\\211464218.py:22: DeprecationWarning: `trapz` is deprecated. Use `trapezoid` instead, or one of the numerical integration functions in `scipy.integrate`.\n",
      "  auc_value = np.trapz(perturbation_curve, x_vals)\n",
      "Computing LIME metrics:  45%|████▌     | 90/200 [30:24<38:12, 20.84s/it]"
     ]
    },
    {
     "data": {
      "application/vnd.jupyter.widget-view+json": {
       "model_id": "79bffdcb97af4b58b01436e69bf13a31",
       "version_major": 2,
       "version_minor": 0
      },
      "text/plain": [
       "  0%|          | 0/1000 [00:00<?, ?it/s]"
      ]
     },
     "metadata": {},
     "output_type": "display_data"
    },
    {
     "name": "stderr",
     "output_type": "stream",
     "text": [
      "C:\\Users\\sonbu\\AppData\\Local\\Temp\\ipykernel_28716\\211464218.py:22: DeprecationWarning: `trapz` is deprecated. Use `trapezoid` instead, or one of the numerical integration functions in `scipy.integrate`.\n",
      "  auc_value = np.trapz(perturbation_curve, x_vals)\n",
      "Computing LIME metrics:  46%|████▌     | 91/200 [30:46<38:12, 21.04s/it]"
     ]
    },
    {
     "data": {
      "application/vnd.jupyter.widget-view+json": {
       "model_id": "4f20dc156ac24ec186daf99956d7df01",
       "version_major": 2,
       "version_minor": 0
      },
      "text/plain": [
       "  0%|          | 0/1000 [00:00<?, ?it/s]"
      ]
     },
     "metadata": {},
     "output_type": "display_data"
    },
    {
     "name": "stderr",
     "output_type": "stream",
     "text": [
      "C:\\Users\\sonbu\\AppData\\Local\\Temp\\ipykernel_28716\\211464218.py:22: DeprecationWarning: `trapz` is deprecated. Use `trapezoid` instead, or one of the numerical integration functions in `scipy.integrate`.\n",
      "  auc_value = np.trapz(perturbation_curve, x_vals)\n",
      "Computing LIME metrics:  46%|████▌     | 92/200 [31:06<37:25, 20.79s/it]"
     ]
    },
    {
     "data": {
      "application/vnd.jupyter.widget-view+json": {
       "model_id": "a2911914945d4c63b143988f197793c6",
       "version_major": 2,
       "version_minor": 0
      },
      "text/plain": [
       "  0%|          | 0/1000 [00:00<?, ?it/s]"
      ]
     },
     "metadata": {},
     "output_type": "display_data"
    },
    {
     "name": "stderr",
     "output_type": "stream",
     "text": [
      "C:\\Users\\sonbu\\AppData\\Local\\Temp\\ipykernel_28716\\211464218.py:22: DeprecationWarning: `trapz` is deprecated. Use `trapezoid` instead, or one of the numerical integration functions in `scipy.integrate`.\n",
      "  auc_value = np.trapz(perturbation_curve, x_vals)\n",
      "Computing LIME metrics:  46%|████▋     | 93/200 [31:27<37:22, 20.95s/it]"
     ]
    },
    {
     "data": {
      "application/vnd.jupyter.widget-view+json": {
       "model_id": "bf23e80866444448831d7d0ff9bf38dc",
       "version_major": 2,
       "version_minor": 0
      },
      "text/plain": [
       "  0%|          | 0/1000 [00:00<?, ?it/s]"
      ]
     },
     "metadata": {},
     "output_type": "display_data"
    },
    {
     "name": "stderr",
     "output_type": "stream",
     "text": [
      "C:\\Users\\sonbu\\AppData\\Local\\Temp\\ipykernel_28716\\211464218.py:22: DeprecationWarning: `trapz` is deprecated. Use `trapezoid` instead, or one of the numerical integration functions in `scipy.integrate`.\n",
      "  auc_value = np.trapz(perturbation_curve, x_vals)\n",
      "Computing LIME metrics:  47%|████▋     | 94/200 [31:48<37:06, 21.00s/it]"
     ]
    },
    {
     "data": {
      "application/vnd.jupyter.widget-view+json": {
       "model_id": "b3f9f58a8ad9484992bb7045dd16c065",
       "version_major": 2,
       "version_minor": 0
      },
      "text/plain": [
       "  0%|          | 0/1000 [00:00<?, ?it/s]"
      ]
     },
     "metadata": {},
     "output_type": "display_data"
    },
    {
     "name": "stderr",
     "output_type": "stream",
     "text": [
      "C:\\Users\\sonbu\\AppData\\Local\\Temp\\ipykernel_28716\\211464218.py:22: DeprecationWarning: `trapz` is deprecated. Use `trapezoid` instead, or one of the numerical integration functions in `scipy.integrate`.\n",
      "  auc_value = np.trapz(perturbation_curve, x_vals)\n",
      "Computing LIME metrics:  48%|████▊     | 95/200 [32:09<36:24, 20.81s/it]"
     ]
    },
    {
     "data": {
      "application/vnd.jupyter.widget-view+json": {
       "model_id": "e37d8bd125584a65ba33e3c4525a58eb",
       "version_major": 2,
       "version_minor": 0
      },
      "text/plain": [
       "  0%|          | 0/1000 [00:00<?, ?it/s]"
      ]
     },
     "metadata": {},
     "output_type": "display_data"
    },
    {
     "name": "stderr",
     "output_type": "stream",
     "text": [
      "C:\\Users\\sonbu\\AppData\\Local\\Temp\\ipykernel_28716\\211464218.py:22: DeprecationWarning: `trapz` is deprecated. Use `trapezoid` instead, or one of the numerical integration functions in `scipy.integrate`.\n",
      "  auc_value = np.trapz(perturbation_curve, x_vals)\n",
      "Computing LIME metrics:  48%|████▊     | 96/200 [32:30<36:21, 20.97s/it]"
     ]
    },
    {
     "data": {
      "application/vnd.jupyter.widget-view+json": {
       "model_id": "9a05bf49c22842db9a7d663c447f79f2",
       "version_major": 2,
       "version_minor": 0
      },
      "text/plain": [
       "  0%|          | 0/1000 [00:00<?, ?it/s]"
      ]
     },
     "metadata": {},
     "output_type": "display_data"
    },
    {
     "name": "stderr",
     "output_type": "stream",
     "text": [
      "C:\\Users\\sonbu\\AppData\\Local\\Temp\\ipykernel_28716\\211464218.py:22: DeprecationWarning: `trapz` is deprecated. Use `trapezoid` instead, or one of the numerical integration functions in `scipy.integrate`.\n",
      "  auc_value = np.trapz(perturbation_curve, x_vals)\n",
      "Computing LIME metrics:  48%|████▊     | 97/200 [32:50<35:45, 20.83s/it]"
     ]
    },
    {
     "data": {
      "application/vnd.jupyter.widget-view+json": {
       "model_id": "12b648e601214b6ea2725eeff45659b5",
       "version_major": 2,
       "version_minor": 0
      },
      "text/plain": [
       "  0%|          | 0/1000 [00:00<?, ?it/s]"
      ]
     },
     "metadata": {},
     "output_type": "display_data"
    },
    {
     "name": "stderr",
     "output_type": "stream",
     "text": [
      "C:\\Users\\sonbu\\AppData\\Local\\Temp\\ipykernel_28716\\211464218.py:22: DeprecationWarning: `trapz` is deprecated. Use `trapezoid` instead, or one of the numerical integration functions in `scipy.integrate`.\n",
      "  auc_value = np.trapz(perturbation_curve, x_vals)\n",
      "Computing LIME metrics:  49%|████▉     | 98/200 [33:11<35:17, 20.76s/it]"
     ]
    },
    {
     "data": {
      "application/vnd.jupyter.widget-view+json": {
       "model_id": "810c4ba0d80943e5800bb52661e7b6d3",
       "version_major": 2,
       "version_minor": 0
      },
      "text/plain": [
       "  0%|          | 0/1000 [00:00<?, ?it/s]"
      ]
     },
     "metadata": {},
     "output_type": "display_data"
    },
    {
     "name": "stderr",
     "output_type": "stream",
     "text": [
      "C:\\Users\\sonbu\\AppData\\Local\\Temp\\ipykernel_28716\\211464218.py:22: DeprecationWarning: `trapz` is deprecated. Use `trapezoid` instead, or one of the numerical integration functions in `scipy.integrate`.\n",
      "  auc_value = np.trapz(perturbation_curve, x_vals)\n",
      "Computing LIME metrics:  50%|████▉     | 99/200 [33:32<34:55, 20.75s/it]"
     ]
    },
    {
     "data": {
      "application/vnd.jupyter.widget-view+json": {
       "model_id": "5a534a0847434e34bc1e5f92b3a9d093",
       "version_major": 2,
       "version_minor": 0
      },
      "text/plain": [
       "  0%|          | 0/1000 [00:00<?, ?it/s]"
      ]
     },
     "metadata": {},
     "output_type": "display_data"
    },
    {
     "name": "stderr",
     "output_type": "stream",
     "text": [
      "C:\\Users\\sonbu\\AppData\\Local\\Temp\\ipykernel_28716\\211464218.py:22: DeprecationWarning: `trapz` is deprecated. Use `trapezoid` instead, or one of the numerical integration functions in `scipy.integrate`.\n",
      "  auc_value = np.trapz(perturbation_curve, x_vals)\n",
      "Computing LIME metrics:  50%|█████     | 100/200 [33:53<35:00, 21.01s/it]"
     ]
    },
    {
     "data": {
      "application/vnd.jupyter.widget-view+json": {
       "model_id": "66118039cfdb4fcaaa6ec8d006f86466",
       "version_major": 2,
       "version_minor": 0
      },
      "text/plain": [
       "  0%|          | 0/1000 [00:00<?, ?it/s]"
      ]
     },
     "metadata": {},
     "output_type": "display_data"
    },
    {
     "name": "stderr",
     "output_type": "stream",
     "text": [
      "C:\\Users\\sonbu\\AppData\\Local\\Temp\\ipykernel_28716\\211464218.py:22: DeprecationWarning: `trapz` is deprecated. Use `trapezoid` instead, or one of the numerical integration functions in `scipy.integrate`.\n",
      "  auc_value = np.trapz(perturbation_curve, x_vals)\n",
      "Computing LIME metrics:  50%|█████     | 101/200 [34:14<34:35, 20.97s/it]"
     ]
    },
    {
     "data": {
      "application/vnd.jupyter.widget-view+json": {
       "model_id": "01a5f1a126db449787c79ade888c9dfe",
       "version_major": 2,
       "version_minor": 0
      },
      "text/plain": [
       "  0%|          | 0/1000 [00:00<?, ?it/s]"
      ]
     },
     "metadata": {},
     "output_type": "display_data"
    },
    {
     "name": "stderr",
     "output_type": "stream",
     "text": [
      "C:\\Users\\sonbu\\AppData\\Local\\Temp\\ipykernel_28716\\211464218.py:22: DeprecationWarning: `trapz` is deprecated. Use `trapezoid` instead, or one of the numerical integration functions in `scipy.integrate`.\n",
      "  auc_value = np.trapz(perturbation_curve, x_vals)\n",
      "Computing LIME metrics:  51%|█████     | 102/200 [34:36<34:32, 21.14s/it]"
     ]
    },
    {
     "data": {
      "application/vnd.jupyter.widget-view+json": {
       "model_id": "fce16fa5d22646239ae4446e52bea5e8",
       "version_major": 2,
       "version_minor": 0
      },
      "text/plain": [
       "  0%|          | 0/1000 [00:00<?, ?it/s]"
      ]
     },
     "metadata": {},
     "output_type": "display_data"
    },
    {
     "name": "stderr",
     "output_type": "stream",
     "text": [
      "C:\\Users\\sonbu\\AppData\\Local\\Temp\\ipykernel_28716\\211464218.py:22: DeprecationWarning: `trapz` is deprecated. Use `trapezoid` instead, or one of the numerical integration functions in `scipy.integrate`.\n",
      "  auc_value = np.trapz(perturbation_curve, x_vals)\n",
      "Computing LIME metrics:  52%|█████▏    | 103/200 [34:58<34:36, 21.40s/it]"
     ]
    },
    {
     "data": {
      "application/vnd.jupyter.widget-view+json": {
       "model_id": "0b16a074dcac44eeb178ccade7783d0a",
       "version_major": 2,
       "version_minor": 0
      },
      "text/plain": [
       "  0%|          | 0/1000 [00:00<?, ?it/s]"
      ]
     },
     "metadata": {},
     "output_type": "display_data"
    },
    {
     "name": "stderr",
     "output_type": "stream",
     "text": [
      "C:\\Users\\sonbu\\AppData\\Local\\Temp\\ipykernel_28716\\211464218.py:22: DeprecationWarning: `trapz` is deprecated. Use `trapezoid` instead, or one of the numerical integration functions in `scipy.integrate`.\n",
      "  auc_value = np.trapz(perturbation_curve, x_vals)\n",
      "Computing LIME metrics:  52%|█████▏    | 104/200 [35:19<34:11, 21.37s/it]"
     ]
    },
    {
     "data": {
      "application/vnd.jupyter.widget-view+json": {
       "model_id": "55cc241a9c0c42fbad4ffdb877b1ba4f",
       "version_major": 2,
       "version_minor": 0
      },
      "text/plain": [
       "  0%|          | 0/1000 [00:00<?, ?it/s]"
      ]
     },
     "metadata": {},
     "output_type": "display_data"
    },
    {
     "name": "stderr",
     "output_type": "stream",
     "text": [
      "C:\\Users\\sonbu\\AppData\\Local\\Temp\\ipykernel_28716\\211464218.py:22: DeprecationWarning: `trapz` is deprecated. Use `trapezoid` instead, or one of the numerical integration functions in `scipy.integrate`.\n",
      "  auc_value = np.trapz(perturbation_curve, x_vals)\n",
      "Computing LIME metrics:  52%|█████▎    | 105/200 [35:40<33:29, 21.15s/it]"
     ]
    },
    {
     "data": {
      "application/vnd.jupyter.widget-view+json": {
       "model_id": "57807ada484a42cf9060be02deb34116",
       "version_major": 2,
       "version_minor": 0
      },
      "text/plain": [
       "  0%|          | 0/1000 [00:00<?, ?it/s]"
      ]
     },
     "metadata": {},
     "output_type": "display_data"
    },
    {
     "name": "stderr",
     "output_type": "stream",
     "text": [
      "C:\\Users\\sonbu\\AppData\\Local\\Temp\\ipykernel_28716\\211464218.py:22: DeprecationWarning: `trapz` is deprecated. Use `trapezoid` instead, or one of the numerical integration functions in `scipy.integrate`.\n",
      "  auc_value = np.trapz(perturbation_curve, x_vals)\n",
      "Computing LIME metrics:  53%|█████▎    | 106/200 [36:00<32:56, 21.03s/it]"
     ]
    },
    {
     "data": {
      "application/vnd.jupyter.widget-view+json": {
       "model_id": "f73cac35d59d45e993ad26bf83584cd0",
       "version_major": 2,
       "version_minor": 0
      },
      "text/plain": [
       "  0%|          | 0/1000 [00:00<?, ?it/s]"
      ]
     },
     "metadata": {},
     "output_type": "display_data"
    },
    {
     "name": "stderr",
     "output_type": "stream",
     "text": [
      "C:\\Users\\sonbu\\AppData\\Local\\Temp\\ipykernel_28716\\211464218.py:22: DeprecationWarning: `trapz` is deprecated. Use `trapezoid` instead, or one of the numerical integration functions in `scipy.integrate`.\n",
      "  auc_value = np.trapz(perturbation_curve, x_vals)\n",
      "Computing LIME metrics:  54%|█████▎    | 107/200 [36:22<32:42, 21.11s/it]"
     ]
    },
    {
     "data": {
      "application/vnd.jupyter.widget-view+json": {
       "model_id": "8bf646ddd2cd43cc8c275629bf87b621",
       "version_major": 2,
       "version_minor": 0
      },
      "text/plain": [
       "  0%|          | 0/1000 [00:00<?, ?it/s]"
      ]
     },
     "metadata": {},
     "output_type": "display_data"
    },
    {
     "name": "stderr",
     "output_type": "stream",
     "text": [
      "C:\\Users\\sonbu\\AppData\\Local\\Temp\\ipykernel_28716\\211464218.py:22: DeprecationWarning: `trapz` is deprecated. Use `trapezoid` instead, or one of the numerical integration functions in `scipy.integrate`.\n",
      "  auc_value = np.trapz(perturbation_curve, x_vals)\n",
      "Computing LIME metrics:  54%|█████▍    | 108/200 [36:43<32:18, 21.07s/it]"
     ]
    },
    {
     "data": {
      "application/vnd.jupyter.widget-view+json": {
       "model_id": "34a8fac104dc44c0872c85058cfb2144",
       "version_major": 2,
       "version_minor": 0
      },
      "text/plain": [
       "  0%|          | 0/1000 [00:00<?, ?it/s]"
      ]
     },
     "metadata": {},
     "output_type": "display_data"
    },
    {
     "name": "stderr",
     "output_type": "stream",
     "text": [
      "C:\\Users\\sonbu\\AppData\\Local\\Temp\\ipykernel_28716\\211464218.py:22: DeprecationWarning: `trapz` is deprecated. Use `trapezoid` instead, or one of the numerical integration functions in `scipy.integrate`.\n",
      "  auc_value = np.trapz(perturbation_curve, x_vals)\n",
      "Computing LIME metrics:  55%|█████▍    | 109/200 [37:05<32:19, 21.31s/it]"
     ]
    },
    {
     "data": {
      "application/vnd.jupyter.widget-view+json": {
       "model_id": "60ed0789e47d4eab802bbaf5570c1b65",
       "version_major": 2,
       "version_minor": 0
      },
      "text/plain": [
       "  0%|          | 0/1000 [00:00<?, ?it/s]"
      ]
     },
     "metadata": {},
     "output_type": "display_data"
    },
    {
     "name": "stderr",
     "output_type": "stream",
     "text": [
      "C:\\Users\\sonbu\\AppData\\Local\\Temp\\ipykernel_28716\\211464218.py:22: DeprecationWarning: `trapz` is deprecated. Use `trapezoid` instead, or one of the numerical integration functions in `scipy.integrate`.\n",
      "  auc_value = np.trapz(perturbation_curve, x_vals)\n",
      "Computing LIME metrics:  55%|█████▌    | 110/200 [37:29<33:29, 22.33s/it]"
     ]
    },
    {
     "data": {
      "application/vnd.jupyter.widget-view+json": {
       "model_id": "b76b15894f3a49a185e96ba28c483504",
       "version_major": 2,
       "version_minor": 0
      },
      "text/plain": [
       "  0%|          | 0/1000 [00:00<?, ?it/s]"
      ]
     },
     "metadata": {},
     "output_type": "display_data"
    },
    {
     "name": "stderr",
     "output_type": "stream",
     "text": [
      "C:\\Users\\sonbu\\AppData\\Local\\Temp\\ipykernel_28716\\211464218.py:22: DeprecationWarning: `trapz` is deprecated. Use `trapezoid` instead, or one of the numerical integration functions in `scipy.integrate`.\n",
      "  auc_value = np.trapz(perturbation_curve, x_vals)\n",
      "Computing LIME metrics:  56%|█████▌    | 111/200 [37:50<32:32, 21.94s/it]"
     ]
    },
    {
     "data": {
      "application/vnd.jupyter.widget-view+json": {
       "model_id": "7650159045264c5b80c52fa1ef8aa23f",
       "version_major": 2,
       "version_minor": 0
      },
      "text/plain": [
       "  0%|          | 0/1000 [00:00<?, ?it/s]"
      ]
     },
     "metadata": {},
     "output_type": "display_data"
    },
    {
     "name": "stderr",
     "output_type": "stream",
     "text": [
      "C:\\Users\\sonbu\\AppData\\Local\\Temp\\ipykernel_28716\\211464218.py:22: DeprecationWarning: `trapz` is deprecated. Use `trapezoid` instead, or one of the numerical integration functions in `scipy.integrate`.\n",
      "  auc_value = np.trapz(perturbation_curve, x_vals)\n",
      "Computing LIME metrics:  56%|█████▌    | 112/200 [38:11<31:48, 21.69s/it]"
     ]
    },
    {
     "data": {
      "application/vnd.jupyter.widget-view+json": {
       "model_id": "261d248f81de48f59e0ef16d867be157",
       "version_major": 2,
       "version_minor": 0
      },
      "text/plain": [
       "  0%|          | 0/1000 [00:00<?, ?it/s]"
      ]
     },
     "metadata": {},
     "output_type": "display_data"
    },
    {
     "name": "stderr",
     "output_type": "stream",
     "text": [
      "C:\\Users\\sonbu\\AppData\\Local\\Temp\\ipykernel_28716\\211464218.py:22: DeprecationWarning: `trapz` is deprecated. Use `trapezoid` instead, or one of the numerical integration functions in `scipy.integrate`.\n",
      "  auc_value = np.trapz(perturbation_curve, x_vals)\n",
      "Computing LIME metrics:  56%|█████▋    | 113/200 [38:33<31:14, 21.55s/it]"
     ]
    },
    {
     "data": {
      "application/vnd.jupyter.widget-view+json": {
       "model_id": "980b30c7e0614455a6e2d2def855e524",
       "version_major": 2,
       "version_minor": 0
      },
      "text/plain": [
       "  0%|          | 0/1000 [00:00<?, ?it/s]"
      ]
     },
     "metadata": {},
     "output_type": "display_data"
    },
    {
     "name": "stderr",
     "output_type": "stream",
     "text": [
      "C:\\Users\\sonbu\\AppData\\Local\\Temp\\ipykernel_28716\\211464218.py:22: DeprecationWarning: `trapz` is deprecated. Use `trapezoid` instead, or one of the numerical integration functions in `scipy.integrate`.\n",
      "  auc_value = np.trapz(perturbation_curve, x_vals)\n",
      "Computing LIME metrics:  57%|█████▋    | 114/200 [38:55<31:07, 21.72s/it]"
     ]
    },
    {
     "data": {
      "application/vnd.jupyter.widget-view+json": {
       "model_id": "2cddaac4f816408990dbfabbad83f3ae",
       "version_major": 2,
       "version_minor": 0
      },
      "text/plain": [
       "  0%|          | 0/1000 [00:00<?, ?it/s]"
      ]
     },
     "metadata": {},
     "output_type": "display_data"
    },
    {
     "name": "stderr",
     "output_type": "stream",
     "text": [
      "C:\\Users\\sonbu\\AppData\\Local\\Temp\\ipykernel_28716\\211464218.py:22: DeprecationWarning: `trapz` is deprecated. Use `trapezoid` instead, or one of the numerical integration functions in `scipy.integrate`.\n",
      "  auc_value = np.trapz(perturbation_curve, x_vals)\n",
      "Computing LIME metrics:  57%|█████▊    | 115/200 [39:17<30:49, 21.76s/it]"
     ]
    },
    {
     "data": {
      "application/vnd.jupyter.widget-view+json": {
       "model_id": "b1f81df2c8344111bf0151a501f570cc",
       "version_major": 2,
       "version_minor": 0
      },
      "text/plain": [
       "  0%|          | 0/1000 [00:00<?, ?it/s]"
      ]
     },
     "metadata": {},
     "output_type": "display_data"
    },
    {
     "name": "stderr",
     "output_type": "stream",
     "text": [
      "C:\\Users\\sonbu\\AppData\\Local\\Temp\\ipykernel_28716\\211464218.py:22: DeprecationWarning: `trapz` is deprecated. Use `trapezoid` instead, or one of the numerical integration functions in `scipy.integrate`.\n",
      "  auc_value = np.trapz(perturbation_curve, x_vals)\n",
      "Computing LIME metrics:  58%|█████▊    | 116/200 [39:38<30:31, 21.80s/it]"
     ]
    },
    {
     "data": {
      "application/vnd.jupyter.widget-view+json": {
       "model_id": "89662cf0f4404c03942ce3598278424d",
       "version_major": 2,
       "version_minor": 0
      },
      "text/plain": [
       "  0%|          | 0/1000 [00:00<?, ?it/s]"
      ]
     },
     "metadata": {},
     "output_type": "display_data"
    },
    {
     "name": "stderr",
     "output_type": "stream",
     "text": [
      "C:\\Users\\sonbu\\AppData\\Local\\Temp\\ipykernel_28716\\211464218.py:22: DeprecationWarning: `trapz` is deprecated. Use `trapezoid` instead, or one of the numerical integration functions in `scipy.integrate`.\n",
      "  auc_value = np.trapz(perturbation_curve, x_vals)\n",
      "Computing LIME metrics:  58%|█████▊    | 117/200 [40:00<30:14, 21.86s/it]"
     ]
    },
    {
     "data": {
      "application/vnd.jupyter.widget-view+json": {
       "model_id": "78fca37ba2424aa2917b4c327aa8e59a",
       "version_major": 2,
       "version_minor": 0
      },
      "text/plain": [
       "  0%|          | 0/1000 [00:00<?, ?it/s]"
      ]
     },
     "metadata": {},
     "output_type": "display_data"
    },
    {
     "name": "stderr",
     "output_type": "stream",
     "text": [
      "C:\\Users\\sonbu\\AppData\\Local\\Temp\\ipykernel_28716\\211464218.py:22: DeprecationWarning: `trapz` is deprecated. Use `trapezoid` instead, or one of the numerical integration functions in `scipy.integrate`.\n",
      "  auc_value = np.trapz(perturbation_curve, x_vals)\n",
      "Computing LIME metrics:  59%|█████▉    | 118/200 [40:22<29:52, 21.86s/it]"
     ]
    },
    {
     "data": {
      "application/vnd.jupyter.widget-view+json": {
       "model_id": "3394bb35eff0444ab9df86db6d3ce9e9",
       "version_major": 2,
       "version_minor": 0
      },
      "text/plain": [
       "  0%|          | 0/1000 [00:00<?, ?it/s]"
      ]
     },
     "metadata": {},
     "output_type": "display_data"
    },
    {
     "name": "stderr",
     "output_type": "stream",
     "text": [
      "C:\\Users\\sonbu\\AppData\\Local\\Temp\\ipykernel_28716\\211464218.py:22: DeprecationWarning: `trapz` is deprecated. Use `trapezoid` instead, or one of the numerical integration functions in `scipy.integrate`.\n",
      "  auc_value = np.trapz(perturbation_curve, x_vals)\n",
      "Computing LIME metrics:  60%|█████▉    | 119/200 [40:44<29:35, 21.91s/it]"
     ]
    },
    {
     "data": {
      "application/vnd.jupyter.widget-view+json": {
       "model_id": "cfe0f0af71c645c2863969a0c5d9f210",
       "version_major": 2,
       "version_minor": 0
      },
      "text/plain": [
       "  0%|          | 0/1000 [00:00<?, ?it/s]"
      ]
     },
     "metadata": {},
     "output_type": "display_data"
    },
    {
     "name": "stderr",
     "output_type": "stream",
     "text": [
      "C:\\Users\\sonbu\\AppData\\Local\\Temp\\ipykernel_28716\\211464218.py:22: DeprecationWarning: `trapz` is deprecated. Use `trapezoid` instead, or one of the numerical integration functions in `scipy.integrate`.\n",
      "  auc_value = np.trapz(perturbation_curve, x_vals)\n",
      "Computing LIME metrics:  60%|██████    | 120/200 [41:06<29:07, 21.84s/it]"
     ]
    },
    {
     "data": {
      "application/vnd.jupyter.widget-view+json": {
       "model_id": "9a8fd4080d7f43d6b97ad2f2313d356d",
       "version_major": 2,
       "version_minor": 0
      },
      "text/plain": [
       "  0%|          | 0/1000 [00:00<?, ?it/s]"
      ]
     },
     "metadata": {},
     "output_type": "display_data"
    },
    {
     "name": "stderr",
     "output_type": "stream",
     "text": [
      "C:\\Users\\sonbu\\AppData\\Local\\Temp\\ipykernel_28716\\211464218.py:22: DeprecationWarning: `trapz` is deprecated. Use `trapezoid` instead, or one of the numerical integration functions in `scipy.integrate`.\n",
      "  auc_value = np.trapz(perturbation_curve, x_vals)\n",
      "Computing LIME metrics:  60%|██████    | 121/200 [41:28<28:55, 21.97s/it]"
     ]
    },
    {
     "data": {
      "application/vnd.jupyter.widget-view+json": {
       "model_id": "274551dd99e04e529bfa86f8ca350ea8",
       "version_major": 2,
       "version_minor": 0
      },
      "text/plain": [
       "  0%|          | 0/1000 [00:00<?, ?it/s]"
      ]
     },
     "metadata": {},
     "output_type": "display_data"
    },
    {
     "name": "stderr",
     "output_type": "stream",
     "text": [
      "C:\\Users\\sonbu\\AppData\\Local\\Temp\\ipykernel_28716\\211464218.py:22: DeprecationWarning: `trapz` is deprecated. Use `trapezoid` instead, or one of the numerical integration functions in `scipy.integrate`.\n",
      "  auc_value = np.trapz(perturbation_curve, x_vals)\n",
      "Computing LIME metrics:  61%|██████    | 122/200 [41:50<28:29, 21.91s/it]"
     ]
    },
    {
     "data": {
      "application/vnd.jupyter.widget-view+json": {
       "model_id": "b2ff4daeeda343909d775dac0886fb8b",
       "version_major": 2,
       "version_minor": 0
      },
      "text/plain": [
       "  0%|          | 0/1000 [00:00<?, ?it/s]"
      ]
     },
     "metadata": {},
     "output_type": "display_data"
    },
    {
     "name": "stderr",
     "output_type": "stream",
     "text": [
      "C:\\Users\\sonbu\\AppData\\Local\\Temp\\ipykernel_28716\\211464218.py:22: DeprecationWarning: `trapz` is deprecated. Use `trapezoid` instead, or one of the numerical integration functions in `scipy.integrate`.\n",
      "  auc_value = np.trapz(perturbation_curve, x_vals)\n",
      "Computing LIME metrics:  62%|██████▏   | 123/200 [42:11<27:46, 21.64s/it]"
     ]
    },
    {
     "data": {
      "application/vnd.jupyter.widget-view+json": {
       "model_id": "82e3338a81d543e39ca403fb7213e5e4",
       "version_major": 2,
       "version_minor": 0
      },
      "text/plain": [
       "  0%|          | 0/1000 [00:00<?, ?it/s]"
      ]
     },
     "metadata": {},
     "output_type": "display_data"
    },
    {
     "name": "stderr",
     "output_type": "stream",
     "text": [
      "C:\\Users\\sonbu\\AppData\\Local\\Temp\\ipykernel_28716\\211464218.py:22: DeprecationWarning: `trapz` is deprecated. Use `trapezoid` instead, or one of the numerical integration functions in `scipy.integrate`.\n",
      "  auc_value = np.trapz(perturbation_curve, x_vals)\n",
      "Computing LIME metrics:  62%|██████▏   | 124/200 [42:33<27:21, 21.60s/it]"
     ]
    },
    {
     "data": {
      "application/vnd.jupyter.widget-view+json": {
       "model_id": "121fbd1fa552449294686da1fab76789",
       "version_major": 2,
       "version_minor": 0
      },
      "text/plain": [
       "  0%|          | 0/1000 [00:00<?, ?it/s]"
      ]
     },
     "metadata": {},
     "output_type": "display_data"
    },
    {
     "name": "stderr",
     "output_type": "stream",
     "text": [
      "C:\\Users\\sonbu\\AppData\\Local\\Temp\\ipykernel_28716\\211464218.py:22: DeprecationWarning: `trapz` is deprecated. Use `trapezoid` instead, or one of the numerical integration functions in `scipy.integrate`.\n",
      "  auc_value = np.trapz(perturbation_curve, x_vals)\n",
      "Computing LIME metrics:  62%|██████▎   | 125/200 [42:55<27:12, 21.77s/it]"
     ]
    },
    {
     "data": {
      "application/vnd.jupyter.widget-view+json": {
       "model_id": "855d046768ac4f90b8742f43fb66c848",
       "version_major": 2,
       "version_minor": 0
      },
      "text/plain": [
       "  0%|          | 0/1000 [00:00<?, ?it/s]"
      ]
     },
     "metadata": {},
     "output_type": "display_data"
    },
    {
     "name": "stderr",
     "output_type": "stream",
     "text": [
      "C:\\Users\\sonbu\\AppData\\Local\\Temp\\ipykernel_28716\\211464218.py:22: DeprecationWarning: `trapz` is deprecated. Use `trapezoid` instead, or one of the numerical integration functions in `scipy.integrate`.\n",
      "  auc_value = np.trapz(perturbation_curve, x_vals)\n",
      "Computing LIME metrics:  63%|██████▎   | 126/200 [43:16<26:46, 21.71s/it]"
     ]
    },
    {
     "data": {
      "application/vnd.jupyter.widget-view+json": {
       "model_id": "43e7b89274d04990a34c6c5b931b7174",
       "version_major": 2,
       "version_minor": 0
      },
      "text/plain": [
       "  0%|          | 0/1000 [00:00<?, ?it/s]"
      ]
     },
     "metadata": {},
     "output_type": "display_data"
    },
    {
     "name": "stderr",
     "output_type": "stream",
     "text": [
      "C:\\Users\\sonbu\\AppData\\Local\\Temp\\ipykernel_28716\\211464218.py:22: DeprecationWarning: `trapz` is deprecated. Use `trapezoid` instead, or one of the numerical integration functions in `scipy.integrate`.\n",
      "  auc_value = np.trapz(perturbation_curve, x_vals)\n",
      "Computing LIME metrics:  64%|██████▎   | 127/200 [43:38<26:32, 21.81s/it]"
     ]
    },
    {
     "data": {
      "application/vnd.jupyter.widget-view+json": {
       "model_id": "79db117dc8554245841458f3ac12b4bf",
       "version_major": 2,
       "version_minor": 0
      },
      "text/plain": [
       "  0%|          | 0/1000 [00:00<?, ?it/s]"
      ]
     },
     "metadata": {},
     "output_type": "display_data"
    },
    {
     "name": "stderr",
     "output_type": "stream",
     "text": [
      "C:\\Users\\sonbu\\AppData\\Local\\Temp\\ipykernel_28716\\211464218.py:22: DeprecationWarning: `trapz` is deprecated. Use `trapezoid` instead, or one of the numerical integration functions in `scipy.integrate`.\n",
      "  auc_value = np.trapz(perturbation_curve, x_vals)\n",
      "Computing LIME metrics:  64%|██████▍   | 128/200 [44:00<26:14, 21.86s/it]"
     ]
    },
    {
     "data": {
      "application/vnd.jupyter.widget-view+json": {
       "model_id": "099d49c4d0b647a2b888cc394393c565",
       "version_major": 2,
       "version_minor": 0
      },
      "text/plain": [
       "  0%|          | 0/1000 [00:00<?, ?it/s]"
      ]
     },
     "metadata": {},
     "output_type": "display_data"
    },
    {
     "name": "stderr",
     "output_type": "stream",
     "text": [
      "C:\\Users\\sonbu\\AppData\\Local\\Temp\\ipykernel_28716\\211464218.py:22: DeprecationWarning: `trapz` is deprecated. Use `trapezoid` instead, or one of the numerical integration functions in `scipy.integrate`.\n",
      "  auc_value = np.trapz(perturbation_curve, x_vals)\n",
      "Computing LIME metrics:  64%|██████▍   | 129/200 [44:21<25:32, 21.59s/it]"
     ]
    },
    {
     "data": {
      "application/vnd.jupyter.widget-view+json": {
       "model_id": "913e296917474b1ab0942010e966fda9",
       "version_major": 2,
       "version_minor": 0
      },
      "text/plain": [
       "  0%|          | 0/1000 [00:00<?, ?it/s]"
      ]
     },
     "metadata": {},
     "output_type": "display_data"
    },
    {
     "name": "stderr",
     "output_type": "stream",
     "text": [
      "C:\\Users\\sonbu\\AppData\\Local\\Temp\\ipykernel_28716\\211464218.py:22: DeprecationWarning: `trapz` is deprecated. Use `trapezoid` instead, or one of the numerical integration functions in `scipy.integrate`.\n",
      "  auc_value = np.trapz(perturbation_curve, x_vals)\n",
      "Computing LIME metrics:  65%|██████▌   | 130/200 [44:43<25:17, 21.68s/it]"
     ]
    },
    {
     "data": {
      "application/vnd.jupyter.widget-view+json": {
       "model_id": "ddf7a9863bc54c248d06796ae5489758",
       "version_major": 2,
       "version_minor": 0
      },
      "text/plain": [
       "  0%|          | 0/1000 [00:00<?, ?it/s]"
      ]
     },
     "metadata": {},
     "output_type": "display_data"
    },
    {
     "name": "stderr",
     "output_type": "stream",
     "text": [
      "C:\\Users\\sonbu\\AppData\\Local\\Temp\\ipykernel_28716\\211464218.py:22: DeprecationWarning: `trapz` is deprecated. Use `trapezoid` instead, or one of the numerical integration functions in `scipy.integrate`.\n",
      "  auc_value = np.trapz(perturbation_curve, x_vals)\n",
      "Computing LIME metrics:  66%|██████▌   | 131/200 [45:07<25:31, 22.19s/it]"
     ]
    },
    {
     "data": {
      "application/vnd.jupyter.widget-view+json": {
       "model_id": "5a526d5ebd444c9e8be634e85a03d09c",
       "version_major": 2,
       "version_minor": 0
      },
      "text/plain": [
       "  0%|          | 0/1000 [00:00<?, ?it/s]"
      ]
     },
     "metadata": {},
     "output_type": "display_data"
    },
    {
     "name": "stderr",
     "output_type": "stream",
     "text": [
      "C:\\Users\\sonbu\\AppData\\Local\\Temp\\ipykernel_28716\\211464218.py:22: DeprecationWarning: `trapz` is deprecated. Use `trapezoid` instead, or one of the numerical integration functions in `scipy.integrate`.\n",
      "  auc_value = np.trapz(perturbation_curve, x_vals)\n",
      "Computing LIME metrics:  66%|██████▌   | 132/200 [45:29<25:09, 22.20s/it]"
     ]
    },
    {
     "data": {
      "application/vnd.jupyter.widget-view+json": {
       "model_id": "e50f75bdf112464e905d0f790f2dbdcf",
       "version_major": 2,
       "version_minor": 0
      },
      "text/plain": [
       "  0%|          | 0/1000 [00:00<?, ?it/s]"
      ]
     },
     "metadata": {},
     "output_type": "display_data"
    },
    {
     "name": "stderr",
     "output_type": "stream",
     "text": [
      "C:\\Users\\sonbu\\AppData\\Local\\Temp\\ipykernel_28716\\211464218.py:22: DeprecationWarning: `trapz` is deprecated. Use `trapezoid` instead, or one of the numerical integration functions in `scipy.integrate`.\n",
      "  auc_value = np.trapz(perturbation_curve, x_vals)\n",
      "Computing LIME metrics:  66%|██████▋   | 133/200 [45:51<24:36, 22.04s/it]"
     ]
    },
    {
     "data": {
      "application/vnd.jupyter.widget-view+json": {
       "model_id": "66167a4f4e3a4717be3c191b47bef4e8",
       "version_major": 2,
       "version_minor": 0
      },
      "text/plain": [
       "  0%|          | 0/1000 [00:00<?, ?it/s]"
      ]
     },
     "metadata": {},
     "output_type": "display_data"
    },
    {
     "name": "stderr",
     "output_type": "stream",
     "text": [
      "C:\\Users\\sonbu\\AppData\\Local\\Temp\\ipykernel_28716\\211464218.py:22: DeprecationWarning: `trapz` is deprecated. Use `trapezoid` instead, or one of the numerical integration functions in `scipy.integrate`.\n",
      "  auc_value = np.trapz(perturbation_curve, x_vals)\n",
      "Computing LIME metrics:  67%|██████▋   | 134/200 [46:13<24:26, 22.21s/it]"
     ]
    },
    {
     "data": {
      "application/vnd.jupyter.widget-view+json": {
       "model_id": "9df663f6ad5e4be1bd9d379884003889",
       "version_major": 2,
       "version_minor": 0
      },
      "text/plain": [
       "  0%|          | 0/1000 [00:00<?, ?it/s]"
      ]
     },
     "metadata": {},
     "output_type": "display_data"
    },
    {
     "name": "stderr",
     "output_type": "stream",
     "text": [
      "C:\\Users\\sonbu\\AppData\\Local\\Temp\\ipykernel_28716\\211464218.py:22: DeprecationWarning: `trapz` is deprecated. Use `trapezoid` instead, or one of the numerical integration functions in `scipy.integrate`.\n",
      "  auc_value = np.trapz(perturbation_curve, x_vals)\n",
      "Computing LIME metrics:  68%|██████▊   | 135/200 [46:36<24:12, 22.35s/it]"
     ]
    },
    {
     "data": {
      "application/vnd.jupyter.widget-view+json": {
       "model_id": "9cbed27e2eed446f84feede87ed2a2cf",
       "version_major": 2,
       "version_minor": 0
      },
      "text/plain": [
       "  0%|          | 0/1000 [00:00<?, ?it/s]"
      ]
     },
     "metadata": {},
     "output_type": "display_data"
    },
    {
     "name": "stderr",
     "output_type": "stream",
     "text": [
      "C:\\Users\\sonbu\\AppData\\Local\\Temp\\ipykernel_28716\\211464218.py:22: DeprecationWarning: `trapz` is deprecated. Use `trapezoid` instead, or one of the numerical integration functions in `scipy.integrate`.\n",
      "  auc_value = np.trapz(perturbation_curve, x_vals)\n",
      "Computing LIME metrics:  68%|██████▊   | 136/200 [46:58<23:45, 22.27s/it]"
     ]
    },
    {
     "data": {
      "application/vnd.jupyter.widget-view+json": {
       "model_id": "073cfb08d08f48e3845f26b63c2dcdf5",
       "version_major": 2,
       "version_minor": 0
      },
      "text/plain": [
       "  0%|          | 0/1000 [00:00<?, ?it/s]"
      ]
     },
     "metadata": {},
     "output_type": "display_data"
    },
    {
     "name": "stderr",
     "output_type": "stream",
     "text": [
      "C:\\Users\\sonbu\\AppData\\Local\\Temp\\ipykernel_28716\\211464218.py:22: DeprecationWarning: `trapz` is deprecated. Use `trapezoid` instead, or one of the numerical integration functions in `scipy.integrate`.\n",
      "  auc_value = np.trapz(perturbation_curve, x_vals)\n",
      "Computing LIME metrics:  68%|██████▊   | 137/200 [47:20<23:21, 22.25s/it]"
     ]
    },
    {
     "data": {
      "application/vnd.jupyter.widget-view+json": {
       "model_id": "8f44fbd4de96447ca2ca2d50ac033e6e",
       "version_major": 2,
       "version_minor": 0
      },
      "text/plain": [
       "  0%|          | 0/1000 [00:00<?, ?it/s]"
      ]
     },
     "metadata": {},
     "output_type": "display_data"
    },
    {
     "name": "stderr",
     "output_type": "stream",
     "text": [
      "C:\\Users\\sonbu\\AppData\\Local\\Temp\\ipykernel_28716\\211464218.py:22: DeprecationWarning: `trapz` is deprecated. Use `trapezoid` instead, or one of the numerical integration functions in `scipy.integrate`.\n",
      "  auc_value = np.trapz(perturbation_curve, x_vals)\n",
      "Computing LIME metrics:  69%|██████▉   | 138/200 [47:43<23:03, 22.32s/it]"
     ]
    },
    {
     "data": {
      "application/vnd.jupyter.widget-view+json": {
       "model_id": "ab5db62b512040e1af0509059577b9ec",
       "version_major": 2,
       "version_minor": 0
      },
      "text/plain": [
       "  0%|          | 0/1000 [00:00<?, ?it/s]"
      ]
     },
     "metadata": {},
     "output_type": "display_data"
    },
    {
     "name": "stderr",
     "output_type": "stream",
     "text": [
      "C:\\Users\\sonbu\\AppData\\Local\\Temp\\ipykernel_28716\\211464218.py:22: DeprecationWarning: `trapz` is deprecated. Use `trapezoid` instead, or one of the numerical integration functions in `scipy.integrate`.\n",
      "  auc_value = np.trapz(perturbation_curve, x_vals)\n",
      "Computing LIME metrics:  70%|██████▉   | 139/200 [48:04<22:28, 22.10s/it]"
     ]
    },
    {
     "data": {
      "application/vnd.jupyter.widget-view+json": {
       "model_id": "d8322ca5adc04d26a56219b2d2fbfafa",
       "version_major": 2,
       "version_minor": 0
      },
      "text/plain": [
       "  0%|          | 0/1000 [00:00<?, ?it/s]"
      ]
     },
     "metadata": {},
     "output_type": "display_data"
    },
    {
     "name": "stderr",
     "output_type": "stream",
     "text": [
      "C:\\Users\\sonbu\\AppData\\Local\\Temp\\ipykernel_28716\\211464218.py:22: DeprecationWarning: `trapz` is deprecated. Use `trapezoid` instead, or one of the numerical integration functions in `scipy.integrate`.\n",
      "  auc_value = np.trapz(perturbation_curve, x_vals)\n",
      "Computing LIME metrics:  70%|███████   | 140/200 [48:27<22:12, 22.20s/it]"
     ]
    },
    {
     "data": {
      "application/vnd.jupyter.widget-view+json": {
       "model_id": "fa6de3ce47ba48028ab8a46b28a0e78b",
       "version_major": 2,
       "version_minor": 0
      },
      "text/plain": [
       "  0%|          | 0/1000 [00:00<?, ?it/s]"
      ]
     },
     "metadata": {},
     "output_type": "display_data"
    },
    {
     "name": "stderr",
     "output_type": "stream",
     "text": [
      "C:\\Users\\sonbu\\AppData\\Local\\Temp\\ipykernel_28716\\211464218.py:22: DeprecationWarning: `trapz` is deprecated. Use `trapezoid` instead, or one of the numerical integration functions in `scipy.integrate`.\n",
      "  auc_value = np.trapz(perturbation_curve, x_vals)\n",
      "Computing LIME metrics:  70%|███████   | 141/200 [48:50<22:12, 22.58s/it]"
     ]
    },
    {
     "data": {
      "application/vnd.jupyter.widget-view+json": {
       "model_id": "868e86105f9b4e09ad785dafdc1d45fc",
       "version_major": 2,
       "version_minor": 0
      },
      "text/plain": [
       "  0%|          | 0/1000 [00:00<?, ?it/s]"
      ]
     },
     "metadata": {},
     "output_type": "display_data"
    },
    {
     "name": "stderr",
     "output_type": "stream",
     "text": [
      "C:\\Users\\sonbu\\AppData\\Local\\Temp\\ipykernel_28716\\211464218.py:22: DeprecationWarning: `trapz` is deprecated. Use `trapezoid` instead, or one of the numerical integration functions in `scipy.integrate`.\n",
      "  auc_value = np.trapz(perturbation_curve, x_vals)\n",
      "Computing LIME metrics:  71%|███████   | 142/200 [49:12<21:43, 22.47s/it]"
     ]
    },
    {
     "data": {
      "application/vnd.jupyter.widget-view+json": {
       "model_id": "27bd43a2a25140d18ac94f48fda32b0c",
       "version_major": 2,
       "version_minor": 0
      },
      "text/plain": [
       "  0%|          | 0/1000 [00:00<?, ?it/s]"
      ]
     },
     "metadata": {},
     "output_type": "display_data"
    },
    {
     "name": "stderr",
     "output_type": "stream",
     "text": [
      "C:\\Users\\sonbu\\AppData\\Local\\Temp\\ipykernel_28716\\211464218.py:22: DeprecationWarning: `trapz` is deprecated. Use `trapezoid` instead, or one of the numerical integration functions in `scipy.integrate`.\n",
      "  auc_value = np.trapz(perturbation_curve, x_vals)\n",
      "Computing LIME metrics:  72%|███████▏  | 143/200 [49:35<21:21, 22.47s/it]"
     ]
    },
    {
     "data": {
      "application/vnd.jupyter.widget-view+json": {
       "model_id": "5ffa68fbe8394193b6ec237a51be7829",
       "version_major": 2,
       "version_minor": 0
      },
      "text/plain": [
       "  0%|          | 0/1000 [00:00<?, ?it/s]"
      ]
     },
     "metadata": {},
     "output_type": "display_data"
    },
    {
     "name": "stderr",
     "output_type": "stream",
     "text": [
      "C:\\Users\\sonbu\\AppData\\Local\\Temp\\ipykernel_28716\\211464218.py:22: DeprecationWarning: `trapz` is deprecated. Use `trapezoid` instead, or one of the numerical integration functions in `scipy.integrate`.\n",
      "  auc_value = np.trapz(perturbation_curve, x_vals)\n",
      "Computing LIME metrics:  72%|███████▏  | 144/200 [49:58<21:05, 22.60s/it]"
     ]
    },
    {
     "data": {
      "application/vnd.jupyter.widget-view+json": {
       "model_id": "c59ae71e462c4c9f991d74590264e476",
       "version_major": 2,
       "version_minor": 0
      },
      "text/plain": [
       "  0%|          | 0/1000 [00:00<?, ?it/s]"
      ]
     },
     "metadata": {},
     "output_type": "display_data"
    },
    {
     "name": "stderr",
     "output_type": "stream",
     "text": [
      "C:\\Users\\sonbu\\AppData\\Local\\Temp\\ipykernel_28716\\211464218.py:22: DeprecationWarning: `trapz` is deprecated. Use `trapezoid` instead, or one of the numerical integration functions in `scipy.integrate`.\n",
      "  auc_value = np.trapz(perturbation_curve, x_vals)\n",
      "Computing LIME metrics:  72%|███████▎  | 145/200 [50:21<20:56, 22.84s/it]"
     ]
    },
    {
     "data": {
      "application/vnd.jupyter.widget-view+json": {
       "model_id": "03329c9268c24640adf571ca3935ab88",
       "version_major": 2,
       "version_minor": 0
      },
      "text/plain": [
       "  0%|          | 0/1000 [00:00<?, ?it/s]"
      ]
     },
     "metadata": {},
     "output_type": "display_data"
    },
    {
     "name": "stderr",
     "output_type": "stream",
     "text": [
      "C:\\Users\\sonbu\\AppData\\Local\\Temp\\ipykernel_28716\\211464218.py:22: DeprecationWarning: `trapz` is deprecated. Use `trapezoid` instead, or one of the numerical integration functions in `scipy.integrate`.\n",
      "  auc_value = np.trapz(perturbation_curve, x_vals)\n",
      "Computing LIME metrics:  73%|███████▎  | 146/200 [50:44<20:32, 22.83s/it]"
     ]
    },
    {
     "data": {
      "application/vnd.jupyter.widget-view+json": {
       "model_id": "2631e09bf96b4e62b7fe9fe1a718daf3",
       "version_major": 2,
       "version_minor": 0
      },
      "text/plain": [
       "  0%|          | 0/1000 [00:00<?, ?it/s]"
      ]
     },
     "metadata": {},
     "output_type": "display_data"
    },
    {
     "name": "stderr",
     "output_type": "stream",
     "text": [
      "C:\\Users\\sonbu\\AppData\\Local\\Temp\\ipykernel_28716\\211464218.py:22: DeprecationWarning: `trapz` is deprecated. Use `trapezoid` instead, or one of the numerical integration functions in `scipy.integrate`.\n",
      "  auc_value = np.trapz(perturbation_curve, x_vals)\n",
      "Computing LIME metrics:  74%|███████▎  | 147/200 [51:18<23:03, 26.10s/it]"
     ]
    },
    {
     "data": {
      "application/vnd.jupyter.widget-view+json": {
       "model_id": "cf939714e53544269c765f3293ae6828",
       "version_major": 2,
       "version_minor": 0
      },
      "text/plain": [
       "  0%|          | 0/1000 [00:00<?, ?it/s]"
      ]
     },
     "metadata": {},
     "output_type": "display_data"
    },
    {
     "name": "stderr",
     "output_type": "stream",
     "text": [
      "C:\\Users\\sonbu\\AppData\\Local\\Temp\\ipykernel_28716\\211464218.py:22: DeprecationWarning: `trapz` is deprecated. Use `trapezoid` instead, or one of the numerical integration functions in `scipy.integrate`.\n",
      "  auc_value = np.trapz(perturbation_curve, x_vals)\n",
      "Computing LIME metrics:  74%|███████▍  | 148/200 [51:42<22:09, 25.57s/it]"
     ]
    },
    {
     "data": {
      "application/vnd.jupyter.widget-view+json": {
       "model_id": "949c6fe86c0442c0b78c62ce86eb75f5",
       "version_major": 2,
       "version_minor": 0
      },
      "text/plain": [
       "  0%|          | 0/1000 [00:00<?, ?it/s]"
      ]
     },
     "metadata": {},
     "output_type": "display_data"
    },
    {
     "name": "stderr",
     "output_type": "stream",
     "text": [
      "C:\\Users\\sonbu\\AppData\\Local\\Temp\\ipykernel_28716\\211464218.py:22: DeprecationWarning: `trapz` is deprecated. Use `trapezoid` instead, or one of the numerical integration functions in `scipy.integrate`.\n",
      "  auc_value = np.trapz(perturbation_curve, x_vals)\n",
      "Computing LIME metrics:  74%|███████▍  | 149/200 [52:06<21:23, 25.17s/it]"
     ]
    },
    {
     "data": {
      "application/vnd.jupyter.widget-view+json": {
       "model_id": "65abde197eff40ed96bc3f6948de8ed2",
       "version_major": 2,
       "version_minor": 0
      },
      "text/plain": [
       "  0%|          | 0/1000 [00:00<?, ?it/s]"
      ]
     },
     "metadata": {},
     "output_type": "display_data"
    },
    {
     "name": "stderr",
     "output_type": "stream",
     "text": [
      "C:\\Users\\sonbu\\AppData\\Local\\Temp\\ipykernel_28716\\211464218.py:22: DeprecationWarning: `trapz` is deprecated. Use `trapezoid` instead, or one of the numerical integration functions in `scipy.integrate`.\n",
      "  auc_value = np.trapz(perturbation_curve, x_vals)\n",
      "Computing LIME metrics:  75%|███████▌  | 150/200 [52:31<20:52, 25.05s/it]"
     ]
    },
    {
     "data": {
      "application/vnd.jupyter.widget-view+json": {
       "model_id": "ce0f2c9cd77b4de6865b1bbc2e83679e",
       "version_major": 2,
       "version_minor": 0
      },
      "text/plain": [
       "  0%|          | 0/1000 [00:00<?, ?it/s]"
      ]
     },
     "metadata": {},
     "output_type": "display_data"
    },
    {
     "name": "stderr",
     "output_type": "stream",
     "text": [
      "C:\\Users\\sonbu\\AppData\\Local\\Temp\\ipykernel_28716\\211464218.py:22: DeprecationWarning: `trapz` is deprecated. Use `trapezoid` instead, or one of the numerical integration functions in `scipy.integrate`.\n",
      "  auc_value = np.trapz(perturbation_curve, x_vals)\n",
      "Computing LIME metrics:  76%|███████▌  | 151/200 [52:56<20:33, 25.18s/it]"
     ]
    },
    {
     "data": {
      "application/vnd.jupyter.widget-view+json": {
       "model_id": "d8a15b60e93d4e9885649aab8cb7f536",
       "version_major": 2,
       "version_minor": 0
      },
      "text/plain": [
       "  0%|          | 0/1000 [00:00<?, ?it/s]"
      ]
     },
     "metadata": {},
     "output_type": "display_data"
    },
    {
     "name": "stderr",
     "output_type": "stream",
     "text": [
      "C:\\Users\\sonbu\\AppData\\Local\\Temp\\ipykernel_28716\\211464218.py:22: DeprecationWarning: `trapz` is deprecated. Use `trapezoid` instead, or one of the numerical integration functions in `scipy.integrate`.\n",
      "  auc_value = np.trapz(perturbation_curve, x_vals)\n",
      "Computing LIME metrics:  76%|███████▌  | 152/200 [53:21<20:00, 25.01s/it]"
     ]
    },
    {
     "data": {
      "application/vnd.jupyter.widget-view+json": {
       "model_id": "bbc7b58ec972487ca6b836a44cf888f2",
       "version_major": 2,
       "version_minor": 0
      },
      "text/plain": [
       "  0%|          | 0/1000 [00:00<?, ?it/s]"
      ]
     },
     "metadata": {},
     "output_type": "display_data"
    },
    {
     "name": "stderr",
     "output_type": "stream",
     "text": [
      "C:\\Users\\sonbu\\AppData\\Local\\Temp\\ipykernel_28716\\211464218.py:22: DeprecationWarning: `trapz` is deprecated. Use `trapezoid` instead, or one of the numerical integration functions in `scipy.integrate`.\n",
      "  auc_value = np.trapz(perturbation_curve, x_vals)\n",
      "Computing LIME metrics:  76%|███████▋  | 153/200 [53:46<19:28, 24.85s/it]"
     ]
    },
    {
     "data": {
      "application/vnd.jupyter.widget-view+json": {
       "model_id": "53251d118edc4b86938e45d01e4eaf04",
       "version_major": 2,
       "version_minor": 0
      },
      "text/plain": [
       "  0%|          | 0/1000 [00:00<?, ?it/s]"
      ]
     },
     "metadata": {},
     "output_type": "display_data"
    },
    {
     "name": "stderr",
     "output_type": "stream",
     "text": [
      "C:\\Users\\sonbu\\AppData\\Local\\Temp\\ipykernel_28716\\211464218.py:22: DeprecationWarning: `trapz` is deprecated. Use `trapezoid` instead, or one of the numerical integration functions in `scipy.integrate`.\n",
      "  auc_value = np.trapz(perturbation_curve, x_vals)\n",
      "Computing LIME metrics:  77%|███████▋  | 154/200 [54:11<19:13, 25.07s/it]"
     ]
    },
    {
     "data": {
      "application/vnd.jupyter.widget-view+json": {
       "model_id": "6226998768a34562b00a6f81d174514c",
       "version_major": 2,
       "version_minor": 0
      },
      "text/plain": [
       "  0%|          | 0/1000 [00:00<?, ?it/s]"
      ]
     },
     "metadata": {},
     "output_type": "display_data"
    },
    {
     "name": "stderr",
     "output_type": "stream",
     "text": [
      "C:\\Users\\sonbu\\AppData\\Local\\Temp\\ipykernel_28716\\211464218.py:22: DeprecationWarning: `trapz` is deprecated. Use `trapezoid` instead, or one of the numerical integration functions in `scipy.integrate`.\n",
      "  auc_value = np.trapz(perturbation_curve, x_vals)\n",
      "Computing LIME metrics:  78%|███████▊  | 155/200 [54:36<18:43, 24.96s/it]"
     ]
    },
    {
     "data": {
      "application/vnd.jupyter.widget-view+json": {
       "model_id": "50e073e613c0431595c9f5cec1257e19",
       "version_major": 2,
       "version_minor": 0
      },
      "text/plain": [
       "  0%|          | 0/1000 [00:00<?, ?it/s]"
      ]
     },
     "metadata": {},
     "output_type": "display_data"
    },
    {
     "name": "stderr",
     "output_type": "stream",
     "text": [
      "C:\\Users\\sonbu\\AppData\\Local\\Temp\\ipykernel_28716\\211464218.py:22: DeprecationWarning: `trapz` is deprecated. Use `trapezoid` instead, or one of the numerical integration functions in `scipy.integrate`.\n",
      "  auc_value = np.trapz(perturbation_curve, x_vals)\n",
      "Computing LIME metrics:  78%|███████▊  | 156/200 [55:00<18:12, 24.83s/it]"
     ]
    },
    {
     "data": {
      "application/vnd.jupyter.widget-view+json": {
       "model_id": "cbca25cdbc39455db420588f0e07d187",
       "version_major": 2,
       "version_minor": 0
      },
      "text/plain": [
       "  0%|          | 0/1000 [00:00<?, ?it/s]"
      ]
     },
     "metadata": {},
     "output_type": "display_data"
    },
    {
     "name": "stderr",
     "output_type": "stream",
     "text": [
      "C:\\Users\\sonbu\\AppData\\Local\\Temp\\ipykernel_28716\\211464218.py:22: DeprecationWarning: `trapz` is deprecated. Use `trapezoid` instead, or one of the numerical integration functions in `scipy.integrate`.\n",
      "  auc_value = np.trapz(perturbation_curve, x_vals)\n",
      "Computing LIME metrics:  78%|███████▊  | 157/200 [55:27<18:06, 25.26s/it]"
     ]
    },
    {
     "data": {
      "application/vnd.jupyter.widget-view+json": {
       "model_id": "94a2dc4811424595a912c9092db6ec10",
       "version_major": 2,
       "version_minor": 0
      },
      "text/plain": [
       "  0%|          | 0/1000 [00:00<?, ?it/s]"
      ]
     },
     "metadata": {},
     "output_type": "display_data"
    },
    {
     "name": "stderr",
     "output_type": "stream",
     "text": [
      "C:\\Users\\sonbu\\AppData\\Local\\Temp\\ipykernel_28716\\211464218.py:22: DeprecationWarning: `trapz` is deprecated. Use `trapezoid` instead, or one of the numerical integration functions in `scipy.integrate`.\n",
      "  auc_value = np.trapz(perturbation_curve, x_vals)\n",
      "Computing LIME metrics:  79%|███████▉  | 158/200 [55:52<17:46, 25.39s/it]"
     ]
    },
    {
     "data": {
      "application/vnd.jupyter.widget-view+json": {
       "model_id": "5d1ddb6f5878452e839f536d916b60cf",
       "version_major": 2,
       "version_minor": 0
      },
      "text/plain": [
       "  0%|          | 0/1000 [00:00<?, ?it/s]"
      ]
     },
     "metadata": {},
     "output_type": "display_data"
    },
    {
     "name": "stderr",
     "output_type": "stream",
     "text": [
      "C:\\Users\\sonbu\\AppData\\Local\\Temp\\ipykernel_28716\\211464218.py:22: DeprecationWarning: `trapz` is deprecated. Use `trapezoid` instead, or one of the numerical integration functions in `scipy.integrate`.\n",
      "  auc_value = np.trapz(perturbation_curve, x_vals)\n",
      "Computing LIME metrics:  80%|███████▉  | 159/200 [56:18<17:24, 25.46s/it]"
     ]
    },
    {
     "data": {
      "application/vnd.jupyter.widget-view+json": {
       "model_id": "b0c51a6a77e44cef877c2ac011479c01",
       "version_major": 2,
       "version_minor": 0
      },
      "text/plain": [
       "  0%|          | 0/1000 [00:00<?, ?it/s]"
      ]
     },
     "metadata": {},
     "output_type": "display_data"
    },
    {
     "name": "stderr",
     "output_type": "stream",
     "text": [
      "C:\\Users\\sonbu\\AppData\\Local\\Temp\\ipykernel_28716\\211464218.py:22: DeprecationWarning: `trapz` is deprecated. Use `trapezoid` instead, or one of the numerical integration functions in `scipy.integrate`.\n",
      "  auc_value = np.trapz(perturbation_curve, x_vals)\n",
      "Computing LIME metrics:  80%|████████  | 160/200 [56:44<17:06, 25.66s/it]"
     ]
    },
    {
     "data": {
      "application/vnd.jupyter.widget-view+json": {
       "model_id": "f9f6b979be8c48789d534b066cd20b6f",
       "version_major": 2,
       "version_minor": 0
      },
      "text/plain": [
       "  0%|          | 0/1000 [00:00<?, ?it/s]"
      ]
     },
     "metadata": {},
     "output_type": "display_data"
    },
    {
     "name": "stderr",
     "output_type": "stream",
     "text": [
      "C:\\Users\\sonbu\\AppData\\Local\\Temp\\ipykernel_28716\\211464218.py:22: DeprecationWarning: `trapz` is deprecated. Use `trapezoid` instead, or one of the numerical integration functions in `scipy.integrate`.\n",
      "  auc_value = np.trapz(perturbation_curve, x_vals)\n",
      "Computing LIME metrics:  80%|████████  | 161/200 [57:09<16:31, 25.43s/it]"
     ]
    },
    {
     "data": {
      "application/vnd.jupyter.widget-view+json": {
       "model_id": "684c7a8458664541ac392a1f6fbb22b3",
       "version_major": 2,
       "version_minor": 0
      },
      "text/plain": [
       "  0%|          | 0/1000 [00:00<?, ?it/s]"
      ]
     },
     "metadata": {},
     "output_type": "display_data"
    },
    {
     "name": "stderr",
     "output_type": "stream",
     "text": [
      "C:\\Users\\sonbu\\AppData\\Local\\Temp\\ipykernel_28716\\211464218.py:22: DeprecationWarning: `trapz` is deprecated. Use `trapezoid` instead, or one of the numerical integration functions in `scipy.integrate`.\n",
      "  auc_value = np.trapz(perturbation_curve, x_vals)\n",
      "Computing LIME metrics:  81%|████████  | 162/200 [57:34<16:00, 25.28s/it]"
     ]
    },
    {
     "data": {
      "application/vnd.jupyter.widget-view+json": {
       "model_id": "74ba9e43bc7442e1876548d9799cacfa",
       "version_major": 2,
       "version_minor": 0
      },
      "text/plain": [
       "  0%|          | 0/1000 [00:00<?, ?it/s]"
      ]
     },
     "metadata": {},
     "output_type": "display_data"
    },
    {
     "name": "stderr",
     "output_type": "stream",
     "text": [
      "C:\\Users\\sonbu\\AppData\\Local\\Temp\\ipykernel_28716\\211464218.py:22: DeprecationWarning: `trapz` is deprecated. Use `trapezoid` instead, or one of the numerical integration functions in `scipy.integrate`.\n",
      "  auc_value = np.trapz(perturbation_curve, x_vals)\n",
      "Computing LIME metrics:  82%|████████▏ | 163/200 [58:00<15:43, 25.51s/it]"
     ]
    },
    {
     "data": {
      "application/vnd.jupyter.widget-view+json": {
       "model_id": "fbddba3c0021454093ae70f962fd83cd",
       "version_major": 2,
       "version_minor": 0
      },
      "text/plain": [
       "  0%|          | 0/1000 [00:00<?, ?it/s]"
      ]
     },
     "metadata": {},
     "output_type": "display_data"
    },
    {
     "name": "stderr",
     "output_type": "stream",
     "text": [
      "C:\\Users\\sonbu\\AppData\\Local\\Temp\\ipykernel_28716\\211464218.py:22: DeprecationWarning: `trapz` is deprecated. Use `trapezoid` instead, or one of the numerical integration functions in `scipy.integrate`.\n",
      "  auc_value = np.trapz(perturbation_curve, x_vals)\n",
      "Computing LIME metrics:  82%|████████▏ | 164/200 [58:25<15:11, 25.33s/it]"
     ]
    },
    {
     "data": {
      "application/vnd.jupyter.widget-view+json": {
       "model_id": "dd29f450b089484aafa98fbf32e08767",
       "version_major": 2,
       "version_minor": 0
      },
      "text/plain": [
       "  0%|          | 0/1000 [00:00<?, ?it/s]"
      ]
     },
     "metadata": {},
     "output_type": "display_data"
    },
    {
     "name": "stderr",
     "output_type": "stream",
     "text": [
      "C:\\Users\\sonbu\\AppData\\Local\\Temp\\ipykernel_28716\\211464218.py:22: DeprecationWarning: `trapz` is deprecated. Use `trapezoid` instead, or one of the numerical integration functions in `scipy.integrate`.\n",
      "  auc_value = np.trapz(perturbation_curve, x_vals)\n",
      "Computing LIME metrics:  82%|████████▎ | 165/200 [58:50<14:44, 25.27s/it]"
     ]
    },
    {
     "data": {
      "application/vnd.jupyter.widget-view+json": {
       "model_id": "3e210590526e40bcbcbc329b40e9e16c",
       "version_major": 2,
       "version_minor": 0
      },
      "text/plain": [
       "  0%|          | 0/1000 [00:00<?, ?it/s]"
      ]
     },
     "metadata": {},
     "output_type": "display_data"
    },
    {
     "name": "stderr",
     "output_type": "stream",
     "text": [
      "C:\\Users\\sonbu\\AppData\\Local\\Temp\\ipykernel_28716\\211464218.py:22: DeprecationWarning: `trapz` is deprecated. Use `trapezoid` instead, or one of the numerical integration functions in `scipy.integrate`.\n",
      "  auc_value = np.trapz(perturbation_curve, x_vals)\n",
      "Computing LIME metrics:  83%|████████▎ | 166/200 [59:16<14:22, 25.38s/it]"
     ]
    },
    {
     "data": {
      "application/vnd.jupyter.widget-view+json": {
       "model_id": "0507d57053434a3185a8e68c9d9814f8",
       "version_major": 2,
       "version_minor": 0
      },
      "text/plain": [
       "  0%|          | 0/1000 [00:00<?, ?it/s]"
      ]
     },
     "metadata": {},
     "output_type": "display_data"
    },
    {
     "name": "stderr",
     "output_type": "stream",
     "text": [
      "C:\\Users\\sonbu\\AppData\\Local\\Temp\\ipykernel_28716\\211464218.py:22: DeprecationWarning: `trapz` is deprecated. Use `trapezoid` instead, or one of the numerical integration functions in `scipy.integrate`.\n",
      "  auc_value = np.trapz(perturbation_curve, x_vals)\n",
      "Computing LIME metrics:  84%|████████▎ | 167/200 [59:41<13:57, 25.39s/it]"
     ]
    },
    {
     "data": {
      "application/vnd.jupyter.widget-view+json": {
       "model_id": "b9eebf9177284cedbd3ca5e5f715e8df",
       "version_major": 2,
       "version_minor": 0
      },
      "text/plain": [
       "  0%|          | 0/1000 [00:00<?, ?it/s]"
      ]
     },
     "metadata": {},
     "output_type": "display_data"
    },
    {
     "name": "stderr",
     "output_type": "stream",
     "text": [
      "C:\\Users\\sonbu\\AppData\\Local\\Temp\\ipykernel_28716\\211464218.py:22: DeprecationWarning: `trapz` is deprecated. Use `trapezoid` instead, or one of the numerical integration functions in `scipy.integrate`.\n",
      "  auc_value = np.trapz(perturbation_curve, x_vals)\n",
      "Computing LIME metrics:  84%|████████▍ | 168/200 [1:00:06<13:25, 25.18s/it]"
     ]
    },
    {
     "data": {
      "application/vnd.jupyter.widget-view+json": {
       "model_id": "e82382ef84414c78832c0ed9307cb8a3",
       "version_major": 2,
       "version_minor": 0
      },
      "text/plain": [
       "  0%|          | 0/1000 [00:00<?, ?it/s]"
      ]
     },
     "metadata": {},
     "output_type": "display_data"
    },
    {
     "name": "stderr",
     "output_type": "stream",
     "text": [
      "C:\\Users\\sonbu\\AppData\\Local\\Temp\\ipykernel_28716\\211464218.py:22: DeprecationWarning: `trapz` is deprecated. Use `trapezoid` instead, or one of the numerical integration functions in `scipy.integrate`.\n",
      "  auc_value = np.trapz(perturbation_curve, x_vals)\n",
      "Computing LIME metrics:  84%|████████▍ | 169/200 [1:00:31<13:03, 25.26s/it]"
     ]
    },
    {
     "data": {
      "application/vnd.jupyter.widget-view+json": {
       "model_id": "37ecae02c6a94a90959cdaf52516c910",
       "version_major": 2,
       "version_minor": 0
      },
      "text/plain": [
       "  0%|          | 0/1000 [00:00<?, ?it/s]"
      ]
     },
     "metadata": {},
     "output_type": "display_data"
    },
    {
     "name": "stderr",
     "output_type": "stream",
     "text": [
      "C:\\Users\\sonbu\\AppData\\Local\\Temp\\ipykernel_28716\\211464218.py:22: DeprecationWarning: `trapz` is deprecated. Use `trapezoid` instead, or one of the numerical integration functions in `scipy.integrate`.\n",
      "  auc_value = np.trapz(perturbation_curve, x_vals)\n",
      "Computing LIME metrics:  85%|████████▌ | 170/200 [1:00:58<12:48, 25.63s/it]"
     ]
    },
    {
     "data": {
      "application/vnd.jupyter.widget-view+json": {
       "model_id": "47e2da2a86db45aab2c30f8fde21091e",
       "version_major": 2,
       "version_minor": 0
      },
      "text/plain": [
       "  0%|          | 0/1000 [00:00<?, ?it/s]"
      ]
     },
     "metadata": {},
     "output_type": "display_data"
    },
    {
     "name": "stderr",
     "output_type": "stream",
     "text": [
      "C:\\Users\\sonbu\\AppData\\Local\\Temp\\ipykernel_28716\\211464218.py:22: DeprecationWarning: `trapz` is deprecated. Use `trapezoid` instead, or one of the numerical integration functions in `scipy.integrate`.\n",
      "  auc_value = np.trapz(perturbation_curve, x_vals)\n",
      "Computing LIME metrics:  86%|████████▌ | 171/200 [1:01:22<12:16, 25.39s/it]"
     ]
    },
    {
     "data": {
      "application/vnd.jupyter.widget-view+json": {
       "model_id": "a644910119d74546bccfee6a01ae6c64",
       "version_major": 2,
       "version_minor": 0
      },
      "text/plain": [
       "  0%|          | 0/1000 [00:00<?, ?it/s]"
      ]
     },
     "metadata": {},
     "output_type": "display_data"
    },
    {
     "name": "stderr",
     "output_type": "stream",
     "text": [
      "C:\\Users\\sonbu\\AppData\\Local\\Temp\\ipykernel_28716\\211464218.py:22: DeprecationWarning: `trapz` is deprecated. Use `trapezoid` instead, or one of the numerical integration functions in `scipy.integrate`.\n",
      "  auc_value = np.trapz(perturbation_curve, x_vals)\n",
      "Computing LIME metrics:  86%|████████▌ | 172/200 [1:01:47<11:47, 25.28s/it]"
     ]
    },
    {
     "data": {
      "application/vnd.jupyter.widget-view+json": {
       "model_id": "2c204553daff437b8dc745d19a7f65fc",
       "version_major": 2,
       "version_minor": 0
      },
      "text/plain": [
       "  0%|          | 0/1000 [00:00<?, ?it/s]"
      ]
     },
     "metadata": {},
     "output_type": "display_data"
    },
    {
     "name": "stderr",
     "output_type": "stream",
     "text": [
      "C:\\Users\\sonbu\\AppData\\Local\\Temp\\ipykernel_28716\\211464218.py:22: DeprecationWarning: `trapz` is deprecated. Use `trapezoid` instead, or one of the numerical integration functions in `scipy.integrate`.\n",
      "  auc_value = np.trapz(perturbation_curve, x_vals)\n",
      "Computing LIME metrics:  86%|████████▋ | 173/200 [1:02:14<11:30, 25.59s/it]"
     ]
    },
    {
     "data": {
      "application/vnd.jupyter.widget-view+json": {
       "model_id": "2695474d3d24497f813574eb71468bc3",
       "version_major": 2,
       "version_minor": 0
      },
      "text/plain": [
       "  0%|          | 0/1000 [00:00<?, ?it/s]"
      ]
     },
     "metadata": {},
     "output_type": "display_data"
    },
    {
     "name": "stderr",
     "output_type": "stream",
     "text": [
      "C:\\Users\\sonbu\\AppData\\Local\\Temp\\ipykernel_28716\\211464218.py:22: DeprecationWarning: `trapz` is deprecated. Use `trapezoid` instead, or one of the numerical integration functions in `scipy.integrate`.\n",
      "  auc_value = np.trapz(perturbation_curve, x_vals)\n",
      "Computing LIME metrics:  87%|████████▋ | 174/200 [1:02:39<11:02, 25.46s/it]"
     ]
    },
    {
     "data": {
      "application/vnd.jupyter.widget-view+json": {
       "model_id": "f6b96d230f0a429a8f88f3524a065b6d",
       "version_major": 2,
       "version_minor": 0
      },
      "text/plain": [
       "  0%|          | 0/1000 [00:00<?, ?it/s]"
      ]
     },
     "metadata": {},
     "output_type": "display_data"
    },
    {
     "name": "stderr",
     "output_type": "stream",
     "text": [
      "C:\\Users\\sonbu\\AppData\\Local\\Temp\\ipykernel_28716\\211464218.py:22: DeprecationWarning: `trapz` is deprecated. Use `trapezoid` instead, or one of the numerical integration functions in `scipy.integrate`.\n",
      "  auc_value = np.trapz(perturbation_curve, x_vals)\n",
      "Computing LIME metrics:  88%|████████▊ | 175/200 [1:03:04<10:33, 25.33s/it]"
     ]
    },
    {
     "data": {
      "application/vnd.jupyter.widget-view+json": {
       "model_id": "b5de86b199fa4fbca61c40258869f795",
       "version_major": 2,
       "version_minor": 0
      },
      "text/plain": [
       "  0%|          | 0/1000 [00:00<?, ?it/s]"
      ]
     },
     "metadata": {},
     "output_type": "display_data"
    },
    {
     "name": "stderr",
     "output_type": "stream",
     "text": [
      "C:\\Users\\sonbu\\AppData\\Local\\Temp\\ipykernel_28716\\211464218.py:22: DeprecationWarning: `trapz` is deprecated. Use `trapezoid` instead, or one of the numerical integration functions in `scipy.integrate`.\n",
      "  auc_value = np.trapz(perturbation_curve, x_vals)\n",
      "Computing LIME metrics:  88%|████████▊ | 176/200 [1:03:31<10:17, 25.71s/it]"
     ]
    },
    {
     "data": {
      "application/vnd.jupyter.widget-view+json": {
       "model_id": "0c7cdf8bad1c44bbbe82aeca3f7063cb",
       "version_major": 2,
       "version_minor": 0
      },
      "text/plain": [
       "  0%|          | 0/1000 [00:00<?, ?it/s]"
      ]
     },
     "metadata": {},
     "output_type": "display_data"
    },
    {
     "name": "stderr",
     "output_type": "stream",
     "text": [
      "C:\\Users\\sonbu\\AppData\\Local\\Temp\\ipykernel_28716\\211464218.py:22: DeprecationWarning: `trapz` is deprecated. Use `trapezoid` instead, or one of the numerical integration functions in `scipy.integrate`.\n",
      "  auc_value = np.trapz(perturbation_curve, x_vals)\n",
      "Computing LIME metrics:  88%|████████▊ | 177/200 [1:03:56<09:46, 25.51s/it]"
     ]
    },
    {
     "data": {
      "application/vnd.jupyter.widget-view+json": {
       "model_id": "0783784d399b432892acd377373206b4",
       "version_major": 2,
       "version_minor": 0
      },
      "text/plain": [
       "  0%|          | 0/1000 [00:00<?, ?it/s]"
      ]
     },
     "metadata": {},
     "output_type": "display_data"
    },
    {
     "name": "stderr",
     "output_type": "stream",
     "text": [
      "C:\\Users\\sonbu\\AppData\\Local\\Temp\\ipykernel_28716\\211464218.py:22: DeprecationWarning: `trapz` is deprecated. Use `trapezoid` instead, or one of the numerical integration functions in `scipy.integrate`.\n",
      "  auc_value = np.trapz(perturbation_curve, x_vals)\n",
      "Computing LIME metrics:  89%|████████▉ | 178/200 [1:04:22<09:26, 25.75s/it]"
     ]
    },
    {
     "data": {
      "application/vnd.jupyter.widget-view+json": {
       "model_id": "76533a4f70f2429e9c673b45d39995ef",
       "version_major": 2,
       "version_minor": 0
      },
      "text/plain": [
       "  0%|          | 0/1000 [00:00<?, ?it/s]"
      ]
     },
     "metadata": {},
     "output_type": "display_data"
    },
    {
     "name": "stderr",
     "output_type": "stream",
     "text": [
      "C:\\Users\\sonbu\\AppData\\Local\\Temp\\ipykernel_28716\\211464218.py:22: DeprecationWarning: `trapz` is deprecated. Use `trapezoid` instead, or one of the numerical integration functions in `scipy.integrate`.\n",
      "  auc_value = np.trapz(perturbation_curve, x_vals)\n",
      "Computing LIME metrics:  90%|████████▉ | 179/200 [1:04:49<09:06, 26.02s/it]"
     ]
    },
    {
     "data": {
      "application/vnd.jupyter.widget-view+json": {
       "model_id": "cb1c60dcf5cc41afb8bc9a7afe969e33",
       "version_major": 2,
       "version_minor": 0
      },
      "text/plain": [
       "  0%|          | 0/1000 [00:00<?, ?it/s]"
      ]
     },
     "metadata": {},
     "output_type": "display_data"
    },
    {
     "name": "stderr",
     "output_type": "stream",
     "text": [
      "C:\\Users\\sonbu\\AppData\\Local\\Temp\\ipykernel_28716\\211464218.py:22: DeprecationWarning: `trapz` is deprecated. Use `trapezoid` instead, or one of the numerical integration functions in `scipy.integrate`.\n",
      "  auc_value = np.trapz(perturbation_curve, x_vals)\n",
      "Computing LIME metrics:  90%|█████████ | 180/200 [1:05:14<08:36, 25.82s/it]"
     ]
    },
    {
     "data": {
      "application/vnd.jupyter.widget-view+json": {
       "model_id": "4690829871d64667bb18df7a5b534e8a",
       "version_major": 2,
       "version_minor": 0
      },
      "text/plain": [
       "  0%|          | 0/1000 [00:00<?, ?it/s]"
      ]
     },
     "metadata": {},
     "output_type": "display_data"
    },
    {
     "name": "stderr",
     "output_type": "stream",
     "text": [
      "C:\\Users\\sonbu\\AppData\\Local\\Temp\\ipykernel_28716\\211464218.py:22: DeprecationWarning: `trapz` is deprecated. Use `trapezoid` instead, or one of the numerical integration functions in `scipy.integrate`.\n",
      "  auc_value = np.trapz(perturbation_curve, x_vals)\n",
      "Computing LIME metrics:  90%|█████████ | 181/200 [1:05:39<08:09, 25.74s/it]"
     ]
    },
    {
     "data": {
      "application/vnd.jupyter.widget-view+json": {
       "model_id": "6b4a906d579243089ce00a483be7fe5c",
       "version_major": 2,
       "version_minor": 0
      },
      "text/plain": [
       "  0%|          | 0/1000 [00:00<?, ?it/s]"
      ]
     },
     "metadata": {},
     "output_type": "display_data"
    },
    {
     "name": "stderr",
     "output_type": "stream",
     "text": [
      "C:\\Users\\sonbu\\AppData\\Local\\Temp\\ipykernel_28716\\211464218.py:22: DeprecationWarning: `trapz` is deprecated. Use `trapezoid` instead, or one of the numerical integration functions in `scipy.integrate`.\n",
      "  auc_value = np.trapz(perturbation_curve, x_vals)\n",
      "Computing LIME metrics:  91%|█████████ | 182/200 [1:06:06<07:48, 26.05s/it]"
     ]
    },
    {
     "data": {
      "application/vnd.jupyter.widget-view+json": {
       "model_id": "00243db03777478ca7e23ff2a97d94b6",
       "version_major": 2,
       "version_minor": 0
      },
      "text/plain": [
       "  0%|          | 0/1000 [00:00<?, ?it/s]"
      ]
     },
     "metadata": {},
     "output_type": "display_data"
    },
    {
     "name": "stderr",
     "output_type": "stream",
     "text": [
      "C:\\Users\\sonbu\\AppData\\Local\\Temp\\ipykernel_28716\\211464218.py:22: DeprecationWarning: `trapz` is deprecated. Use `trapezoid` instead, or one of the numerical integration functions in `scipy.integrate`.\n",
      "  auc_value = np.trapz(perturbation_curve, x_vals)\n",
      "Computing LIME metrics:  92%|█████████▏| 183/200 [1:06:32<07:19, 25.85s/it]"
     ]
    },
    {
     "data": {
      "application/vnd.jupyter.widget-view+json": {
       "model_id": "397848988f224f6581c6c1e09aa3d447",
       "version_major": 2,
       "version_minor": 0
      },
      "text/plain": [
       "  0%|          | 0/1000 [00:00<?, ?it/s]"
      ]
     },
     "metadata": {},
     "output_type": "display_data"
    },
    {
     "name": "stderr",
     "output_type": "stream",
     "text": [
      "C:\\Users\\sonbu\\AppData\\Local\\Temp\\ipykernel_28716\\211464218.py:22: DeprecationWarning: `trapz` is deprecated. Use `trapezoid` instead, or one of the numerical integration functions in `scipy.integrate`.\n",
      "  auc_value = np.trapz(perturbation_curve, x_vals)\n",
      "Computing LIME metrics:  92%|█████████▏| 184/200 [1:06:57<06:50, 25.65s/it]"
     ]
    },
    {
     "data": {
      "application/vnd.jupyter.widget-view+json": {
       "model_id": "aa23963c97a2448d9f374f54f4769406",
       "version_major": 2,
       "version_minor": 0
      },
      "text/plain": [
       "  0%|          | 0/1000 [00:00<?, ?it/s]"
      ]
     },
     "metadata": {},
     "output_type": "display_data"
    },
    {
     "name": "stderr",
     "output_type": "stream",
     "text": [
      "C:\\Users\\sonbu\\AppData\\Local\\Temp\\ipykernel_28716\\211464218.py:22: DeprecationWarning: `trapz` is deprecated. Use `trapezoid` instead, or one of the numerical integration functions in `scipy.integrate`.\n",
      "  auc_value = np.trapz(perturbation_curve, x_vals)\n",
      "Computing LIME metrics:  92%|█████████▎| 185/200 [1:07:23<06:28, 25.88s/it]"
     ]
    },
    {
     "data": {
      "application/vnd.jupyter.widget-view+json": {
       "model_id": "e885e80ef69444009993a50301a09e58",
       "version_major": 2,
       "version_minor": 0
      },
      "text/plain": [
       "  0%|          | 0/1000 [00:00<?, ?it/s]"
      ]
     },
     "metadata": {},
     "output_type": "display_data"
    },
    {
     "name": "stderr",
     "output_type": "stream",
     "text": [
      "C:\\Users\\sonbu\\AppData\\Local\\Temp\\ipykernel_28716\\211464218.py:22: DeprecationWarning: `trapz` is deprecated. Use `trapezoid` instead, or one of the numerical integration functions in `scipy.integrate`.\n",
      "  auc_value = np.trapz(perturbation_curve, x_vals)\n",
      "Computing LIME metrics:  93%|█████████▎| 186/200 [1:07:49<06:00, 25.75s/it]"
     ]
    },
    {
     "data": {
      "application/vnd.jupyter.widget-view+json": {
       "model_id": "a649a75b4ae240b7b28009235687d763",
       "version_major": 2,
       "version_minor": 0
      },
      "text/plain": [
       "  0%|          | 0/1000 [00:00<?, ?it/s]"
      ]
     },
     "metadata": {},
     "output_type": "display_data"
    },
    {
     "name": "stderr",
     "output_type": "stream",
     "text": [
      "C:\\Users\\sonbu\\AppData\\Local\\Temp\\ipykernel_28716\\211464218.py:22: DeprecationWarning: `trapz` is deprecated. Use `trapezoid` instead, or one of the numerical integration functions in `scipy.integrate`.\n",
      "  auc_value = np.trapz(perturbation_curve, x_vals)\n",
      "Computing LIME metrics:  94%|█████████▎| 187/200 [1:08:13<05:30, 25.46s/it]"
     ]
    },
    {
     "data": {
      "application/vnd.jupyter.widget-view+json": {
       "model_id": "037a7de6b0bb487d95c94357e737c700",
       "version_major": 2,
       "version_minor": 0
      },
      "text/plain": [
       "  0%|          | 0/1000 [00:00<?, ?it/s]"
      ]
     },
     "metadata": {},
     "output_type": "display_data"
    },
    {
     "name": "stderr",
     "output_type": "stream",
     "text": [
      "C:\\Users\\sonbu\\AppData\\Local\\Temp\\ipykernel_28716\\211464218.py:22: DeprecationWarning: `trapz` is deprecated. Use `trapezoid` instead, or one of the numerical integration functions in `scipy.integrate`.\n",
      "  auc_value = np.trapz(perturbation_curve, x_vals)\n",
      "Computing LIME metrics:  94%|█████████▍| 188/200 [1:08:40<05:09, 25.82s/it]"
     ]
    },
    {
     "data": {
      "application/vnd.jupyter.widget-view+json": {
       "model_id": "1153e1e9fa86451ebf36fc9f2d7a1b28",
       "version_major": 2,
       "version_minor": 0
      },
      "text/plain": [
       "  0%|          | 0/1000 [00:00<?, ?it/s]"
      ]
     },
     "metadata": {},
     "output_type": "display_data"
    },
    {
     "name": "stderr",
     "output_type": "stream",
     "text": [
      "C:\\Users\\sonbu\\AppData\\Local\\Temp\\ipykernel_28716\\211464218.py:22: DeprecationWarning: `trapz` is deprecated. Use `trapezoid` instead, or one of the numerical integration functions in `scipy.integrate`.\n",
      "  auc_value = np.trapz(perturbation_curve, x_vals)\n",
      "Computing LIME metrics:  94%|█████████▍| 189/200 [1:09:08<04:49, 26.29s/it]"
     ]
    },
    {
     "data": {
      "application/vnd.jupyter.widget-view+json": {
       "model_id": "3342d512b09043a190e30513e43f0425",
       "version_major": 2,
       "version_minor": 0
      },
      "text/plain": [
       "  0%|          | 0/1000 [00:00<?, ?it/s]"
      ]
     },
     "metadata": {},
     "output_type": "display_data"
    },
    {
     "name": "stderr",
     "output_type": "stream",
     "text": [
      "C:\\Users\\sonbu\\AppData\\Local\\Temp\\ipykernel_28716\\211464218.py:22: DeprecationWarning: `trapz` is deprecated. Use `trapezoid` instead, or one of the numerical integration functions in `scipy.integrate`.\n",
      "  auc_value = np.trapz(perturbation_curve, x_vals)\n",
      "Computing LIME metrics:  95%|█████████▌| 190/200 [1:09:33<04:20, 26.09s/it]"
     ]
    },
    {
     "data": {
      "application/vnd.jupyter.widget-view+json": {
       "model_id": "3983c5b619ef445599f4a9bf598f79b9",
       "version_major": 2,
       "version_minor": 0
      },
      "text/plain": [
       "  0%|          | 0/1000 [00:00<?, ?it/s]"
      ]
     },
     "metadata": {},
     "output_type": "display_data"
    },
    {
     "name": "stderr",
     "output_type": "stream",
     "text": [
      "C:\\Users\\sonbu\\AppData\\Local\\Temp\\ipykernel_28716\\211464218.py:22: DeprecationWarning: `trapz` is deprecated. Use `trapezoid` instead, or one of the numerical integration functions in `scipy.integrate`.\n",
      "  auc_value = np.trapz(perturbation_curve, x_vals)\n",
      "Computing LIME metrics:  96%|█████████▌| 191/200 [1:10:00<03:56, 26.24s/it]"
     ]
    },
    {
     "data": {
      "application/vnd.jupyter.widget-view+json": {
       "model_id": "1287a4ede9a641179556f2511e1dc0d6",
       "version_major": 2,
       "version_minor": 0
      },
      "text/plain": [
       "  0%|          | 0/1000 [00:00<?, ?it/s]"
      ]
     },
     "metadata": {},
     "output_type": "display_data"
    },
    {
     "name": "stderr",
     "output_type": "stream",
     "text": [
      "C:\\Users\\sonbu\\AppData\\Local\\Temp\\ipykernel_28716\\211464218.py:22: DeprecationWarning: `trapz` is deprecated. Use `trapezoid` instead, or one of the numerical integration functions in `scipy.integrate`.\n",
      "  auc_value = np.trapz(perturbation_curve, x_vals)\n",
      "Computing LIME metrics:  96%|█████████▌| 192/200 [1:10:25<03:28, 26.01s/it]"
     ]
    },
    {
     "data": {
      "application/vnd.jupyter.widget-view+json": {
       "model_id": "bdd3e7119e4e45158f0c198fe9ee8169",
       "version_major": 2,
       "version_minor": 0
      },
      "text/plain": [
       "  0%|          | 0/1000 [00:00<?, ?it/s]"
      ]
     },
     "metadata": {},
     "output_type": "display_data"
    },
    {
     "name": "stderr",
     "output_type": "stream",
     "text": [
      "C:\\Users\\sonbu\\AppData\\Local\\Temp\\ipykernel_28716\\211464218.py:22: DeprecationWarning: `trapz` is deprecated. Use `trapezoid` instead, or one of the numerical integration functions in `scipy.integrate`.\n",
      "  auc_value = np.trapz(perturbation_curve, x_vals)\n",
      "Computing LIME metrics:  96%|█████████▋| 193/200 [1:10:50<03:00, 25.77s/it]"
     ]
    },
    {
     "data": {
      "application/vnd.jupyter.widget-view+json": {
       "model_id": "377a2222f6ea4bcf8a8fc2053ee0e065",
       "version_major": 2,
       "version_minor": 0
      },
      "text/plain": [
       "  0%|          | 0/1000 [00:00<?, ?it/s]"
      ]
     },
     "metadata": {},
     "output_type": "display_data"
    },
    {
     "name": "stderr",
     "output_type": "stream",
     "text": [
      "C:\\Users\\sonbu\\AppData\\Local\\Temp\\ipykernel_28716\\211464218.py:22: DeprecationWarning: `trapz` is deprecated. Use `trapezoid` instead, or one of the numerical integration functions in `scipy.integrate`.\n",
      "  auc_value = np.trapz(perturbation_curve, x_vals)\n",
      "Computing LIME metrics:  97%|█████████▋| 194/200 [1:11:17<02:36, 26.11s/it]"
     ]
    },
    {
     "data": {
      "application/vnd.jupyter.widget-view+json": {
       "model_id": "024e7904fcdc4b5dbb6f530bf4974fb2",
       "version_major": 2,
       "version_minor": 0
      },
      "text/plain": [
       "  0%|          | 0/1000 [00:00<?, ?it/s]"
      ]
     },
     "metadata": {},
     "output_type": "display_data"
    },
    {
     "name": "stderr",
     "output_type": "stream",
     "text": [
      "C:\\Users\\sonbu\\AppData\\Local\\Temp\\ipykernel_28716\\211464218.py:22: DeprecationWarning: `trapz` is deprecated. Use `trapezoid` instead, or one of the numerical integration functions in `scipy.integrate`.\n",
      "  auc_value = np.trapz(perturbation_curve, x_vals)\n",
      "Computing LIME metrics:  98%|█████████▊| 195/200 [1:11:43<02:09, 26.00s/it]"
     ]
    },
    {
     "data": {
      "application/vnd.jupyter.widget-view+json": {
       "model_id": "944d2e2661e74d6285113084933416a2",
       "version_major": 2,
       "version_minor": 0
      },
      "text/plain": [
       "  0%|          | 0/1000 [00:00<?, ?it/s]"
      ]
     },
     "metadata": {},
     "output_type": "display_data"
    },
    {
     "name": "stderr",
     "output_type": "stream",
     "text": [
      "C:\\Users\\sonbu\\AppData\\Local\\Temp\\ipykernel_28716\\211464218.py:22: DeprecationWarning: `trapz` is deprecated. Use `trapezoid` instead, or one of the numerical integration functions in `scipy.integrate`.\n",
      "  auc_value = np.trapz(perturbation_curve, x_vals)\n",
      "Computing LIME metrics:  98%|█████████▊| 196/200 [1:12:08<01:43, 25.79s/it]"
     ]
    },
    {
     "data": {
      "application/vnd.jupyter.widget-view+json": {
       "model_id": "84eed4441d9d4fa1a01035fe1210d433",
       "version_major": 2,
       "version_minor": 0
      },
      "text/plain": [
       "  0%|          | 0/1000 [00:00<?, ?it/s]"
      ]
     },
     "metadata": {},
     "output_type": "display_data"
    },
    {
     "name": "stderr",
     "output_type": "stream",
     "text": [
      "C:\\Users\\sonbu\\AppData\\Local\\Temp\\ipykernel_28716\\211464218.py:22: DeprecationWarning: `trapz` is deprecated. Use `trapezoid` instead, or one of the numerical integration functions in `scipy.integrate`.\n",
      "  auc_value = np.trapz(perturbation_curve, x_vals)\n",
      "Computing LIME metrics:  98%|█████████▊| 197/200 [1:12:35<01:18, 26.08s/it]"
     ]
    },
    {
     "data": {
      "application/vnd.jupyter.widget-view+json": {
       "model_id": "01d929d61da2463194a56b47135ab4a1",
       "version_major": 2,
       "version_minor": 0
      },
      "text/plain": [
       "  0%|          | 0/1000 [00:00<?, ?it/s]"
      ]
     },
     "metadata": {},
     "output_type": "display_data"
    },
    {
     "name": "stderr",
     "output_type": "stream",
     "text": [
      "C:\\Users\\sonbu\\AppData\\Local\\Temp\\ipykernel_28716\\211464218.py:22: DeprecationWarning: `trapz` is deprecated. Use `trapezoid` instead, or one of the numerical integration functions in `scipy.integrate`.\n",
      "  auc_value = np.trapz(perturbation_curve, x_vals)\n",
      "Computing LIME metrics:  99%|█████████▉| 198/200 [1:12:59<00:50, 25.35s/it]"
     ]
    },
    {
     "data": {
      "application/vnd.jupyter.widget-view+json": {
       "model_id": "e8e6363074dd46b594b3ebe916c56a15",
       "version_major": 2,
       "version_minor": 0
      },
      "text/plain": [
       "  0%|          | 0/1000 [00:00<?, ?it/s]"
      ]
     },
     "metadata": {},
     "output_type": "display_data"
    },
    {
     "name": "stderr",
     "output_type": "stream",
     "text": [
      "C:\\Users\\sonbu\\AppData\\Local\\Temp\\ipykernel_28716\\211464218.py:22: DeprecationWarning: `trapz` is deprecated. Use `trapezoid` instead, or one of the numerical integration functions in `scipy.integrate`.\n",
      "  auc_value = np.trapz(perturbation_curve, x_vals)\n",
      "Computing LIME metrics: 100%|█████████▉| 199/200 [1:13:22<00:24, 24.87s/it]"
     ]
    },
    {
     "data": {
      "application/vnd.jupyter.widget-view+json": {
       "model_id": "c06b4edef1764fbc9219049e36088bd6",
       "version_major": 2,
       "version_minor": 0
      },
      "text/plain": [
       "  0%|          | 0/1000 [00:00<?, ?it/s]"
      ]
     },
     "metadata": {},
     "output_type": "display_data"
    },
    {
     "name": "stderr",
     "output_type": "stream",
     "text": [
      "C:\\Users\\sonbu\\AppData\\Local\\Temp\\ipykernel_28716\\211464218.py:22: DeprecationWarning: `trapz` is deprecated. Use `trapezoid` instead, or one of the numerical integration functions in `scipy.integrate`.\n",
      "  auc_value = np.trapz(perturbation_curve, x_vals)\n",
      "Computing LIME metrics: 100%|██████████| 200/200 [1:13:46<00:00, 22.13s/it]"
     ]
    },
    {
     "name": "stdout",
     "output_type": "stream",
     "text": [
      "\n",
      "Average Metrics across 200 images:\n",
      "Average DAUC: 0.3614\n",
      "Average IAUC: 0.4160\n",
      "Average Deletion Correlation: -0.0688\n",
      "Average Insertion Correlation: 0.1084\n",
      "Average Average Drop: 0.1067\n",
      "Average Increase in Confidence: 0.0348\n"
     ]
    },
    {
     "name": "stderr",
     "output_type": "stream",
     "text": [
      "\n"
     ]
    }
   ],
   "source": [
    "def main():\n",
    "    model = load_model()\n",
    "    val_dataset, val_loader = load_data()\n",
    "    \n",
    "    explainer = lime_image.LimeImageExplainer()\n",
    "    \n",
    "    idx = 0\n",
    "    image_tensor, _ = val_dataset[idx]\n",
    "    input_image = image_tensor.unsqueeze(0).to(device)\n",
    "    \n",
    "    explanation, output, predicted_class = get_lime_explanation(input_image, explainer, model)\n",
    "    \n",
    "    visualize_lime_explanation(image_tensor, explanation, predicted_class)\n",
    "    \n",
    "    visualize_lime_metrics(model, input_image, explanation, output, predicted_class, steps=10)\n",
    "    \n",
    "    print(\"\\nComputing batch metrics on 200 images...\")\n",
    "    results = batch_lime_metrics(model, val_dataset, num_images=200, steps=10)\n",
    "    \n",
    "    print(\"\\nAverage Metrics across 200 images:\")\n",
    "    for metric, value in results.items():\n",
    "        print(f\"Average {metric}: {value:.4f}\")\n",
    "\n",
    "if __name__ == \"__main__\":\n",
    "    model = load_model()\n",
    "    main()"
   ]
  }
 ],
 "metadata": {
  "kernelspec": {
   "display_name": "Python 3",
   "language": "python",
   "name": "python3"
  },
  "language_info": {
   "codemirror_mode": {
    "name": "ipython",
    "version": 3
   },
   "file_extension": ".py",
   "mimetype": "text/x-python",
   "name": "python",
   "nbconvert_exporter": "python",
   "pygments_lexer": "ipython3",
   "version": "3.13.1"
  }
 },
 "nbformat": 4,
 "nbformat_minor": 5
}
