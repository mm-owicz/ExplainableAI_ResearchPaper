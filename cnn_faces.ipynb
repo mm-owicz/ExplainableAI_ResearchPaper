{
 "cells": [
  {
   "cell_type": "code",
   "execution_count": 1,
   "id": "fa500a89",
   "metadata": {},
   "outputs": [
    {
     "name": "stderr",
     "output_type": "stream",
     "text": [
      "c:\\Users\\magma\\AppData\\Local\\Programs\\Python\\Python312\\Lib\\site-packages\\tqdm\\auto.py:21: TqdmWarning: IProgress not found. Please update jupyter and ipywidgets. See https://ipywidgets.readthedocs.io/en/stable/user_install.html\n",
      "  from .autonotebook import tqdm as notebook_tqdm\n"
     ]
    }
   ],
   "source": [
    "import os\n",
    "import re\n",
    "from PIL import Image\n",
    "from torch.utils.data import Dataset\n",
    "from torchvision import transforms\n",
    "from torch.utils.data import DataLoader\n",
    "import torch\n",
    "import torch.nn as nn\n",
    "import torch.optim as optim\n",
    "from facenet_pytorch import InceptionResnetV1\n",
    "from PIL import Image\n"
   ]
  },
  {
   "cell_type": "code",
   "execution_count": 2,
   "id": "fef49bf0",
   "metadata": {},
   "outputs": [],
   "source": [
    "class FaceDataset(Dataset):\n",
    "    def __init__(self, root_dir, transform=None, max_classes=10):\n",
    "        self.root_dir = root_dir\n",
    "        self.transform = transform\n",
    "        self.samples = []\n",
    "        self.class_to_idx = {}\n",
    "        self.idx_to_class = {}\n",
    "        label_names = []\n",
    "\n",
    "        for fname in sorted(os.listdir(root_dir)):\n",
    "            if fname.lower().endswith(('.jpg', '.jpeg', '.png')):\n",
    "                name_without_ext = fname.rsplit('.', 1)[0]\n",
    "                parts = name_without_ext.split('@')\n",
    "                result = '@'.join(parts[:2])\n",
    "                if result not in label_names:\n",
    "                    label_names.append(result)\n",
    "\n",
    "        label_names = label_names[:max_classes]\n",
    "        self.class_to_idx = {name: idx for idx, name in enumerate(label_names)}\n",
    "        self.idx_to_class = {idx: name for name, idx in self.class_to_idx.items()}\n",
    "\n",
    "        for fname in sorted(os.listdir(root_dir)):\n",
    "            if fname.lower().endswith(('.jpg', '.jpeg', '.png')):\n",
    "                name_without_ext = fname.rsplit('.', 1)[0]\n",
    "                parts = name_without_ext.split('@')\n",
    "                label = '@'.join(parts[:2])\n",
    "                if label in self.class_to_idx:\n",
    "                    path = os.path.join(root_dir, fname)\n",
    "                    self.samples.append((path, self.class_to_idx[label]))\n",
    "        self.labels = label_names\n",
    "\n",
    "    def __len__(self):\n",
    "        return len(self.samples)\n",
    "\n",
    "    def __getitem__(self, idx):\n",
    "        img_path, label = self.samples[idx]\n",
    "        image = Image.open(img_path).convert('RGB')\n",
    "        if self.transform:\n",
    "            image = self.transform(image)\n",
    "        return image, label\n"
   ]
  },
  {
   "cell_type": "code",
   "execution_count": 3,
   "id": "bf769534",
   "metadata": {},
   "outputs": [],
   "source": [
    "transform = transforms.Compose([\n",
    "    transforms.Resize((160, 160)),\n",
    "    transforms.ToTensor(),\n",
    "])\n",
    "\n",
    "# limit do 5 klas - długo zajmuje trening :c\n",
    "dataset = FaceDataset(root_dir='data/', transform=transform, max_classes=5)\n",
    "dataloader = DataLoader(dataset, batch_size=16, shuffle=True)"
   ]
  },
  {
   "cell_type": "code",
   "execution_count": 4,
   "id": "c99a6a3e",
   "metadata": {},
   "outputs": [],
   "source": [
    "model = InceptionResnetV1(pretrained='vggface2', classify=True, num_classes=len(dataset.class_to_idx))\n",
    "\n",
    "for param in model.parameters():\n",
    "    param.requires_grad = False\n",
    "\n",
    "for param in model.logits.parameters():\n",
    "    param.requires_grad = True\n",
    "for param in model.last_linear.parameters():\n",
    "    param.requires_grad = True\n",
    "\n",
    "device = torch.device(\"cuda\" if torch.cuda.is_available() else \"cpu\")\n",
    "model = model.to(device)\n",
    "\n",
    "criterion = nn.CrossEntropyLoss()\n",
    "optimizer = optim.Adam(model.parameters(), lr=0.001)\n"
   ]
  },
  {
   "cell_type": "code",
   "execution_count": 5,
   "id": "1f164d44",
   "metadata": {},
   "outputs": [
    {
     "data": {
      "text/plain": [
       "['101506130@N03_identity_0',\n",
       " '102962858@N03_identity_2',\n",
       " '105391338@N08_identity_0',\n",
       " '105546346@N08_identity_2',\n",
       " '105700383@N05_identity_7']"
      ]
     },
     "execution_count": 5,
     "metadata": {},
     "output_type": "execute_result"
    }
   ],
   "source": [
    "dataset.labels"
   ]
  },
  {
   "cell_type": "code",
   "execution_count": 6,
   "id": "946771d9",
   "metadata": {},
   "outputs": [
    {
     "data": {
      "text/plain": [
       "56"
      ]
     },
     "execution_count": 6,
     "metadata": {},
     "output_type": "execute_result"
    }
   ],
   "source": [
    "len(dataset.samples)"
   ]
  },
  {
   "cell_type": "code",
   "execution_count": 7,
   "id": "f1788d21",
   "metadata": {},
   "outputs": [
    {
     "name": "stdout",
     "output_type": "stream",
     "text": [
      "Epoch 1, Loss: 4.5342, Accuracy: 0.5179\n",
      "Epoch 2, Loss: 0.7377, Accuracy: 0.9643\n",
      "Epoch 3, Loss: 0.5012, Accuracy: 0.9821\n"
     ]
    }
   ],
   "source": [
    "for epoch in range(3):\n",
    "    total_loss = 0\n",
    "    correct = 0\n",
    "    model.train()\n",
    "    for imgs, labels in dataloader:\n",
    "        imgs, labels = imgs.to(device), labels.to(device)\n",
    "\n",
    "        optimizer.zero_grad()\n",
    "        outputs = model(imgs)\n",
    "        loss = criterion(outputs, labels)\n",
    "        loss.backward()\n",
    "        optimizer.step()\n",
    "\n",
    "        total_loss += loss.item()\n",
    "        preds = outputs.argmax(1)\n",
    "        correct += (preds == labels).sum().item()\n",
    "\n",
    "    accuracy = correct / len(dataset)\n",
    "    print(f\"Epoch {epoch+1}, Loss: {total_loss:.4f}, Accuracy: {accuracy:.4f}\")"
   ]
  },
  {
   "cell_type": "code",
   "execution_count": 8,
   "id": "10b2c542",
   "metadata": {},
   "outputs": [],
   "source": [
    "torch.save(model.state_dict(), 'facenet_classifier.pth')\n"
   ]
  },
  {
   "cell_type": "code",
   "execution_count": null,
   "id": "691ec6ad",
   "metadata": {},
   "outputs": [],
   "source": [
    "model.load_state_dict(torch.load('facenet_classifier.pth'))\n",
    "model.eval()\n",
    "\n",
    "def predict(image_path, model, transform, class_to_idx):\n",
    "    image = Image.open(image_path).convert('RGB')\n",
    "    image = transform(image).unsqueeze(0).to(device)\n",
    "    with torch.no_grad():\n",
    "        output = model(image)\n",
    "        pred = output.argmax(1).item()\n",
    "    idx_to_class = {v: k for k, v in class_to_idx.items()}\n",
    "    return idx_to_class[pred]\n",
    "\n",
    "predicted_label = predict('data/101506130@N03_identity_0@10902564096_0.jpg', model, transform, dataset.class_to_idx)\n",
    "print(f'Predicted label: {predicted_label}')\n"
   ]
  }
 ],
 "metadata": {
  "kernelspec": {
   "display_name": "Python 3",
   "language": "python",
   "name": "python3"
  },
  "language_info": {
   "codemirror_mode": {
    "name": "ipython",
    "version": 3
   },
   "file_extension": ".py",
   "mimetype": "text/x-python",
   "name": "python",
   "nbconvert_exporter": "python",
   "pygments_lexer": "ipython3",
   "version": "3.12.8"
  }
 },
 "nbformat": 4,
 "nbformat_minor": 5
}
